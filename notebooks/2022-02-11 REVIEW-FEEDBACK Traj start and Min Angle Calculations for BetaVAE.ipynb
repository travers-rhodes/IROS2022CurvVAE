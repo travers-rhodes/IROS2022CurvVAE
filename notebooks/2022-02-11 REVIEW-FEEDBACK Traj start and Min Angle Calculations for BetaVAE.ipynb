{
 "cells": [
  {
   "cell_type": "code",
   "execution_count": 1,
   "id": "de21e9ee",
   "metadata": {
    "ExecuteTime": {
     "end_time": "2022-07-25T23:16:15.024839Z",
     "start_time": "2022-07-25T23:16:11.717732Z"
    }
   },
   "outputs": [
    {
     "name": "stderr",
     "output_type": "stream",
     "text": [
      "Matplotlib created a temporary config/cache directory at /tmp/matplotlib-5z0wi7s1 because the default path (/home/tsr42/.cache/matplotlib) is not a writable directory; it is highly recommended to set the MPLCONFIGDIR environment variable to a writable directory, in particular to speed up the import of Matplotlib and to better support multiprocessing.\n",
      "/home/tsr42/anaconda3/envs/curvvaecuda/lib/python3.6/site-packages/tqdm/auto.py:22: TqdmWarning: IProgress not found. Please update jupyter and ipywidgets. See https://ipywidgets.readthedocs.io/en/stable/user_install.html\n",
      "  from .autonotebook import tqdm as notebook_tqdm\n"
     ]
    }
   ],
   "source": [
    "%matplotlib notebook\n",
    "import matplotlib.pyplot as plt\n",
    "import numpy as np\n",
    "import datetime\n",
    "import torch\n",
    "from torch.nn import functional as F\n",
    "import scipy.stats\n",
    "import sklearn.datasets\n",
    "import glob\n",
    "\n",
    "import sys\n",
    "sys.path.append(\"../\")\n",
    "import curvvae_lib.train.predictive_passthrough_trainer as ppttrainer\n",
    "import curvvae_lib.architecture.passthrough_vae as ptvae\n",
    "import curvvae_lib.architecture.load_model as lm"
   ]
  },
  {
   "cell_type": "code",
   "execution_count": 2,
   "id": "7794a6a4",
   "metadata": {
    "ExecuteTime": {
     "end_time": "2022-07-25T23:16:15.030021Z",
     "start_time": "2022-07-25T23:16:15.027337Z"
    }
   },
   "outputs": [],
   "source": [
    "def plot_closure():\n",
    "    plt.show()\n",
    "    #plt.close()"
   ]
  },
  {
   "cell_type": "markdown",
   "id": "67d5ecde",
   "metadata": {},
   "source": []
  },
  {
   "cell_type": "markdown",
   "id": "de366fa3",
   "metadata": {},
   "source": [
    "# Dataset"
   ]
  },
  {
   "cell_type": "code",
   "execution_count": 3,
   "id": "3a869c64",
   "metadata": {
    "ExecuteTime": {
     "end_time": "2022-07-25T23:16:15.036421Z",
     "start_time": "2022-07-25T23:16:15.031985Z"
    }
   },
   "outputs": [],
   "source": [
    "foodname = \"banana\"\n",
    "foldername = f\"fork_trajectory_{foodname}\"\n",
    "savefilename = f\"{foodname}_clean_pickups\""
   ]
  },
  {
   "cell_type": "code",
   "execution_count": 4,
   "id": "a2e619d4",
   "metadata": {
    "ExecuteTime": {
     "end_time": "2022-07-25T23:16:15.134714Z",
     "start_time": "2022-07-25T23:16:15.038653Z"
    }
   },
   "outputs": [
    {
     "name": "stdout",
     "output_type": "stream",
     "text": [
      "We found 155 pickup attempts\n",
      "(155, 64, 8)\n",
      "[ 0.          0.00227658 -0.00117697  0.0121782  -0.04935249  0.37343377\n",
      " -0.89429268 -0.01921521]\n",
      "[2.63014114e-05 3.40430938e-05 1.00819967e-04 7.90561700e-03\n",
      " 3.18947674e-02 7.03375426e-03 1.11414372e-02]\n",
      "std of:  0.17859106200728153\n"
     ]
    }
   ],
   "source": [
    "train = []\n",
    "training_ts = np.linspace(0,1,64)\n",
    "attempt = 1\n",
    "while True:\n",
    "    try:\n",
    "        raw_vals = np.load(f\"{savefilename}/pickup_attempt{attempt}.npy\")\n",
    "        train.append(raw_vals.T.flatten())\n",
    "    except:\n",
    "        print(f\"We found {attempt-1} pickup attempts\")\n",
    "        break\n",
    "    attempt += 1\n",
    "\n",
    "train = np.array(train).reshape(-1,7,64)\n",
    "all_points = train[:,:,:]\n",
    "\n",
    "time_shape = list(all_points.shape)\n",
    "time_shape[1] = 1\n",
    "# why be smart when you can be dumb\n",
    "t = np.ones(time_shape)\n",
    "for i in range(time_shape[2]):\n",
    "    t[:,:,i] = t[:,:,i] * i / (time_shape[2] + 0.0)\n",
    "\n",
    "all_points = np.concatenate((t, all_points), axis=1)\n",
    "all_points = all_points.transpose(0,2,1)\n",
    "print(all_points.shape)\n",
    "all_poses = all_points.reshape(-1,8)\n",
    "\n",
    "# See http://localhost:8889/notebooks/scratchwork/2021-09-17%20Rotation%20Scaling.ipynb\n",
    "# for why we want quaternion values to be multiplied by 0.16 when position values are in meters \n",
    "# (if the relevant distance scale of the fork is 0.08 meters, ie: 8cm).\n",
    "# scaling term doesn't affect time, so don't use time in calculation\n",
    "\n",
    "mean = np.mean(all_poses, axis=0)\n",
    "mean[0] = 0 # don't scale time\n",
    "variance = np.var(all_poses[:,1:], axis=0) # don't scale time\n",
    "print(mean)\n",
    "print(variance)\n",
    "position_std = np.sqrt(np.max(variance))\n",
    "print(\"std of: \", position_std)\n",
    "position_scaling = 1/position_std\n",
    "rotation_scaling = 0.16 * position_scaling"
   ]
  },
  {
   "cell_type": "code",
   "execution_count": 5,
   "id": "a47a67ac",
   "metadata": {
    "ExecuteTime": {
     "end_time": "2022-07-25T23:16:15.144431Z",
     "start_time": "2022-07-25T23:16:15.136436Z"
    }
   },
   "outputs": [
    {
     "name": "stdout",
     "output_type": "stream",
     "text": [
      "      mean = np.array((0.00227658,-0.00117697,0.01217820,-0.04935249,0.37343377,-0.89429268,-0.01921521))\n",
      "      ps = 5.599384363139225\n",
      "      rs = 0.895901498102276\n",
      "\n"
     ]
    }
   ],
   "source": [
    "def print_to_csv(mean):\n",
    "    string = \"\"\n",
    "    for i,m in enumerate(mean):\n",
    "        string += \"%0.8f\" % m\n",
    "        if i < len(mean)-1:\n",
    "            string+= \",\"\n",
    "    return string\n",
    "print(f\"\\\n",
    "      mean = np.array(({print_to_csv(mean[1:])}))\\n\\\n",
    "      ps = {position_scaling}\\n\\\n",
    "      rs = {rotation_scaling}\\n\")\n",
    "def scale_dataset(input_points):\n",
    "    points = input_points - mean\n",
    "    poss = position_scaling\n",
    "    rts = rotation_scaling\n",
    "    points = (points * np.array((1,poss,poss,poss,rts,rts,rts,rts)))\n",
    "    return points\n",
    "\n",
    "def unscale_poses(input_points):\n",
    "    poss = position_scaling\n",
    "    rts = rotation_scaling\n",
    "    points = (input_points / np.array((poss,poss,poss,rts,rts,rts,rts)))\n",
    "    points = points + mean[1:]\n",
    "    return points \n",
    "    \n",
    "def unscale_dataset(input_points):\n",
    "    poss = position_scaling\n",
    "    rts = rotation_scaling\n",
    "    points = (input_points / np.array((1,poss,poss,poss,rts,rts,rts,rts)))\n",
    "    points = points + mean\n",
    "    return points"
   ]
  },
  {
   "cell_type": "code",
   "execution_count": 6,
   "id": "a7218b9b",
   "metadata": {
    "ExecuteTime": {
     "end_time": "2022-07-25T23:16:15.151859Z",
     "start_time": "2022-07-25T23:16:15.146178Z"
    }
   },
   "outputs": [],
   "source": [
    "dataset = scale_dataset(all_points)\n",
    "t_all_points = torch.tensor(dataset,dtype=torch.float32)"
   ]
  },
  {
   "cell_type": "markdown",
   "id": "23c78561",
   "metadata": {},
   "source": [
    "## 2D VAE Fit to Dataset"
   ]
  },
  {
   "cell_type": "code",
   "execution_count": 7,
   "id": "9b4b2092",
   "metadata": {
    "ExecuteTime": {
     "end_time": "2022-07-25T23:16:15.159920Z",
     "start_time": "2022-07-25T23:16:15.153545Z"
    }
   },
   "outputs": [],
   "source": [
    "def LoadDataBatch(all_points, batchsize, passthroughdim, predictive, device):\n",
    "    \"\"\"Sample Pair of Points from Trajectory\"\"\"\n",
    "    # all_points should be of dimension: num_trajectories, numtimesteps, 1+spatialdims\n",
    "    traj_ids = np.random.choice(all_points.shape[0], batchsize)\n",
    "    t1_ids = np.random.choice(all_points.shape[1], batchsize)\n",
    "    if predictive:\n",
    "        t2_ids = np.random.choice(all_points.shape[1], batchsize)\n",
    "    else:\n",
    "        t2_ids = t1_ids\n",
    "    return (torch.tensor(all_points[traj_ids, t1_ids,passthroughdim:], dtype=torch.float).to(device),\n",
    "            torch.tensor(all_points[traj_ids, t1_ids,:passthroughdim], dtype=torch.float).to(device),\n",
    "            torch.tensor(all_points[traj_ids, t2_ids,passthroughdim:], dtype=torch.float).to(device),\n",
    "            torch.tensor(all_points[traj_ids, t2_ids,:passthroughdim], dtype=torch.float).to(device))"
   ]
  },
  {
   "cell_type": "code",
   "execution_count": 8,
   "id": "be614fa6",
   "metadata": {
    "ExecuteTime": {
     "end_time": "2022-07-25T23:16:15.168873Z",
     "start_time": "2022-07-25T23:16:15.162654Z"
    }
   },
   "outputs": [],
   "source": [
    "class Loader(object):\n",
    "    def __init__(self, all_points, batchsize, passthroughdim, epochnumbatches, predictive, device):\n",
    "        self.all_points = all_points\n",
    "        self.batchsize = batchsize\n",
    "        self.passthroughdim = passthroughdim\n",
    "        self.epochnumbatches = epochnumbatches\n",
    "        self.predictive = predictive\n",
    "        self.device = device\n",
    "        \n",
    "    def __iter__(self):\n",
    "        self.n = 0\n",
    "        return self\n",
    "    \n",
    "    def __next__(self):\n",
    "        if self.n >= self.epochnumbatches:\n",
    "            # https://docs.python.org/3/library/exceptions.html#StopIteration\n",
    "            raise StopIteration\n",
    "        self.n += 1\n",
    "        return LoadDataBatch(self.all_points, self.batchsize, self.passthroughdim, self.predictive, self.device)\n",
    "    \n",
    "\n",
    "device = \"cuda\"\n",
    "train_loader = Loader(dataset[:,np.newaxis,:], 256, 0,10,predictive=False, device=device)\n",
    "  "
   ]
  },
  {
   "cell_type": "code",
   "execution_count": 9,
   "id": "a7067c8c",
   "metadata": {
    "ExecuteTime": {
     "end_time": "2022-07-25T23:16:15.174891Z",
     "start_time": "2022-07-25T23:16:15.170746Z"
    }
   },
   "outputs": [],
   "source": [
    "dataset_dim = dataset.shape[-1]\n",
    "def make_vae(latent_dim):\n",
    "    input_dim = dataset_dim \n",
    "    passthrough_dim = 0\n",
    "    emb_layer_widths = [1000]\n",
    "    recon_layer_widths = [1000]\n",
    "    dtype = torch.float\n",
    "    model = ptvae.FCPassthroughVAE(input_dim, passthrough_dim, latent_dim,\n",
    "        emb_layer_widths, recon_layer_widths, dtype)\n",
    "    return model"
   ]
  },
  {
   "cell_type": "code",
   "execution_count": 10,
   "id": "cea776a6",
   "metadata": {
    "ExecuteTime": {
     "end_time": "2022-07-25T23:16:15.179251Z",
     "start_time": "2022-07-25T23:16:15.177038Z"
    }
   },
   "outputs": [],
   "source": [
    "testname = f\"trainedmodels/{foodname}_\""
   ]
  },
  {
   "cell_type": "code",
   "execution_count": 11,
   "id": "8c329a4b",
   "metadata": {
    "ExecuteTime": {
     "end_time": "2022-07-25T23:16:15.186042Z",
     "start_time": "2022-07-25T23:16:15.180694Z"
    },
    "scrolled": true
   },
   "outputs": [
    {
     "data": {
      "text/plain": [
       "['trainedmodels/banana_lat3_curvreg0_beta0.01_20220209-152954']"
      ]
     },
     "execution_count": 11,
     "metadata": {},
     "output_type": "execute_result"
    }
   ],
   "source": [
    "all_models = ['trainedmodels/banana_lat3_curvreg0_beta0.001_20220209-144826']\n",
    "#all_models = [f'trainedmodels/banana_lat3_curvreg0.001_beta0.001_20220209-120436']\n",
    "all_models = [f'trainedmodels/banana_lat3_curvreg0_beta0.01_20220209-152954']\n",
    "all_models"
   ]
  },
  {
   "cell_type": "code",
   "execution_count": 12,
   "id": "610ac311",
   "metadata": {
    "ExecuteTime": {
     "end_time": "2022-07-25T23:16:15.190087Z",
     "start_time": "2022-07-25T23:16:15.187834Z"
    }
   },
   "outputs": [],
   "source": [
    "latent_lim_values = np.array((2.,2,2))"
   ]
  },
  {
   "cell_type": "code",
   "execution_count": 13,
   "id": "5ab1bc33",
   "metadata": {
    "ExecuteTime": {
     "end_time": "2022-07-25T23:16:15.198664Z",
     "start_time": "2022-07-25T23:16:15.191636Z"
    }
   },
   "outputs": [],
   "source": [
    "modelname = all_models[0]\n",
    "loaded_vae = lm.load_model(modelname)\n"
   ]
  },
  {
   "cell_type": "code",
   "execution_count": 14,
   "id": "bef137f2",
   "metadata": {
    "ExecuteTime": {
     "end_time": "2022-07-25T23:16:15.208110Z",
     "start_time": "2022-07-25T23:16:15.200148Z"
    }
   },
   "outputs": [],
   "source": [
    "import transforms3d as t3d"
   ]
  },
  {
   "cell_type": "code",
   "execution_count": 15,
   "id": "2e8c3552",
   "metadata": {
    "ExecuteTime": {
     "end_time": "2022-07-25T23:16:15.216187Z",
     "start_time": "2022-07-25T23:16:15.209462Z"
    }
   },
   "outputs": [],
   "source": [
    "def loss_function(numpy_latent,target_angle, verbose=False):\n",
    "    targ_ang_rads = 0.4 - (target_angle / 180. * np.pi)\n",
    "    #print(targ_ang_rads)\n",
    "    latent = torch.tensor(numpy_latent,dtype=torch.float32).reshape(1,3)\n",
    "    t = torch.tensor((0),dtype=torch.float32).reshape(1,1)\n",
    "    scaled_pose, _ = loaded_vae.decode(latent,t)\n",
    "    pose = unscale_poses(scaled_pose.detach().cpu().numpy())\n",
    "    quat = pose[0,3:]\n",
    "    base_quat = (0,0,1,0)\n",
    "    quat = t3d.quaternions.qmult(base_quat,quat)\n",
    "    eul = np.array(t3d.euler.quat2euler(quat,axes='sxyz'))\n",
    "    if verbose:\n",
    "        print(eul * 180/np.pi)\n",
    "    return np.sum(np.square(eul - (targ_ang_rads,0,-0.79478576)) * np.array((1,0.0001,0.0001))) # ok for a little side to side, but gotta be correct tilt"
   ]
  },
  {
   "cell_type": "code",
   "execution_count": 16,
   "id": "6e86b904",
   "metadata": {
    "ExecuteTime": {
     "end_time": "2022-07-25T23:16:15.221182Z",
     "start_time": "2022-07-25T23:16:15.218022Z"
    }
   },
   "outputs": [],
   "source": [
    "# https://pyswarms.readthedocs.io/en/latest/examples/usecases/train_neural_network.html#Constructing-a-custom-objective-function\n",
    "def loss_function_batch(x, target_angle):\n",
    "    \"\"\"Higher-level method to do forward_prop in the\n",
    "    whole swarm.\n",
    "\n",
    "    Inputs\n",
    "    ------\n",
    "    x: numpy.ndarray of shape (n_particles, dimensions)\n",
    "        The swarm that will perform the search\n",
    "\n",
    "    Returns\n",
    "    -------\n",
    "    numpy.ndarray of shape (n_particles, )\n",
    "        The computed loss for each particle\n",
    "    \"\"\"\n",
    "    n_particles = x.shape[0]\n",
    "    j = [loss_function(x[i],target_angle) for i in range(n_particles)]\n",
    "    return np.array(j)"
   ]
  },
  {
   "cell_type": "code",
   "execution_count": 17,
   "id": "23ad2c93",
   "metadata": {
    "ExecuteTime": {
     "end_time": "2022-07-25T23:17:01.107749Z",
     "start_time": "2022-07-25T23:16:15.223199Z"
    },
    "scrolled": false
   },
   "outputs": [
    {
     "name": "stderr",
     "output_type": "stream",
     "text": [
      "2022-07-25 19:16:15,296 - pyswarms.single.global_best - INFO - Optimize for 200 iters with {'c1': 0.5, 'c2': 0.3, 'w': 0.9}\n",
      "pyswarms.single.global_best: 100%|██████████|200/200, best_cost=4.45e-5\n",
      "2022-07-25 19:16:16,950 - pyswarms.single.global_best - INFO - Optimization finished | best cost: 4.4506714707206825e-05, best pos: [-1.24974167 -0.0766631   2.0429148 ]\n",
      "2022-07-25 19:16:16,958 - pyswarms.single.global_best - INFO - Optimize for 200 iters with {'c1': 0.5, 'c2': 0.3, 'w': 0.9}\n"
     ]
    },
    {
     "name": "stdout",
     "output_type": "stream",
     "text": [
      "updating best\n"
     ]
    },
    {
     "name": "stderr",
     "output_type": "stream",
     "text": [
      "pyswarms.single.global_best: 100%|██████████|200/200, best_cost=4.39e-5\n",
      "2022-07-25 19:16:18,538 - pyswarms.single.global_best - INFO - Optimization finished | best cost: 4.3915751041641925e-05, best pos: [-0.72739369 -2.85220755  2.09472872]\n",
      "2022-07-25 19:16:18,545 - pyswarms.single.global_best - INFO - Optimize for 200 iters with {'c1': 0.5, 'c2': 0.3, 'w': 0.9}\n"
     ]
    },
    {
     "name": "stdout",
     "output_type": "stream",
     "text": [
      "updating best\n"
     ]
    },
    {
     "name": "stderr",
     "output_type": "stream",
     "text": [
      "pyswarms.single.global_best: 100%|██████████|200/200, best_cost=4.45e-5\n",
      "2022-07-25 19:16:20,115 - pyswarms.single.global_best - INFO - Optimization finished | best cost: 4.4502787075631383e-05, best pos: [-1.20350395 -0.09042027  2.04351418]\n",
      "2022-07-25 19:16:20,121 - pyswarms.single.global_best - INFO - Optimize for 200 iters with {'c1': 0.5, 'c2': 0.3, 'w': 0.9}\n",
      "pyswarms.single.global_best: 100%|██████████|200/200, best_cost=4.39e-5\n",
      "2022-07-25 19:16:21,538 - pyswarms.single.global_best - INFO - Optimization finished | best cost: 4.389041152546449e-05, best pos: [-1.5804171  -2.98966789  2.09215759]\n",
      "2022-07-25 19:16:21,545 - pyswarms.single.global_best - INFO - Optimize for 200 iters with {'c1': 0.5, 'c2': 0.3, 'w': 0.9}\n"
     ]
    },
    {
     "name": "stdout",
     "output_type": "stream",
     "text": [
      "updating best\n"
     ]
    },
    {
     "name": "stderr",
     "output_type": "stream",
     "text": [
      "pyswarms.single.global_best: 100%|██████████|200/200, best_cost=4.34e-5\n",
      "2022-07-25 19:16:23,022 - pyswarms.single.global_best - INFO - Optimization finished | best cost: 4.3422275479014246e-05, best pos: [ 2.64505778 -2.24123117  2.09124194]\n",
      "2022-07-25 19:16:23,028 - pyswarms.single.global_best - INFO - Optimize for 200 iters with {'c1': 0.5, 'c2': 0.3, 'w': 0.9}\n"
     ]
    },
    {
     "name": "stdout",
     "output_type": "stream",
     "text": [
      "updating best\n"
     ]
    },
    {
     "name": "stderr",
     "output_type": "stream",
     "text": [
      "pyswarms.single.global_best: 100%|██████████|200/200, best_cost=4.39e-5\n",
      "2022-07-25 19:16:24,445 - pyswarms.single.global_best - INFO - Optimization finished | best cost: 4.393332717589352e-05, best pos: [-0.75076527 -2.76688814  2.09294608]\n",
      "2022-07-25 19:16:24,451 - pyswarms.single.global_best - INFO - Optimize for 200 iters with {'c1': 0.5, 'c2': 0.3, 'w': 0.9}\n",
      "pyswarms.single.global_best: 100%|██████████|200/200, best_cost=4.4e-5 \n",
      "2022-07-25 19:16:25,922 - pyswarms.single.global_best - INFO - Optimization finished | best cost: 4.399871241329346e-05, best pos: [-0.75540479 -2.44350646  2.08718916]\n",
      "2022-07-25 19:16:25,927 - pyswarms.single.global_best - INFO - Optimize for 200 iters with {'c1': 0.5, 'c2': 0.3, 'w': 0.9}\n",
      "pyswarms.single.global_best: 100%|██████████|200/200, best_cost=4.41e-5\n",
      "2022-07-25 19:16:27,390 - pyswarms.single.global_best - INFO - Optimization finished | best cost: 4.405938258702643e-05, best pos: [-0.85885436 -2.15115711  2.08137351]\n",
      "2022-07-25 19:16:27,395 - pyswarms.single.global_best - INFO - Optimize for 200 iters with {'c1': 0.5, 'c2': 0.3, 'w': 0.9}\n",
      "pyswarms.single.global_best: 100%|██████████|200/200, best_cost=4.39e-5\n",
      "2022-07-25 19:16:29,051 - pyswarms.single.global_best - INFO - Optimization finished | best cost: 4.394087942468664e-05, best pos: [ 0.0424713  -2.92203027  2.10160596]\n",
      "2022-07-25 19:16:29,057 - pyswarms.single.global_best - INFO - Optimize for 200 iters with {'c1': 0.5, 'c2': 0.3, 'w': 0.9}\n",
      "pyswarms.single.global_best: 100%|██████████|200/200, best_cost=4.39e-5\n",
      "2022-07-25 19:16:30,515 - pyswarms.single.global_best - INFO - Optimization finished | best cost: 4.388999951656711e-05, best pos: [-0.38693679 -2.99188384  2.09887082]\n",
      "2022-07-25 19:16:30,521 - pyswarms.single.global_best - INFO - Optimize for 200 iters with {'c1': 0.5, 'c2': 0.3, 'w': 0.9}\n",
      "pyswarms.single.global_best: 100%|██████████|200/200, best_cost=0.0292\n",
      "2022-07-25 19:16:31,992 - pyswarms.single.global_best - INFO - Optimization finished | best cost: 0.029157084128060444, best pos: [-1.10332353 -0.72673842  2.92935606]\n",
      "2022-07-25 19:16:31,999 - pyswarms.single.global_best - INFO - Optimize for 200 iters with {'c1': 0.5, 'c2': 0.3, 'w': 0.9}\n"
     ]
    },
    {
     "name": "stdout",
     "output_type": "stream",
     "text": [
      "updating best\n"
     ]
    },
    {
     "name": "stderr",
     "output_type": "stream",
     "text": [
      "pyswarms.single.global_best: 100%|██████████|200/200, best_cost=0.0292\n",
      "2022-07-25 19:16:33,445 - pyswarms.single.global_best - INFO - Optimization finished | best cost: 0.029249487334702434, best pos: [-0.61776589 -0.84201409  2.8993041 ]\n",
      "2022-07-25 19:16:33,451 - pyswarms.single.global_best - INFO - Optimize for 200 iters with {'c1': 0.5, 'c2': 0.3, 'w': 0.9}\n",
      "pyswarms.single.global_best: 100%|██████████|200/200, best_cost=0.0291\n",
      "2022-07-25 19:16:35,020 - pyswarms.single.global_best - INFO - Optimization finished | best cost: 0.02908442039217958, best pos: [-1.25771885 -0.71996415  2.90519018]\n",
      "2022-07-25 19:16:35,026 - pyswarms.single.global_best - INFO - Optimize for 200 iters with {'c1': 0.5, 'c2': 0.3, 'w': 0.9}\n"
     ]
    },
    {
     "name": "stdout",
     "output_type": "stream",
     "text": [
      "updating best\n"
     ]
    },
    {
     "name": "stderr",
     "output_type": "stream",
     "text": [
      "pyswarms.single.global_best: 100%|██████████|200/200, best_cost=0.0294\n",
      "2022-07-25 19:16:36,725 - pyswarms.single.global_best - INFO - Optimization finished | best cost: 0.029362600556890082, best pos: [-0.26889082 -0.71510594  2.88805115]\n",
      "2022-07-25 19:16:36,732 - pyswarms.single.global_best - INFO - Optimize for 200 iters with {'c1': 0.5, 'c2': 0.3, 'w': 0.9}\n",
      "pyswarms.single.global_best: 100%|██████████|200/200, best_cost=0.0291\n",
      "2022-07-25 19:16:38,260 - pyswarms.single.global_best - INFO - Optimization finished | best cost: 0.029050484011245124, best pos: [-1.42311082 -0.82582565  2.92644197]\n",
      "2022-07-25 19:16:38,267 - pyswarms.single.global_best - INFO - Optimize for 200 iters with {'c1': 0.5, 'c2': 0.3, 'w': 0.9}\n"
     ]
    },
    {
     "name": "stdout",
     "output_type": "stream",
     "text": [
      "updating best\n"
     ]
    },
    {
     "name": "stderr",
     "output_type": "stream",
     "text": [
      "pyswarms.single.global_best: 100%|██████████|200/200, best_cost=0.0289\n",
      "2022-07-25 19:16:39,757 - pyswarms.single.global_best - INFO - Optimization finished | best cost: 0.02888499045942051, best pos: [-2.40510984 -0.98495732  2.93280035]\n",
      "2022-07-25 19:16:39,765 - pyswarms.single.global_best - INFO - Optimize for 200 iters with {'c1': 0.5, 'c2': 0.3, 'w': 0.9}\n"
     ]
    },
    {
     "name": "stdout",
     "output_type": "stream",
     "text": [
      "updating best\n"
     ]
    },
    {
     "name": "stderr",
     "output_type": "stream",
     "text": [
      "pyswarms.single.global_best: 100%|██████████|200/200, best_cost=0.029\n",
      "2022-07-25 19:16:41,214 - pyswarms.single.global_best - INFO - Optimization finished | best cost: 0.028968652114155162, best pos: [-1.98229479 -0.84557595  2.91449753]\n",
      "2022-07-25 19:16:41,221 - pyswarms.single.global_best - INFO - Optimize for 200 iters with {'c1': 0.5, 'c2': 0.3, 'w': 0.9}\n",
      "pyswarms.single.global_best: 100%|██████████|200/200, best_cost=0.0291\n",
      "2022-07-25 19:16:42,690 - pyswarms.single.global_best - INFO - Optimization finished | best cost: 0.029068577015928757, best pos: [-2.26585266 -0.80385247  2.90636487]\n",
      "2022-07-25 19:16:42,696 - pyswarms.single.global_best - INFO - Optimize for 200 iters with {'c1': 0.5, 'c2': 0.3, 'w': 0.9}\n",
      "pyswarms.single.global_best: 100%|██████████|200/200, best_cost=0.0289\n",
      "2022-07-25 19:16:44,323 - pyswarms.single.global_best - INFO - Optimization finished | best cost: 0.02893103979130137, best pos: [-1.36409841 -0.94533753  2.91694666]\n",
      "2022-07-25 19:16:44,331 - pyswarms.single.global_best - INFO - Optimize for 200 iters with {'c1': 0.5, 'c2': 0.3, 'w': 0.9}\n",
      "pyswarms.single.global_best: 100%|██████████|200/200, best_cost=0.0289\n",
      "2022-07-25 19:16:45,842 - pyswarms.single.global_best - INFO - Optimization finished | best cost: 0.028927964849506153, best pos: [-2.19834538 -0.96064917  2.93700137]\n",
      "2022-07-25 19:16:45,849 - pyswarms.single.global_best - INFO - Optimize for 200 iters with {'c1': 0.5, 'c2': 0.3, 'w': 0.9}\n",
      "pyswarms.single.global_best: 100%|██████████|200/200, best_cost=0.187\n",
      "2022-07-25 19:16:47,364 - pyswarms.single.global_best - INFO - Optimization finished | best cost: 0.18689531991162375, best pos: [-0.76657102 -0.84577907  2.89652121]\n",
      "2022-07-25 19:16:47,373 - pyswarms.single.global_best - INFO - Optimize for 200 iters with {'c1': 0.5, 'c2': 0.3, 'w': 0.9}\n"
     ]
    },
    {
     "name": "stdout",
     "output_type": "stream",
     "text": [
      "updating best\n"
     ]
    },
    {
     "name": "stderr",
     "output_type": "stream",
     "text": [
      "pyswarms.single.global_best: 100%|██████████|200/200, best_cost=0.186\n",
      "2022-07-25 19:16:49,103 - pyswarms.single.global_best - INFO - Optimization finished | best cost: 0.1863174199620724, best pos: [-1.87046769 -0.99101881  2.92446257]\n",
      "2022-07-25 19:16:49,110 - pyswarms.single.global_best - INFO - Optimize for 200 iters with {'c1': 0.5, 'c2': 0.3, 'w': 0.9}\n"
     ]
    },
    {
     "name": "stdout",
     "output_type": "stream",
     "text": [
      "updating best\n"
     ]
    },
    {
     "name": "stderr",
     "output_type": "stream",
     "text": [
      "pyswarms.single.global_best: 100%|██████████|200/200, best_cost=0.186\n",
      "2022-07-25 19:16:50,625 - pyswarms.single.global_best - INFO - Optimization finished | best cost: 0.1864316322231737, best pos: [-1.39812148 -0.92936399  2.9132612 ]\n",
      "2022-07-25 19:16:50,633 - pyswarms.single.global_best - INFO - Optimize for 200 iters with {'c1': 0.5, 'c2': 0.3, 'w': 0.9}\n",
      "pyswarms.single.global_best: 100%|██████████|200/200, best_cost=0.186\n",
      "2022-07-25 19:16:52,160 - pyswarms.single.global_best - INFO - Optimization finished | best cost: 0.1864092913351347, best pos: [-1.30906081 -0.95564429  2.9157194 ]\n",
      "2022-07-25 19:16:52,168 - pyswarms.single.global_best - INFO - Optimize for 200 iters with {'c1': 0.5, 'c2': 0.3, 'w': 0.9}\n",
      "pyswarms.single.global_best: 100%|██████████|200/200, best_cost=0.188\n",
      "2022-07-25 19:16:53,642 - pyswarms.single.global_best - INFO - Optimization finished | best cost: 0.18812293262490443, best pos: [-0.22981294 -0.44345184  2.89790663]\n",
      "2022-07-25 19:16:53,647 - pyswarms.single.global_best - INFO - Optimize for 200 iters with {'c1': 0.5, 'c2': 0.3, 'w': 0.9}\n",
      "pyswarms.single.global_best: 100%|██████████|200/200, best_cost=0.187\n",
      "2022-07-25 19:16:55,067 - pyswarms.single.global_best - INFO - Optimization finished | best cost: 0.1865320294071627, best pos: [-1.43140028 -0.89121035  2.90695239]\n",
      "2022-07-25 19:16:55,074 - pyswarms.single.global_best - INFO - Optimize for 200 iters with {'c1': 0.5, 'c2': 0.3, 'w': 0.9}\n",
      "pyswarms.single.global_best: 100%|██████████|200/200, best_cost=0.187\n",
      "2022-07-25 19:16:56,577 - pyswarms.single.global_best - INFO - Optimization finished | best cost: 0.18664151611591967, best pos: [-1.69085332 -0.78582426  2.90780676]\n",
      "2022-07-25 19:16:56,583 - pyswarms.single.global_best - INFO - Optimize for 200 iters with {'c1': 0.5, 'c2': 0.3, 'w': 0.9}\n",
      "pyswarms.single.global_best: 100%|██████████|200/200, best_cost=0.186\n",
      "2022-07-25 19:16:58,033 - pyswarms.single.global_best - INFO - Optimization finished | best cost: 0.18624782970494155, best pos: [-2.20007772 -1.07386418  2.94487741]\n",
      "2022-07-25 19:16:58,041 - pyswarms.single.global_best - INFO - Optimize for 200 iters with {'c1': 0.5, 'c2': 0.3, 'w': 0.9}\n"
     ]
    },
    {
     "name": "stdout",
     "output_type": "stream",
     "text": [
      "updating best\n"
     ]
    },
    {
     "name": "stderr",
     "output_type": "stream",
     "text": [
      "pyswarms.single.global_best: 100%|██████████|200/200, best_cost=0.187\n",
      "2022-07-25 19:16:59,639 - pyswarms.single.global_best - INFO - Optimization finished | best cost: 0.18730026849695386, best pos: [-0.76469811 -0.6530216   2.90367867]\n",
      "2022-07-25 19:16:59,646 - pyswarms.single.global_best - INFO - Optimize for 200 iters with {'c1': 0.5, 'c2': 0.3, 'w': 0.9}\n",
      "pyswarms.single.global_best: 100%|██████████|200/200, best_cost=0.187\n",
      "2022-07-25 19:17:01,104 - pyswarms.single.global_best - INFO - Optimization finished | best cost: 0.1869749809118967, best pos: [-1.10697351 -0.713414    2.88924161]\n"
     ]
    },
    {
     "name": "stdout",
     "output_type": "stream",
     "text": [
      "[(4.3422275479014246e-05, array([ 2.64505778, -2.24123117,  2.09124194])), (0.02888499045942051, array([-2.40510984, -0.98495732,  2.93280035])), (0.18624782970494155, array([-2.20007772, -1.07386418,  2.94487741]))]\n"
     ]
    }
   ],
   "source": [
    "import pyswarms as ps\n",
    "\n",
    "final_answers = []\n",
    "for target_ang in [30,45,60]:\n",
    "    lim = 3\n",
    "    curbest = None\n",
    "    while curbest is None:# or (np.sqrt(curbest[0])/np.pi) * 180 > 1: # keep expanding the search radius until within 1 degree of desired angle\n",
    "        #lim += 0.5\n",
    "        for _ in range(10):\n",
    "            # Set-up hyperparameters\n",
    "            options = {'c1': 0.5, 'c2': 0.3, 'w':0.9}\n",
    "\n",
    "            # Call instance of GlobalBestPSO\n",
    "            optimizer = ps.single.GlobalBestPSO(n_particles=30, dimensions=3,\n",
    "                                                options=options, bounds=((-lim,-lim,-lim),(lim,lim,lim)))\n",
    "\n",
    "            # Perform optimization\n",
    "            stats = optimizer.optimize(loss_function_batch, target_angle=target_ang, iters=200)\n",
    "\n",
    "            if curbest is None or stats[0] < curbest[0]:\n",
    "                print(\"updating best\")\n",
    "                curbest = stats\n",
    "    final_answers.append(curbest)\n",
    "print(final_answers)"
   ]
  },
  {
   "cell_type": "code",
   "execution_count": 18,
   "id": "f9aa6cbe",
   "metadata": {
    "ExecuteTime": {
     "end_time": "2022-07-25T23:17:01.112100Z",
     "start_time": "2022-07-25T23:17:01.109264Z"
    }
   },
   "outputs": [
    {
     "name": "stdout",
     "output_type": "stream",
     "text": [
      "0.3775538659244098\n",
      "9.737752825997088\n",
      "24.726818599069475\n"
     ]
    }
   ],
   "source": [
    "for fb in final_answers:\n",
    "    print(np.sqrt(fb[0]) / np.pi * 180)"
   ]
  },
  {
   "cell_type": "code",
   "execution_count": 19,
   "id": "3bc29e97",
   "metadata": {
    "ExecuteTime": {
     "end_time": "2022-07-25T23:17:01.118356Z",
     "start_time": "2022-07-25T23:17:01.113455Z"
    },
    "scrolled": true
   },
   "outputs": [
    {
     "name": "stdout",
     "output_type": "stream",
     "text": [
      "[2.6450577835825406,-2.2412311691819014,2.0912419381190945],\n",
      "[-2.405109843025896,-0.984957320738932,2.9328003540472896],\n",
      "[-2.2000777160967875,-1.0738641815565706,2.9448774111432066],\n"
     ]
    }
   ],
   "source": [
    "for fb in final_answers:\n",
    "    print(f\"[{','.join([f'{s}' for s in fb[1]])}],\")"
   ]
  },
  {
   "cell_type": "code",
   "execution_count": 20,
   "id": "ee5a6983",
   "metadata": {
    "ExecuteTime": {
     "end_time": "2022-07-25T23:17:01.124507Z",
     "start_time": "2022-07-25T23:17:01.119951Z"
    }
   },
   "outputs": [
    {
     "name": "stdout",
     "output_type": "stream",
     "text": [
      "[-7.06956376 -5.60412063 -8.22040687]\n",
      "[-12.35482768 -10.35527469  -0.67235714]\n",
      "[-12.35915129 -10.42374576  -0.72029321]\n"
     ]
    }
   ],
   "source": [
    "for fb in final_answers:\n",
    "    loss_function(fb[1],1000,True)\n"
   ]
  },
  {
   "cell_type": "code",
   "execution_count": 21,
   "id": "7f3200f5",
   "metadata": {
    "ExecuteTime": {
     "end_time": "2022-07-25T23:17:01.128722Z",
     "start_time": "2022-07-25T23:17:01.125696Z"
    }
   },
   "outputs": [
    {
     "data": {
      "text/plain": [
       "22.91831180523293"
      ]
     },
     "execution_count": 21,
     "metadata": {},
     "output_type": "execute_result"
    }
   ],
   "source": [
    "0.4*180/np.pi"
   ]
  },
  {
   "cell_type": "code",
   "execution_count": 22,
   "id": "82ae1153",
   "metadata": {
    "ExecuteTime": {
     "end_time": "2022-07-25T23:17:01.145700Z",
     "start_time": "2022-07-25T23:17:01.129978Z"
    }
   },
   "outputs": [
    {
     "data": {
      "text/plain": [
       "'\\n[0.2478165554759397,-1.249154366817157,-1.5198855746754794],\\n[0.10129095212372306,-2.8613022436706315,0.9409312592318927],\\n[0.5889920784970968,-2.3291049154306642,2.6950374180789747],\\n'"
      ]
     },
     "execution_count": 22,
     "metadata": {},
     "output_type": "execute_result"
    }
   ],
   "source": [
    "\"\"\"\n",
    "[0.2478165554759397,-1.249154366817157,-1.5198855746754794],\n",
    "[0.10129095212372306,-2.8613022436706315,0.9409312592318927],\n",
    "[0.5889920784970968,-2.3291049154306642,2.6950374180789747],\n",
    "\"\"\""
   ]
  }
 ],
 "metadata": {
  "kernelspec": {
   "display_name": "Python 3",
   "language": "python",
   "name": "python3"
  },
  "language_info": {
   "codemirror_mode": {
    "name": "ipython",
    "version": 3
   },
   "file_extension": ".py",
   "mimetype": "text/x-python",
   "name": "python",
   "nbconvert_exporter": "python",
   "pygments_lexer": "ipython3",
   "version": "3.6.13"
  }
 },
 "nbformat": 4,
 "nbformat_minor": 5
}
