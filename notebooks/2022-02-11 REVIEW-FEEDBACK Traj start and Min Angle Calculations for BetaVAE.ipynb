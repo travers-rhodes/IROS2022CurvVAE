{
 "cells": [
  {
   "cell_type": "code",
   "execution_count": 1,
   "id": "de21e9ee",
   "metadata": {
    "ExecuteTime": {
     "end_time": "2022-07-26T14:12:41.384890Z",
     "start_time": "2022-07-26T14:12:39.144493Z"
    }
   },
   "outputs": [
    {
     "name": "stderr",
     "output_type": "stream",
     "text": [
      "Matplotlib created a temporary config/cache directory at /tmp/matplotlib-4597upsh because the default path (/home/tsr42/.cache/matplotlib) is not a writable directory; it is highly recommended to set the MPLCONFIGDIR environment variable to a writable directory, in particular to speed up the import of Matplotlib and to better support multiprocessing.\n",
      "/home/tsr42/anaconda3/envs/curvvaecuda/lib/python3.6/site-packages/tqdm/auto.py:22: TqdmWarning: IProgress not found. Please update jupyter and ipywidgets. See https://ipywidgets.readthedocs.io/en/stable/user_install.html\n",
      "  from .autonotebook import tqdm as notebook_tqdm\n"
     ]
    }
   ],
   "source": [
    "%matplotlib notebook\n",
    "import matplotlib.pyplot as plt\n",
    "import numpy as np\n",
    "import datetime\n",
    "import torch\n",
    "from torch.nn import functional as F\n",
    "import scipy.stats\n",
    "import sklearn.datasets\n",
    "import glob\n",
    "\n",
    "import sys\n",
    "sys.path.append(\"../\")\n",
    "import curvvae_lib.train.predictive_passthrough_trainer as ppttrainer\n",
    "import curvvae_lib.architecture.passthrough_vae as ptvae\n",
    "import curvvae_lib.architecture.load_model as lm"
   ]
  },
  {
   "cell_type": "code",
   "execution_count": 2,
   "id": "7794a6a4",
   "metadata": {
    "ExecuteTime": {
     "end_time": "2022-07-26T14:12:41.388710Z",
     "start_time": "2022-07-26T14:12:41.386435Z"
    }
   },
   "outputs": [],
   "source": [
    "def plot_closure():\n",
    "    plt.show()\n",
    "    #plt.close()"
   ]
  },
  {
   "cell_type": "markdown",
   "id": "67d5ecde",
   "metadata": {},
   "source": []
  },
  {
   "cell_type": "markdown",
   "id": "de366fa3",
   "metadata": {},
   "source": [
    "# Dataset"
   ]
  },
  {
   "cell_type": "code",
   "execution_count": 3,
   "id": "3a869c64",
   "metadata": {
    "ExecuteTime": {
     "end_time": "2022-07-26T14:12:41.394513Z",
     "start_time": "2022-07-26T14:12:41.390193Z"
    }
   },
   "outputs": [],
   "source": [
    "foodname = \"banana\"\n",
    "foldername = f\"fork_trajectory_{foodname}\"\n",
    "savefilename = f\"{foodname}_clean_pickups\""
   ]
  },
  {
   "cell_type": "code",
   "execution_count": 4,
   "id": "a2e619d4",
   "metadata": {
    "ExecuteTime": {
     "end_time": "2022-07-26T14:12:41.470028Z",
     "start_time": "2022-07-26T14:12:41.395723Z"
    }
   },
   "outputs": [
    {
     "name": "stdout",
     "output_type": "stream",
     "text": [
      "We found 155 pickup attempts\n",
      "(155, 64, 8)\n",
      "[ 0.          0.00227658 -0.00117697  0.0121782  -0.04935249  0.37343377\n",
      " -0.89429268 -0.01921521]\n",
      "[2.63014114e-05 3.40430938e-05 1.00819967e-04 7.90561700e-03\n",
      " 3.18947674e-02 7.03375426e-03 1.11414372e-02]\n",
      "std of:  0.17859106200728153\n"
     ]
    }
   ],
   "source": [
    "train = []\n",
    "training_ts = np.linspace(0,1,64)\n",
    "attempt = 1\n",
    "while True:\n",
    "    try:\n",
    "        raw_vals = np.load(f\"{savefilename}/pickup_attempt{attempt}.npy\")\n",
    "        train.append(raw_vals.T.flatten())\n",
    "    except:\n",
    "        print(f\"We found {attempt-1} pickup attempts\")\n",
    "        break\n",
    "    attempt += 1\n",
    "\n",
    "train = np.array(train).reshape(-1,7,64)\n",
    "all_points = train[:,:,:]\n",
    "\n",
    "time_shape = list(all_points.shape)\n",
    "time_shape[1] = 1\n",
    "# why be smart when you can be dumb\n",
    "t = np.ones(time_shape)\n",
    "for i in range(time_shape[2]):\n",
    "    t[:,:,i] = t[:,:,i] * i / (time_shape[2] + 0.0)\n",
    "\n",
    "all_points = np.concatenate((t, all_points), axis=1)\n",
    "all_points = all_points.transpose(0,2,1)\n",
    "print(all_points.shape)\n",
    "all_poses = all_points.reshape(-1,8)\n",
    "\n",
    "# See http://localhost:8889/notebooks/scratchwork/2021-09-17%20Rotation%20Scaling.ipynb\n",
    "# for why we want quaternion values to be multiplied by 0.16 when position values are in meters \n",
    "# (if the relevant distance scale of the fork is 0.08 meters, ie: 8cm).\n",
    "# scaling term doesn't affect time, so don't use time in calculation\n",
    "\n",
    "mean = np.mean(all_poses, axis=0)\n",
    "mean[0] = 0 # don't scale time\n",
    "variance = np.var(all_poses[:,1:], axis=0) # don't scale time\n",
    "print(mean)\n",
    "print(variance)\n",
    "position_std = np.sqrt(np.max(variance))\n",
    "print(\"std of: \", position_std)\n",
    "position_scaling = 1/position_std\n",
    "rotation_scaling = 0.16 * position_scaling"
   ]
  },
  {
   "cell_type": "code",
   "execution_count": 5,
   "id": "a47a67ac",
   "metadata": {
    "ExecuteTime": {
     "end_time": "2022-07-26T14:12:41.476802Z",
     "start_time": "2022-07-26T14:12:41.471150Z"
    }
   },
   "outputs": [
    {
     "name": "stdout",
     "output_type": "stream",
     "text": [
      "      mean = np.array((0.00227658,-0.00117697,0.01217820,-0.04935249,0.37343377,-0.89429268,-0.01921521))\n",
      "      ps = 5.599384363139225\n",
      "      rs = 0.895901498102276\n",
      "\n"
     ]
    }
   ],
   "source": [
    "def print_to_csv(mean):\n",
    "    string = \"\"\n",
    "    for i,m in enumerate(mean):\n",
    "        string += \"%0.8f\" % m\n",
    "        if i < len(mean)-1:\n",
    "            string+= \",\"\n",
    "    return string\n",
    "print(f\"\\\n",
    "      mean = np.array(({print_to_csv(mean[1:])}))\\n\\\n",
    "      ps = {position_scaling}\\n\\\n",
    "      rs = {rotation_scaling}\\n\")\n",
    "def scale_dataset(input_points):\n",
    "    points = input_points - mean\n",
    "    poss = position_scaling\n",
    "    rts = rotation_scaling\n",
    "    points = (points * np.array((1,poss,poss,poss,rts,rts,rts,rts)))\n",
    "    return points\n",
    "\n",
    "def unscale_poses(input_points):\n",
    "    poss = position_scaling\n",
    "    rts = rotation_scaling\n",
    "    points = (input_points / np.array((poss,poss,poss,rts,rts,rts,rts)))\n",
    "    points = points + mean[1:]\n",
    "    return points \n",
    "    \n",
    "def unscale_dataset(input_points):\n",
    "    poss = position_scaling\n",
    "    rts = rotation_scaling\n",
    "    points = (input_points / np.array((1,poss,poss,poss,rts,rts,rts,rts)))\n",
    "    points = points + mean\n",
    "    return points"
   ]
  },
  {
   "cell_type": "code",
   "execution_count": 6,
   "id": "a7218b9b",
   "metadata": {
    "ExecuteTime": {
     "end_time": "2022-07-26T14:12:41.485322Z",
     "start_time": "2022-07-26T14:12:41.477978Z"
    }
   },
   "outputs": [],
   "source": [
    "dataset = scale_dataset(all_points)\n",
    "t_all_points = torch.tensor(dataset,dtype=torch.float32)"
   ]
  },
  {
   "cell_type": "markdown",
   "id": "23c78561",
   "metadata": {},
   "source": [
    "## 2D VAE Fit to Dataset"
   ]
  },
  {
   "cell_type": "code",
   "execution_count": 7,
   "id": "9b4b2092",
   "metadata": {
    "ExecuteTime": {
     "end_time": "2022-07-26T14:12:41.491225Z",
     "start_time": "2022-07-26T14:12:41.486414Z"
    }
   },
   "outputs": [],
   "source": [
    "def LoadDataBatch(all_points, batchsize, passthroughdim, predictive, device):\n",
    "    \"\"\"Sample Pair of Points from Trajectory\"\"\"\n",
    "    # all_points should be of dimension: num_trajectories, numtimesteps, 1+spatialdims\n",
    "    traj_ids = np.random.choice(all_points.shape[0], batchsize)\n",
    "    t1_ids = np.random.choice(all_points.shape[1], batchsize)\n",
    "    if predictive:\n",
    "        t2_ids = np.random.choice(all_points.shape[1], batchsize)\n",
    "    else:\n",
    "        t2_ids = t1_ids\n",
    "    return (torch.tensor(all_points[traj_ids, t1_ids,passthroughdim:], dtype=torch.float).to(device),\n",
    "            torch.tensor(all_points[traj_ids, t1_ids,:passthroughdim], dtype=torch.float).to(device),\n",
    "            torch.tensor(all_points[traj_ids, t2_ids,passthroughdim:], dtype=torch.float).to(device),\n",
    "            torch.tensor(all_points[traj_ids, t2_ids,:passthroughdim], dtype=torch.float).to(device))"
   ]
  },
  {
   "cell_type": "code",
   "execution_count": 8,
   "id": "be614fa6",
   "metadata": {
    "ExecuteTime": {
     "end_time": "2022-07-26T14:12:41.497851Z",
     "start_time": "2022-07-26T14:12:41.493034Z"
    }
   },
   "outputs": [],
   "source": [
    "class Loader(object):\n",
    "    def __init__(self, all_points, batchsize, passthroughdim, epochnumbatches, predictive, device):\n",
    "        self.all_points = all_points\n",
    "        self.batchsize = batchsize\n",
    "        self.passthroughdim = passthroughdim\n",
    "        self.epochnumbatches = epochnumbatches\n",
    "        self.predictive = predictive\n",
    "        self.device = device\n",
    "        \n",
    "    def __iter__(self):\n",
    "        self.n = 0\n",
    "        return self\n",
    "    \n",
    "    def __next__(self):\n",
    "        if self.n >= self.epochnumbatches:\n",
    "            # https://docs.python.org/3/library/exceptions.html#StopIteration\n",
    "            raise StopIteration\n",
    "        self.n += 1\n",
    "        return LoadDataBatch(self.all_points, self.batchsize, self.passthroughdim, self.predictive, self.device)\n",
    "    \n",
    "\n",
    "device = \"cuda\"\n",
    "train_loader = Loader(dataset[:,np.newaxis,:], 256, 0,10,predictive=False, device=device)\n",
    "  "
   ]
  },
  {
   "cell_type": "code",
   "execution_count": 9,
   "id": "a7067c8c",
   "metadata": {
    "ExecuteTime": {
     "end_time": "2022-07-26T14:12:41.502298Z",
     "start_time": "2022-07-26T14:12:41.499271Z"
    }
   },
   "outputs": [],
   "source": [
    "dataset_dim = dataset.shape[-1]\n",
    "def make_vae(latent_dim):\n",
    "    input_dim = dataset_dim \n",
    "    passthrough_dim = 0\n",
    "    emb_layer_widths = [1000]\n",
    "    recon_layer_widths = [1000]\n",
    "    dtype = torch.float\n",
    "    model = ptvae.FCPassthroughVAE(input_dim, passthrough_dim, latent_dim,\n",
    "        emb_layer_widths, recon_layer_widths, dtype)\n",
    "    return model"
   ]
  },
  {
   "cell_type": "code",
   "execution_count": 10,
   "id": "cea776a6",
   "metadata": {
    "ExecuteTime": {
     "end_time": "2022-07-26T14:12:41.505568Z",
     "start_time": "2022-07-26T14:12:41.503416Z"
    }
   },
   "outputs": [],
   "source": [
    "testname = f\"trainedmodels/{foodname}_\""
   ]
  },
  {
   "cell_type": "code",
   "execution_count": 11,
   "id": "8c329a4b",
   "metadata": {
    "ExecuteTime": {
     "end_time": "2022-07-26T14:12:41.510770Z",
     "start_time": "2022-07-26T14:12:41.506550Z"
    },
    "scrolled": true
   },
   "outputs": [
    {
     "data": {
      "text/plain": [
       "['trainedmodels/banana_lat3_curvreg0_beta0.001_20220210-013953']"
      ]
     },
     "execution_count": 11,
     "metadata": {},
     "output_type": "execute_result"
    }
   ],
   "source": [
    "all_models = ['trainedmodels/banana_lat3_curvreg0_beta0.001_20220209-144826']\n",
    "#all_models = [f'trainedmodels/banana_lat3_curvreg0.001_beta0.001_20220209-120436']\n",
    "all_models = [f'trainedmodels/banana_lat3_curvreg0_beta0.01_20220209-152954']\n",
    "all_models = [f'trainedmodels/banana_lat3_curvreg0_beta0.005_20220725-235649']\n",
    "all_models = [f'trainedmodels/banana_lat3_curvreg0_beta0.002_20220725-191457']\n",
    "all_models = [f'trainedmodels/banana_lat3_curvreg0_beta0.001_20220210-013953'] # 0.0001 learning rate\n",
    "\n",
    "\n",
    "all_models"
   ]
  },
  {
   "cell_type": "code",
   "execution_count": 12,
   "id": "610ac311",
   "metadata": {
    "ExecuteTime": {
     "end_time": "2022-07-26T14:12:41.513905Z",
     "start_time": "2022-07-26T14:12:41.511806Z"
    }
   },
   "outputs": [],
   "source": [
    "latent_lim_values = np.array((2.,2,2))"
   ]
  },
  {
   "cell_type": "code",
   "execution_count": 13,
   "id": "5ab1bc33",
   "metadata": {
    "ExecuteTime": {
     "end_time": "2022-07-26T14:12:41.547725Z",
     "start_time": "2022-07-26T14:12:41.514873Z"
    }
   },
   "outputs": [],
   "source": [
    "modelname = all_models[0]\n",
    "loaded_vae = lm.load_model(modelname)\n"
   ]
  },
  {
   "cell_type": "code",
   "execution_count": 14,
   "id": "bef137f2",
   "metadata": {
    "ExecuteTime": {
     "end_time": "2022-07-26T14:12:41.554516Z",
     "start_time": "2022-07-26T14:12:41.548706Z"
    }
   },
   "outputs": [],
   "source": [
    "import transforms3d as t3d"
   ]
  },
  {
   "cell_type": "code",
   "execution_count": 15,
   "id": "2e8c3552",
   "metadata": {
    "ExecuteTime": {
     "end_time": "2022-07-26T14:12:41.559611Z",
     "start_time": "2022-07-26T14:12:41.555410Z"
    }
   },
   "outputs": [],
   "source": [
    "def loss_function(numpy_latent,target_angle, verbose=False):\n",
    "    targ_ang_rads = 0.4 - (target_angle / 180. * np.pi)\n",
    "    #print(targ_ang_rads)\n",
    "    latent = torch.tensor(numpy_latent,dtype=torch.float32).reshape(1,3)\n",
    "    t = torch.tensor((0),dtype=torch.float32).reshape(1,1)\n",
    "    scaled_pose, _ = loaded_vae.decode(latent,t)\n",
    "    pose = unscale_poses(scaled_pose.detach().cpu().numpy())\n",
    "    quat = pose[0,3:]\n",
    "    base_quat = (0,0,1,0)\n",
    "    quat = t3d.quaternions.qmult(base_quat,quat)\n",
    "    eul = np.array(t3d.euler.quat2euler(quat,axes='sxyz'))\n",
    "    if verbose:\n",
    "        print(eul * 180/np.pi)\n",
    "    return np.sum(np.square(eul - (targ_ang_rads,0,-0.79478576)) * np.array((1,0.0001,0.0001))) # ok for a little side to side, but gotta be correct tilt"
   ]
  },
  {
   "cell_type": "code",
   "execution_count": 16,
   "id": "6e86b904",
   "metadata": {
    "ExecuteTime": {
     "end_time": "2022-07-26T14:12:41.563824Z",
     "start_time": "2022-07-26T14:12:41.560576Z"
    }
   },
   "outputs": [],
   "source": [
    "# https://pyswarms.readthedocs.io/en/latest/examples/usecases/train_neural_network.html#Constructing-a-custom-objective-function\n",
    "def loss_function_batch(x, target_angle):\n",
    "    \"\"\"Higher-level method to do forward_prop in the\n",
    "    whole swarm.\n",
    "\n",
    "    Inputs\n",
    "    ------\n",
    "    x: numpy.ndarray of shape (n_particles, dimensions)\n",
    "        The swarm that will perform the search\n",
    "\n",
    "    Returns\n",
    "    -------\n",
    "    numpy.ndarray of shape (n_particles, )\n",
    "        The computed loss for each particle\n",
    "    \"\"\"\n",
    "    n_particles = x.shape[0]\n",
    "    j = [loss_function(x[i],target_angle) for i in range(n_particles)]\n",
    "    return np.array(j)"
   ]
  },
  {
   "cell_type": "code",
   "execution_count": 17,
   "id": "23ad2c93",
   "metadata": {
    "ExecuteTime": {
     "end_time": "2022-07-26T14:13:17.584553Z",
     "start_time": "2022-07-26T14:12:41.564725Z"
    },
    "scrolled": false
   },
   "outputs": [
    {
     "name": "stderr",
     "output_type": "stream",
     "text": [
      "2022-07-26 10:12:41,617 - pyswarms.single.global_best - INFO - Optimize for 200 iters with {'c1': 0.5, 'c2': 0.3, 'w': 0.9}\n",
      "pyswarms.single.global_best: 100%|██████████|200/200, best_cost=5.66e-8\n",
      "2022-07-26 10:12:42,805 - pyswarms.single.global_best - INFO - Optimization finished | best cost: 5.660494125043583e-08, best pos: [-1.61421298  0.15577061  0.96836048]\n",
      "2022-07-26 10:12:42,811 - pyswarms.single.global_best - INFO - Optimize for 200 iters with {'c1': 0.5, 'c2': 0.3, 'w': 0.9}\n"
     ]
    },
    {
     "name": "stdout",
     "output_type": "stream",
     "text": [
      "updating best\n"
     ]
    },
    {
     "name": "stderr",
     "output_type": "stream",
     "text": [
      "pyswarms.single.global_best: 100%|██████████|200/200, best_cost=8.72e-9\n",
      "2022-07-26 10:12:43,983 - pyswarms.single.global_best - INFO - Optimization finished | best cost: 8.716868370595702e-09, best pos: [-1.34376667  0.04385996  1.02353547]\n",
      "2022-07-26 10:12:43,989 - pyswarms.single.global_best - INFO - Optimize for 200 iters with {'c1': 0.5, 'c2': 0.3, 'w': 0.9}\n"
     ]
    },
    {
     "name": "stdout",
     "output_type": "stream",
     "text": [
      "updating best\n"
     ]
    },
    {
     "name": "stderr",
     "output_type": "stream",
     "text": [
      "pyswarms.single.global_best: 100%|██████████|200/200, best_cost=3.34e-8\n",
      "2022-07-26 10:12:45,163 - pyswarms.single.global_best - INFO - Optimization finished | best cost: 3.339349944806831e-08, best pos: [-1.56518588  0.12916739  0.92959041]\n",
      "2022-07-26 10:12:45,168 - pyswarms.single.global_best - INFO - Optimize for 200 iters with {'c1': 0.5, 'c2': 0.3, 'w': 0.9}\n",
      "pyswarms.single.global_best: 100%|██████████|200/200, best_cost=7.62e-7\n",
      "2022-07-26 10:12:46,339 - pyswarms.single.global_best - INFO - Optimization finished | best cost: 7.624822992110806e-07, best pos: [-1.45283283  0.24132446  0.53467268]\n",
      "2022-07-26 10:12:46,345 - pyswarms.single.global_best - INFO - Optimize for 200 iters with {'c1': 0.5, 'c2': 0.3, 'w': 0.9}\n",
      "pyswarms.single.global_best: 100%|██████████|200/200, best_cost=7.76e-8\n",
      "2022-07-26 10:12:47,550 - pyswarms.single.global_best - INFO - Optimization finished | best cost: 7.763183105901939e-08, best pos: [-1.05430319 -0.10557305  0.71277429]\n",
      "2022-07-26 10:12:47,555 - pyswarms.single.global_best - INFO - Optimize for 200 iters with {'c1': 0.5, 'c2': 0.3, 'w': 0.9}\n",
      "pyswarms.single.global_best: 100%|██████████|200/200, best_cost=1.11e-9\n",
      "2022-07-26 10:12:48,731 - pyswarms.single.global_best - INFO - Optimization finished | best cost: 1.1137329049822525e-09, best pos: [-1.35876521  0.0551884   1.01229962]\n",
      "2022-07-26 10:12:48,737 - pyswarms.single.global_best - INFO - Optimize for 200 iters with {'c1': 0.5, 'c2': 0.3, 'w': 0.9}\n"
     ]
    },
    {
     "name": "stdout",
     "output_type": "stream",
     "text": [
      "updating best\n"
     ]
    },
    {
     "name": "stderr",
     "output_type": "stream",
     "text": [
      "pyswarms.single.global_best: 100%|██████████|200/200, best_cost=3.89e-8\n",
      "2022-07-26 10:12:49,919 - pyswarms.single.global_best - INFO - Optimization finished | best cost: 3.885660686226928e-08, best pos: [-2.67677351  0.01682844  1.78251574]\n",
      "2022-07-26 10:12:49,925 - pyswarms.single.global_best - INFO - Optimize for 200 iters with {'c1': 0.5, 'c2': 0.3, 'w': 0.9}\n",
      "pyswarms.single.global_best: 100%|██████████|200/200, best_cost=8.91e-8\n",
      "2022-07-26 10:12:51,116 - pyswarms.single.global_best - INFO - Optimization finished | best cost: 8.905351808020522e-08, best pos: [-1.09394639 -0.08723269  0.85690324]\n",
      "2022-07-26 10:12:51,122 - pyswarms.single.global_best - INFO - Optimize for 200 iters with {'c1': 0.5, 'c2': 0.3, 'w': 0.9}\n",
      "pyswarms.single.global_best: 100%|██████████|200/200, best_cost=1.87e-8\n",
      "2022-07-26 10:12:52,335 - pyswarms.single.global_best - INFO - Optimization finished | best cost: 1.8677246238489106e-08, best pos: [-1.53280986  0.11903485  0.95173328]\n",
      "2022-07-26 10:12:52,340 - pyswarms.single.global_best - INFO - Optimize for 200 iters with {'c1': 0.5, 'c2': 0.3, 'w': 0.9}\n",
      "pyswarms.single.global_best: 100%|██████████|200/200, best_cost=9.34e-8\n",
      "2022-07-26 10:12:53,513 - pyswarms.single.global_best - INFO - Optimization finished | best cost: 9.340010458124971e-08, best pos: [-1.62436258  0.16426179  0.98446708]\n",
      "2022-07-26 10:12:53,518 - pyswarms.single.global_best - INFO - Optimize for 200 iters with {'c1': 0.5, 'c2': 0.3, 'w': 0.9}\n",
      "pyswarms.single.global_best: 100%|██████████|200/200, best_cost=8.56e-6\n",
      "2022-07-26 10:12:54,698 - pyswarms.single.global_best - INFO - Optimization finished | best cost: 8.560159373642668e-06, best pos: [-1.59496388  0.65109744 -0.59012751]\n",
      "2022-07-26 10:12:54,704 - pyswarms.single.global_best - INFO - Optimize for 200 iters with {'c1': 0.5, 'c2': 0.3, 'w': 0.9}\n"
     ]
    },
    {
     "name": "stdout",
     "output_type": "stream",
     "text": [
      "updating best\n"
     ]
    },
    {
     "name": "stderr",
     "output_type": "stream",
     "text": [
      "pyswarms.single.global_best: 100%|██████████|200/200, best_cost=6.41e-6\n",
      "2022-07-26 10:12:55,877 - pyswarms.single.global_best - INFO - Optimization finished | best cost: 6.406497258950826e-06, best pos: [-1.87550143  0.52190007 -0.55008877]\n",
      "2022-07-26 10:12:55,883 - pyswarms.single.global_best - INFO - Optimize for 200 iters with {'c1': 0.5, 'c2': 0.3, 'w': 0.9}\n"
     ]
    },
    {
     "name": "stdout",
     "output_type": "stream",
     "text": [
      "updating best\n"
     ]
    },
    {
     "name": "stderr",
     "output_type": "stream",
     "text": [
      "pyswarms.single.global_best: 100%|██████████|200/200, best_cost=6.48e-6\n",
      "2022-07-26 10:12:57,079 - pyswarms.single.global_best - INFO - Optimization finished | best cost: 6.4830138590770825e-06, best pos: [-1.84114946  0.51333029 -0.57980371]\n",
      "2022-07-26 10:12:57,084 - pyswarms.single.global_best - INFO - Optimize for 200 iters with {'c1': 0.5, 'c2': 0.3, 'w': 0.9}\n",
      "pyswarms.single.global_best: 100%|██████████|200/200, best_cost=6.43e-6\n",
      "2022-07-26 10:12:58,266 - pyswarms.single.global_best - INFO - Optimization finished | best cost: 6.4327450487177785e-06, best pos: [-1.83008563  0.52372974 -0.55773673]\n",
      "2022-07-26 10:12:58,272 - pyswarms.single.global_best - INFO - Optimize for 200 iters with {'c1': 0.5, 'c2': 0.3, 'w': 0.9}\n",
      "pyswarms.single.global_best: 100%|██████████|200/200, best_cost=6.43e-6\n",
      "2022-07-26 10:12:59,465 - pyswarms.single.global_best - INFO - Optimization finished | best cost: 6.430448259220071e-06, best pos: [-1.87486008  0.52728867 -0.54287637]\n",
      "2022-07-26 10:12:59,470 - pyswarms.single.global_best - INFO - Optimize for 200 iters with {'c1': 0.5, 'c2': 0.3, 'w': 0.9}\n",
      "pyswarms.single.global_best: 100%|██████████|200/200, best_cost=6.53e-6\n",
      "2022-07-26 10:13:00,660 - pyswarms.single.global_best - INFO - Optimization finished | best cost: 6.533511317613124e-06, best pos: [-1.95692756  0.52860388 -0.55023593]\n",
      "2022-07-26 10:13:00,665 - pyswarms.single.global_best - INFO - Optimize for 200 iters with {'c1': 0.5, 'c2': 0.3, 'w': 0.9}\n",
      "pyswarms.single.global_best: 100%|██████████|200/200, best_cost=6.1e-6 \n",
      "2022-07-26 10:13:01,896 - pyswarms.single.global_best - INFO - Optimization finished | best cost: 6.104298232006867e-06, best pos: [-2.90285753  0.59823158 -0.50272271]\n",
      "2022-07-26 10:13:01,902 - pyswarms.single.global_best - INFO - Optimize for 200 iters with {'c1': 0.5, 'c2': 0.3, 'w': 0.9}\n"
     ]
    },
    {
     "name": "stdout",
     "output_type": "stream",
     "text": [
      "updating best\n"
     ]
    },
    {
     "name": "stderr",
     "output_type": "stream",
     "text": [
      "pyswarms.single.global_best: 100%|██████████|200/200, best_cost=6.27e-6\n",
      "2022-07-26 10:13:03,145 - pyswarms.single.global_best - INFO - Optimization finished | best cost: 6.274763751310802e-06, best pos: [-2.5236909   0.61579484 -0.48340507]\n",
      "2022-07-26 10:13:03,150 - pyswarms.single.global_best - INFO - Optimize for 200 iters with {'c1': 0.5, 'c2': 0.3, 'w': 0.9}\n",
      "pyswarms.single.global_best: 100%|██████████|200/200, best_cost=6.46e-6\n",
      "2022-07-26 10:13:04,327 - pyswarms.single.global_best - INFO - Optimization finished | best cost: 6.4557212810624605e-06, best pos: [-1.82801344  0.51833381 -0.56989319]\n",
      "2022-07-26 10:13:04,332 - pyswarms.single.global_best - INFO - Optimize for 200 iters with {'c1': 0.5, 'c2': 0.3, 'w': 0.9}\n",
      "pyswarms.single.global_best: 100%|██████████|200/200, best_cost=1.11e-5\n",
      "2022-07-26 10:13:05,505 - pyswarms.single.global_best - INFO - Optimization finished | best cost: 1.1119939694871437e-05, best pos: [-1.48141531  0.93526411 -1.19215126]\n",
      "2022-07-26 10:13:05,511 - pyswarms.single.global_best - INFO - Optimize for 200 iters with {'c1': 0.5, 'c2': 0.3, 'w': 0.9}\n",
      "pyswarms.single.global_best: 100%|██████████|200/200, best_cost=2.02e-5\n",
      "2022-07-26 10:13:06,689 - pyswarms.single.global_best - INFO - Optimization finished | best cost: 2.0245962165536342e-05, best pos: [-2.46521346  1.05951466 -1.52063854]\n",
      "2022-07-26 10:13:06,694 - pyswarms.single.global_best - INFO - Optimize for 200 iters with {'c1': 0.5, 'c2': 0.3, 'w': 0.9}\n"
     ]
    },
    {
     "name": "stdout",
     "output_type": "stream",
     "text": [
      "updating best\n"
     ]
    },
    {
     "name": "stderr",
     "output_type": "stream",
     "text": [
      "pyswarms.single.global_best: 100%|██████████|200/200, best_cost=2.6e-5 \n",
      "2022-07-26 10:13:07,874 - pyswarms.single.global_best - INFO - Optimization finished | best cost: 2.5994185768708246e-05, best pos: [-2.91579426  1.37205946 -1.04435788]\n",
      "2022-07-26 10:13:07,880 - pyswarms.single.global_best - INFO - Optimize for 200 iters with {'c1': 0.5, 'c2': 0.3, 'w': 0.9}\n",
      "pyswarms.single.global_best: 100%|██████████|200/200, best_cost=2.02e-5\n",
      "2022-07-26 10:13:09,062 - pyswarms.single.global_best - INFO - Optimization finished | best cost: 2.020989752996988e-05, best pos: [-2.6349394   1.08102132 -1.36049144]\n",
      "2022-07-26 10:13:09,068 - pyswarms.single.global_best - INFO - Optimize for 200 iters with {'c1': 0.5, 'c2': 0.3, 'w': 0.9}\n"
     ]
    },
    {
     "name": "stdout",
     "output_type": "stream",
     "text": [
      "updating best\n"
     ]
    },
    {
     "name": "stderr",
     "output_type": "stream",
     "text": [
      "pyswarms.single.global_best: 100%|██████████|200/200, best_cost=1.95e-5\n",
      "2022-07-26 10:13:10,254 - pyswarms.single.global_best - INFO - Optimization finished | best cost: 1.9472268620205732e-05, best pos: [-2.75141325  0.81039103 -1.728153  ]\n",
      "2022-07-26 10:13:10,259 - pyswarms.single.global_best - INFO - Optimize for 200 iters with {'c1': 0.5, 'c2': 0.3, 'w': 0.9}\n"
     ]
    },
    {
     "name": "stdout",
     "output_type": "stream",
     "text": [
      "updating best\n"
     ]
    },
    {
     "name": "stderr",
     "output_type": "stream",
     "text": [
      "pyswarms.single.global_best: 100%|██████████|200/200, best_cost=2.87e-5\n",
      "2022-07-26 10:13:11,432 - pyswarms.single.global_best - INFO - Optimization finished | best cost: 2.871103296729191e-05, best pos: [-2.1192238   1.18386023 -1.73009294]\n",
      "2022-07-26 10:13:11,437 - pyswarms.single.global_best - INFO - Optimize for 200 iters with {'c1': 0.5, 'c2': 0.3, 'w': 0.9}\n",
      "pyswarms.single.global_best: 100%|██████████|200/200, best_cost=1.9e-5\n",
      "2022-07-26 10:13:12,681 - pyswarms.single.global_best - INFO - Optimization finished | best cost: 1.9003079360508786e-05, best pos: [-2.85998382  0.97312894 -1.33378041]\n",
      "2022-07-26 10:13:12,687 - pyswarms.single.global_best - INFO - Optimize for 200 iters with {'c1': 0.5, 'c2': 0.3, 'w': 0.9}\n"
     ]
    },
    {
     "name": "stdout",
     "output_type": "stream",
     "text": [
      "updating best\n"
     ]
    },
    {
     "name": "stderr",
     "output_type": "stream",
     "text": [
      "pyswarms.single.global_best: 100%|██████████|200/200, best_cost=1.92e-5\n",
      "2022-07-26 10:13:13,873 - pyswarms.single.global_best - INFO - Optimization finished | best cost: 1.9239327417025177e-05, best pos: [-2.83045351  0.92070795 -1.41675606]\n",
      "2022-07-26 10:13:13,878 - pyswarms.single.global_best - INFO - Optimize for 200 iters with {'c1': 0.5, 'c2': 0.3, 'w': 0.9}\n",
      "pyswarms.single.global_best: 100%|██████████|200/200, best_cost=2.92e-5\n",
      "2022-07-26 10:13:15,067 - pyswarms.single.global_best - INFO - Optimization finished | best cost: 2.9246227779658068e-05, best pos: [-2.1673636   1.07076798 -1.81496584]\n",
      "2022-07-26 10:13:15,072 - pyswarms.single.global_best - INFO - Optimize for 200 iters with {'c1': 0.5, 'c2': 0.3, 'w': 0.9}\n",
      "pyswarms.single.global_best: 100%|██████████|200/200, best_cost=1.96e-5\n",
      "2022-07-26 10:13:16,303 - pyswarms.single.global_best - INFO - Optimization finished | best cost: 1.9580031681089798e-05, best pos: [-2.82242624  1.01535659 -1.29644694]\n",
      "2022-07-26 10:13:16,308 - pyswarms.single.global_best - INFO - Optimize for 200 iters with {'c1': 0.5, 'c2': 0.3, 'w': 0.9}\n",
      "pyswarms.single.global_best: 100%|██████████|200/200, best_cost=1.99e-5\n",
      "2022-07-26 10:13:17,582 - pyswarms.single.global_best - INFO - Optimization finished | best cost: 1.990671293720882e-05, best pos: [-2.48458644  1.04354052 -1.48325439]\n"
     ]
    },
    {
     "name": "stdout",
     "output_type": "stream",
     "text": [
      "[(1.1137329049822525e-09, array([-1.35876521,  0.0551884 ,  1.01229962])), (6.104298232006867e-06, array([-2.90285753,  0.59823158, -0.50272271])), (1.9003079360508786e-05, array([-2.85998382,  0.97312894, -1.33378041]))]\n"
     ]
    }
   ],
   "source": [
    "import pyswarms as ps\n",
    "\n",
    "final_answers = []\n",
    "for target_ang in [30,45,60]:\n",
    "    lim = 3\n",
    "    curbest = None\n",
    "    while curbest is None:# or (np.sqrt(curbest[0])/np.pi) * 180 > 1: # keep expanding the search radius until within 1 degree of desired angle\n",
    "        #lim += 0.5\n",
    "        for _ in range(10):\n",
    "            # Set-up hyperparameters\n",
    "            options = {'c1': 0.5, 'c2': 0.3, 'w':0.9}\n",
    "\n",
    "            # Call instance of GlobalBestPSO\n",
    "            optimizer = ps.single.GlobalBestPSO(n_particles=30, dimensions=3,\n",
    "                                                options=options, bounds=((-lim,-lim,-lim),(lim,lim,lim)))\n",
    "\n",
    "            # Perform optimization\n",
    "            stats = optimizer.optimize(loss_function_batch, target_angle=target_ang, iters=200)\n",
    "\n",
    "            if curbest is None or stats[0] < curbest[0]:\n",
    "                print(\"updating best\")\n",
    "                curbest = stats\n",
    "    final_answers.append(curbest)\n",
    "print(final_answers)"
   ]
  },
  {
   "cell_type": "code",
   "execution_count": 18,
   "id": "f9aa6cbe",
   "metadata": {
    "ExecuteTime": {
     "end_time": "2022-07-26T14:13:17.588502Z",
     "start_time": "2022-07-26T14:13:17.585814Z"
    }
   },
   "outputs": [
    {
     "name": "stdout",
     "output_type": "stream",
     "text": [
      "0.001912111255312505\n",
      "0.14155998374681178\n",
      "0.24976675037813853\n"
     ]
    }
   ],
   "source": [
    "for fb in final_answers:\n",
    "    print(np.sqrt(fb[0]) / np.pi * 180)"
   ]
  },
  {
   "cell_type": "code",
   "execution_count": 19,
   "id": "3bc29e97",
   "metadata": {
    "ExecuteTime": {
     "end_time": "2022-07-26T14:13:17.594420Z",
     "start_time": "2022-07-26T14:13:17.589638Z"
    },
    "scrolled": true
   },
   "outputs": [
    {
     "name": "stdout",
     "output_type": "stream",
     "text": [
      "[-1.3587652105334609,0.055188400951311375,1.012299616765987],\n",
      "[-2.9028575328539272,0.598231580485021,-0.502722708889766],\n",
      "[-2.859983816519404,0.9731289363805093,-1.3337804063300918],\n"
     ]
    }
   ],
   "source": [
    "for fb in final_answers:\n",
    "    print(f\"[{','.join([f'{s}' for s in fb[1]])}],\")"
   ]
  },
  {
   "cell_type": "code",
   "execution_count": 20,
   "id": "ee5a6983",
   "metadata": {
    "ExecuteTime": {
     "end_time": "2022-07-26T14:13:17.599957Z",
     "start_time": "2022-07-26T14:13:17.595378Z"
    }
   },
   "outputs": [
    {
     "name": "stdout",
     "output_type": "stream",
     "text": [
      "[-7.08164935e+00 -6.11504154e-03 -4.57289435e+01]\n",
      "[-22.10831043  -5.32375707 -32.6940981 ]\n",
      "[-37.07781166  -4.37200122 -20.94987206]\n"
     ]
    }
   ],
   "source": [
    "for fb in final_answers:\n",
    "    loss_function(fb[1],1000,True)\n"
   ]
  },
  {
   "cell_type": "code",
   "execution_count": 21,
   "id": "7f3200f5",
   "metadata": {
    "ExecuteTime": {
     "end_time": "2022-07-26T14:13:17.604428Z",
     "start_time": "2022-07-26T14:13:17.601187Z"
    }
   },
   "outputs": [
    {
     "data": {
      "text/plain": [
       "22.91831180523293"
      ]
     },
     "execution_count": 21,
     "metadata": {},
     "output_type": "execute_result"
    }
   ],
   "source": [
    "0.4*180/np.pi"
   ]
  },
  {
   "cell_type": "code",
   "execution_count": 22,
   "id": "82ae1153",
   "metadata": {
    "ExecuteTime": {
     "end_time": "2022-07-26T14:13:17.608804Z",
     "start_time": "2022-07-26T14:13:17.605636Z"
    }
   },
   "outputs": [
    {
     "data": {
      "text/plain": [
       "'\\n[0.2478165554759397,-1.249154366817157,-1.5198855746754794],\\n[0.10129095212372306,-2.8613022436706315,0.9409312592318927],\\n[0.5889920784970968,-2.3291049154306642,2.6950374180789747],\\n'"
      ]
     },
     "execution_count": 22,
     "metadata": {},
     "output_type": "execute_result"
    }
   ],
   "source": [
    "\"\"\"\n",
    "[0.2478165554759397,-1.249154366817157,-1.5198855746754794],\n",
    "[0.10129095212372306,-2.8613022436706315,0.9409312592318927],\n",
    "[0.5889920784970968,-2.3291049154306642,2.6950374180789747],\n",
    "\"\"\""
   ]
  }
 ],
 "metadata": {
  "kernelspec": {
   "display_name": "Python 3",
   "language": "python",
   "name": "python3"
  },
  "language_info": {
   "codemirror_mode": {
    "name": "ipython",
    "version": 3
   },
   "file_extension": ".py",
   "mimetype": "text/x-python",
   "name": "python",
   "nbconvert_exporter": "python",
   "pygments_lexer": "ipython3",
   "version": "3.6.13"
  }
 },
 "nbformat": 4,
 "nbformat_minor": 5
}
