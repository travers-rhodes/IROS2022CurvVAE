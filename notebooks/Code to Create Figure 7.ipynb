{
 "cells": [
  {
   "cell_type": "code",
   "execution_count": 1,
   "metadata": {
    "ExecuteTime": {
     "end_time": "2022-07-29T23:14:02.260966Z",
     "start_time": "2022-07-29T23:14:01.363078Z"
    }
   },
   "outputs": [],
   "source": [
    "import statsmodels.stats.proportion"
   ]
  },
  {
   "cell_type": "code",
   "execution_count": 2,
   "metadata": {
    "ExecuteTime": {
     "end_time": "2022-07-29T23:14:02.265431Z",
     "start_time": "2022-07-29T23:14:02.262671Z"
    }
   },
   "outputs": [],
   "source": [
    "def get_confidence_bounds(succs, total):\n",
    "    interval = statsmodels.stats.proportion.proportion_confint(succs, total, alpha=0.05, method='wilson')\n",
    "    #print(interval)\n",
    "    return interval"
   ]
  },
  {
   "cell_type": "code",
   "execution_count": 3,
   "metadata": {
    "ExecuteTime": {
     "end_time": "2022-07-29T23:14:02.276839Z",
     "start_time": "2022-07-29T23:14:02.267274Z"
    }
   },
   "outputs": [
    {
     "data": {
      "text/plain": [
       "(0.8668077490609515, 1.0)"
      ]
     },
     "execution_count": 3,
     "metadata": {},
     "output_type": "execute_result"
    }
   ],
   "source": [
    "get_confidence_bounds(25,25)"
   ]
  },
  {
   "cell_type": "code",
   "execution_count": 4,
   "metadata": {
    "ExecuteTime": {
     "end_time": "2022-07-29T23:14:03.556086Z",
     "start_time": "2022-07-29T23:14:02.278028Z"
    }
   },
   "outputs": [
    {
     "name": "stderr",
     "output_type": "stream",
     "text": [
      "Matplotlib created a temporary config/cache directory at /tmp/matplotlib-687836pw because the default path (/home/tsr42/.cache/matplotlib) is not a writable directory; it is highly recommended to set the MPLCONFIGDIR environment variable to a writable directory, in particular to speed up the import of Matplotlib and to better support multiprocessing.\n"
     ]
    }
   ],
   "source": [
    "%matplotlib inline\n",
    "import matplotlib.pyplot as plt\n",
    "import numpy as np"
   ]
  },
  {
   "cell_type": "code",
   "execution_count": 5,
   "metadata": {
    "ExecuteTime": {
     "end_time": "2022-07-29T23:14:03.567285Z",
     "start_time": "2022-07-29T23:14:03.557269Z"
    }
   },
   "outputs": [
    {
     "name": "stdout",
     "output_type": "stream",
     "text": [
      "[[0.11139415 0.18653622 0.15544064 0.13319225 0.13319225 0.13319225\n",
      "  0.13319225 0.13319225 0.15544064 0.13319225 0.13319225 0.\n",
      "  0.1479481  0.18653622 0.13319225 0.13319225 0.19429683 0.13319225\n",
      "  0.19429683 0.19429683 0.13319225 0.13319225]\n",
      " [0.1913095  0.09596549 0.03290377 0.         0.         0.\n",
      "  0.         0.         0.03290377 0.         0.         0.13319225\n",
      "  0.19589731 0.09596549 0.         0.         0.12503686 0.\n",
      "  0.12503686 0.12503686 0.         0.        ]]\n"
     ]
    }
   ],
   "source": [
    "gap = 4\n",
    "basexs = np.array([0,1,2,3,4,5,6,7,8,9,10])\n",
    "basexs = np.array([0,1,3,7,11,4,8,12,5,9,13])\n",
    "xs = np.array(basexs.tolist() + (basexs+ 13 + gap).tolist())\n",
    "successes = [5,21,24,25,25,25,25,25,24,25,25,0,8,21,25,25,19,25,19,19,25,25]\n",
    "ys = np.array(successes)/25\n",
    "yerrs = np.abs(np.array([get_confidence_bounds(s,25) for s in successes]).T-ys)\n",
    "print(yerrs)\n",
    "tick_labs = np.array([\"$45^\\circ$ Baseline\",\"$75^\\circ$ Baseline\",\n",
    "                      \"$30^\\circ$ PCA\",\"$45^\\circ$ PCA\",\"$60^\\circ$ PCA\",\n",
    "                      \"$30^\\circ$ BetaVAE\",\"$45^\\circ$ BetaVAE\",\"$60^\\circ$ BetaVAE\",\n",
    "                      \"$30^\\circ$ CurvVAE\",\"$45^\\circ$ CurvVAE\",\"$60^\\circ$ CurvVAE\"\n",
    "                     ] * 2 )\n",
    "blue = ((np.array([0,47,108])+100)/255).tolist()\n",
    "red = (np.array([170,20,45])/200).tolist()\n",
    "\n",
    "colors = np.array(([red] * 2 + [blue] * 3+ [blue] * 3+ [blue] * 3) * 2)\n",
    "hatches = (([\"/\"] * 2 + [\"\"]*3+ [\"\"]*3+ [\"\"]*3)*2)"
   ]
  },
  {
   "cell_type": "code",
   "execution_count": 6,
   "metadata": {
    "ExecuteTime": {
     "end_time": "2022-07-29T23:14:03.579085Z",
     "start_time": "2022-07-29T23:14:03.568202Z"
    }
   },
   "outputs": [
    {
     "name": "stdout",
     "output_type": "stream",
     "text": [
      "[[0.11139415 0.18653622 0.15544064 0.13319225 0.13319225 0.13319225\n",
      "  0.13319225 0.13319225 0.15544064 0.13319225 0.13319225 0.\n",
      "  0.1479481  0.18653622 0.13319225 0.13319225 0.19429683 0.13319225\n",
      "  0.19429683 0.19429683 0.13319225 0.13319225]\n",
      " [0.1913095  0.09596549 0.03290377 0.         0.         0.\n",
      "  0.         0.         0.03290377 0.         0.         0.13319225\n",
      "  0.19589731 0.09596549 0.         0.         0.12503686 0.\n",
      "  0.12503686 0.12503686 0.         0.        ]]\n"
     ]
    },
    {
     "name": "stderr",
     "output_type": "stream",
     "text": [
      "/home/tsr42/anaconda3/envs/curvvaecuda/lib/python3.6/site-packages/ipykernel_launcher.py:17: VisibleDeprecationWarning: Creating an ndarray from ragged nested sequences (which is a list-or-tuple of lists-or-tuples-or ndarrays with different lengths or shapes) is deprecated. If you meant to do this, you must specify 'dtype=object' when creating the ndarray\n"
     ]
    }
   ],
   "source": [
    "gap = 4\n",
    "basexs = np.array([0,1,2,3,4,5,6,7,8,9,10])\n",
    "basexs = np.array([0,1,3,7,11,4,8,12,5,9,13])\n",
    "xs = np.array(basexs.tolist() + (basexs+ 13 + gap).tolist())\n",
    "successes = [5,21,24,25,25,25,25,25,24,25,25,0,8,21,25,25,19,25,19,19,25,25]\n",
    "ys = np.array(successes)/25\n",
    "yerrs = np.abs(np.array([get_confidence_bounds(s,25) for s in successes]).T-ys)\n",
    "print(yerrs)\n",
    "tick_labs = np.array([\"$45^\\circ$\",\"$75^\\circ$\",\n",
    "                      \"\",\"\",\"\",\n",
    "                      \"$30^\\circ$\",\"$45^\\circ$\",\"$60^\\circ$\",\n",
    "                      \"\",\"\",\"\"\n",
    "                     ] * 2 )\n",
    "blue = ((np.array([0,47,108])+100)/255).tolist()\n",
    "red = (np.array([170,20,45])/200).tolist()\n",
    "\n",
    "colors = np.array(([red] * 2 + [\"tab:green\"] * 3+ [\"gray\"] * 3+ [blue] * 3) * 2)\n",
    "hatches = (([\"/\"] * 2 + [\"\\\\\"]*3+ [\"-\"]*3+ [\"\"]*3)*2)"
   ]
  },
  {
   "cell_type": "code",
   "execution_count": 7,
   "metadata": {
    "ExecuteTime": {
     "end_time": "2022-07-29T23:14:03.582296Z",
     "start_time": "2022-07-29T23:14:03.580073Z"
    }
   },
   "outputs": [],
   "source": [
    "import matplotlib\n",
    "font = {'size'   : 22}\n",
    "matplotlib.rc('font', **font)"
   ]
  },
  {
   "cell_type": "code",
   "execution_count": 8,
   "metadata": {
    "ExecuteTime": {
     "end_time": "2022-07-29T23:14:03.586580Z",
     "start_time": "2022-07-29T23:14:03.583125Z"
    }
   },
   "outputs": [
    {
     "data": {
      "text/plain": [
       "array(['$45^\\\\circ$', '$75^\\\\circ$', '', '', '', '$30^\\\\circ$',\n",
       "       '$45^\\\\circ$', '$60^\\\\circ$', '', '', '', '$45^\\\\circ$',\n",
       "       '$75^\\\\circ$', '', '', '', '$30^\\\\circ$', '$45^\\\\circ$',\n",
       "       '$60^\\\\circ$', '', '', ''], dtype='<U10')"
      ]
     },
     "execution_count": 8,
     "metadata": {},
     "output_type": "execute_result"
    }
   ],
   "source": [
    "tick_labs"
   ]
  },
  {
   "cell_type": "code",
   "execution_count": 10,
   "metadata": {
    "ExecuteTime": {
     "end_time": "2022-07-29T23:14:25.435437Z",
     "start_time": "2022-07-29T23:14:25.432996Z"
    }
   },
   "outputs": [],
   "source": [
    "import os\n",
    "os.makedirs(\"reviewfeedbackimages\", exist_ok=True)"
   ]
  },
  {
   "cell_type": "code",
   "execution_count": 30,
   "metadata": {
    "ExecuteTime": {
     "end_time": "2022-07-30T01:32:07.350907Z",
     "start_time": "2022-07-30T01:32:06.626362Z"
    }
   },
   "outputs": [
    {
     "data": {
      "image/png": "[encoded data removed]",
      "text/plain": [
       "<Figure size 864x288 with 1 Axes>"
      ]
     },
     "metadata": {
      "needs_background": "light"
     },
     "output_type": "display_data"
    }
   ],
   "source": [
    "f,ax = plt.subplots(1,1,figsize=(12,4))\n",
    "artistlist = []\n",
    "for i in range(len(xs)):\n",
    "    q = plt.bar(xs[i],ys[i],yerr=yerrs[:,i:i+1],color=colors[i],capsize=5,error_kw={\"linewidth\":5,\"markeredgewidth\":5},width=0.8,hatch=hatches[i])\n",
    "    artistlist.append(q)\n",
    "plt.xticks(ticks=xs,labels=tick_labs,rotation = 90)\n",
    "plt.yticks(ticks=np.linspace(0,1,6), labels = [\"%0.1f\" % v for v in np.linspace(0,1,6)])\n",
    "#plt.ylabel(\"Success Fraction\")\n",
    "plt.ylim(-0.00,1.05)\n",
    "ax.spines['right'].set_visible(False)\n",
    "ax.spines['top'].set_visible(False)\n",
    "plt.setp(ax.spines.values(), linewidth=5)\n",
    "plt.setp(ax.spines.values(), linewidth=5)\n",
    "ax.xaxis.set_tick_params(width=3)\n",
    "ax.yaxis.set_tick_params(width=3)\n",
    "savefilename = \"reviewfeedbackimages/successResultBarChart.png\"\n",
    "plt.setp(ax.spines.values(), linewidth=3)\n",
    "plt.savefig(savefilename,bbox_inches=\"tight\")\n",
    "plt.legend([artistlist[i] for i in [0,2,5,8]],[\"Hardcoded\", \"PCA\", \"BetaVAE\",\"CurvVAE\"],bbox_to_anchor =(0.55, 1, 0.5, 0.4),ncol=4,frameon=False)\n",
    "plt.savefig(savefilename,bbox_inches=\"tight\")"
   ]
  },
  {
   "cell_type": "code",
   "execution_count": 31,
   "metadata": {
    "ExecuteTime": {
     "end_time": "2022-07-30T01:32:14.008708Z",
     "start_time": "2022-07-30T01:32:13.919789Z"
    }
   },
   "outputs": [
    {
     "data": {
      "image/png": "[encoded data removed]",
      "text/plain": [
       "<Figure size 432x288 with 1 Axes>"
      ]
     },
     "metadata": {
      "needs_background": "light"
     },
     "output_type": "display_data"
    }
   ],
   "source": [
    "from PIL import Image\n",
    "img = Image.open(savefilename).convert(\"L\")\n",
    "plt.imshow(img,cmap=\"gray\")\n",
    "plt.show()\n",
    "plt.close()"
   ]
  },
  {
   "cell_type": "code",
   "execution_count": null,
   "metadata": {},
   "outputs": [],
   "source": []
  },
  {
   "cell_type": "markdown",
   "metadata": {},
   "source": [
    "# Test Significance"
   ]
  },
  {
   "cell_type": "code",
   "execution_count": null,
   "metadata": {
    "ExecuteTime": {
     "end_time": "2022-07-29T23:14:04.296856Z",
     "start_time": "2022-07-29T23:14:01.370Z"
    }
   },
   "outputs": [],
   "source": [
    "import scipy.stats\n",
    "successes = np.array((8,25),dtype=np.int)\n",
    "fails = 25 -successes\n",
    "matrix = np.concatenate([successes,fails],axis=0).reshape(2,2)\n",
    "print(matrix)\n",
    "scipy.stats.fisher_exact(matrix, alternative='less')"
   ]
  },
  {
   "cell_type": "code",
   "execution_count": null,
   "metadata": {},
   "outputs": [],
   "source": []
  }
 ],
 "metadata": {
  "kernelspec": {
   "display_name": "Python 3",
   "language": "python",
   "name": "python3"
  },
  "language_info": {
   "codemirror_mode": {
    "name": "ipython",
    "version": 3
   },
   "file_extension": ".py",
   "mimetype": "text/x-python",
   "name": "python",
   "nbconvert_exporter": "python",
   "pygments_lexer": "ipython3",
   "version": "3.6.12"
  }
 },
 "nbformat": 4,
 "nbformat_minor": 4
}
