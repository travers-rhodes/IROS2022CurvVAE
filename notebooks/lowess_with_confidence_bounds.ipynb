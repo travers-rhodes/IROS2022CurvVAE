{
 "cells": [
  {
   "cell_type": "code",
   "execution_count": 1,
   "id": "cca691be",
   "metadata": {
    "ExecuteTime": {
     "end_time": "2022-07-18T23:27:45.109160Z",
     "start_time": "2022-07-18T23:27:43.221211Z"
    }
   },
   "outputs": [
    {
     "name": "stderr",
     "output_type": "stream",
     "text": [
      "Matplotlib created a temporary config/cache directory at /tmp/matplotlib-a89nej7x because the default path (/home/tsr42/.cache/matplotlib) is not a writable directory; it is highly recommended to set the MPLCONFIGDIR environment variable to a writable directory, in particular to speed up the import of Matplotlib and to better support multiprocessing.\n"
     ]
    }
   ],
   "source": [
    "%matplotlib inline\n",
    "import numpy as np\n",
    "import matplotlib.pyplot as plt\n",
    "import sklearn.neighbors"
   ]
  },
  {
   "cell_type": "code",
   "execution_count": 20,
   "id": "8e5f4cd7",
   "metadata": {
    "ExecuteTime": {
     "end_time": "2022-07-18T23:32:34.923484Z",
     "start_time": "2022-07-18T23:32:34.918118Z"
    }
   },
   "outputs": [],
   "source": [
    "def weights(signed_dists):\n",
    "    #The weight for a specific point in any localized subset of data is obtained by evaluating \n",
    "    # the weight function at the distance between that point and the point of estimation, \n",
    "    # after scaling the distance so that the maximum absolute distance over all of the points \n",
    "    # in the subset of data is exactly one.\n",
    "    minscale = None # later, when this breaks, try with 1e-8\n",
    "    scale = np.max(np.max(signed_dists),0) - np.min(np.min(signed_dists),0)# np.clip(,minscale, None)\n",
    "    # https://www.itl.nist.gov/div898/handbook/pmd/section1/pmd144.htm\n",
    "    weight = np.clip((1-(np.abs(signed_dists)/scale)**3)**3,0,1)\n",
    "    #weight = np.ones(len(signed_dists)).reshape(-1,1)set weights equal for testing\n",
    "    return weight"
   ]
  },
  {
   "cell_type": "code",
   "execution_count": 21,
   "id": "a94d07ff",
   "metadata": {
    "ExecuteTime": {
     "end_time": "2022-07-18T23:32:35.212097Z",
     "start_time": "2022-07-18T23:32:35.122480Z"
    }
   },
   "outputs": [
    {
     "data": {
      "text/plain": [
       "[<matplotlib.lines.Line2D at 0x7f43ce1a3d68>]"
      ]
     },
     "execution_count": 21,
     "metadata": {},
     "output_type": "execute_result"
    },
    {
     "data": {
      "image/png": "[encoded data removed]",
      "text/plain": [
       "<Figure size 432x288 with 1 Axes>"
      ]
     },
     "metadata": {
      "needs_background": "light"
     },
     "output_type": "display_data"
    }
   ],
   "source": [
    "x = np.arange(0,3,0.01)\n",
    "plt.plot(weights(x))"
   ]
  },
  {
   "cell_type": "code",
   "execution_count": 22,
   "id": "7d43247f",
   "metadata": {
    "ExecuteTime": {
     "end_time": "2022-07-18T23:32:35.353097Z",
     "start_time": "2022-07-18T23:32:35.341497Z"
    }
   },
   "outputs": [],
   "source": [
    "def safe_divide_arrays(ns,ds):\n",
    "    res = []\n",
    "    for i in range(len(ns)):\n",
    "        n = ns.flatten()[i]\n",
    "        d = ds.flatten()[i]\n",
    "        res.append(0 if (np.any(d == 0) or np.any(np.isnan(d))) else n/d)\n",
    "    return np.array(res)"
   ]
  },
  {
   "cell_type": "code",
   "execution_count": 61,
   "id": "f9071702",
   "metadata": {
    "ExecuteTime": {
     "end_time": "2022-07-19T16:53:34.433813Z",
     "start_time": "2022-07-19T16:53:34.423950Z"
    }
   },
   "outputs": [],
   "source": [
    "# learn how to do this ourselves. yay.\n",
    "def fit_1d_lowess_with_confidence_bounds(x,y,x_target, q):\n",
    "    x = x.reshape(-1,1)\n",
    "    y = y.reshape(-1,1)\n",
    "    N = len(x)\n",
    "    n_neighbors = int(np.ceil(q*N))\n",
    "    nbrs = sklearn.neighbors.NearestNeighbors(n_neighbors=n_neighbors, algorithm='ball_tree').fit(x.reshape(-1,1))\n",
    "    means = []\n",
    "    stds = []\n",
    "    resid_point_stds = []\n",
    "    # we'll be fitting a new linear model at each of the x_target points\n",
    "    for xtar in x_target:\n",
    "        xtar = xtar.reshape(1,1)\n",
    "        distances, indices = nbrs.kneighbors(xtar)\n",
    "        indices = indices.flatten()\n",
    "        signed_distances = (x[indices] - xtar)\n",
    "        y_subset = y[indices]\n",
    "        w = weights(signed_distances)\n",
    "        w = w/np.sum(w)\n",
    "        wx = np.sqrt(w) * signed_distances\n",
    "        \n",
    "        Y  = np.sqrt(w) * y_subset\n",
    "        X = np.concatenate((np.sqrt(w),wx),axis=1)\n",
    "        \n",
    "        n_effective = np.sum(w)/np.sum(np.square(w))\n",
    "        invcovmat = np.linalg.inv(X.T @ X)\n",
    "        beta = invcovmat @ X.T @Y\n",
    "        residual = (Y - X@beta)\n",
    "        #print(residual/np.sqrt(w))\n",
    "        residual_variance = np.sum(np.square(residual)) # sum has scale w inside it so it is already like a mean\n",
    "        # note: R uses len(residual)-2 instead of n_effective-2 here. Weird.\n",
    "        residual_SE = np.sqrt(residual_variance/(n_effective-2))\n",
    "        intercept_SE = np.sqrt(invcovmat[0,0]) * residual_SE\n",
    "        print(f\"residual_variance:{residual_variance}\")\n",
    "        print(f\"mean:{beta[0,0]}, residual_SE:{residual_SE}, intercept_SE:{intercept_SE}, np.sqrt(invcovmat[0,0]):{np.sqrt(invcovmat[0,0])}\")\n",
    "        means.append(beta[0,0])\n",
    "        stds.append(intercept_SE)\n",
    "        resid_point_stds.append(residual_SE*np.sqrt(n_effective-2))\n",
    "    means = np.array(means)\n",
    "    stds = np.array(stds)\n",
    "    resid_point_stds = np.array(resid_point_stds)\n",
    "    return(means,stds,resid_point_stds)"
   ]
  },
  {
   "cell_type": "code",
   "execution_count": 62,
   "id": "a40be310",
   "metadata": {
    "ExecuteTime": {
     "end_time": "2022-07-19T16:53:34.714634Z",
     "start_time": "2022-07-19T16:53:34.690633Z"
    },
    "scrolled": false
   },
   "outputs": [
    {
     "name": "stdout",
     "output_type": "stream",
     "text": [
      "residual_variance:0.5868978450068995\n",
      "mean:0.5289453740617498, residual_SE:0.3771781809213435, intercept_SE:0.6162207207290245, np.sqrt(invcovmat[0,0]):1.6337655567025782\n",
      "residual_variance:1.0482037478183073\n",
      "mean:1.3186348313572531, residual_SE:0.4534916033133102, intercept_SE:0.5999367327424961, np.sqrt(invcovmat[0,0]):1.3229279844637154\n"
     ]
    },
    {
     "data": {
      "text/plain": [
       "(array([0.52894537, 1.31863483]),\n",
       " array([0.61622072, 0.59993673]),\n",
       " array([0.76609258, 1.02381822]))"
      ]
     },
     "execution_count": 62,
     "metadata": {},
     "output_type": "execute_result"
    }
   ],
   "source": [
    "fit_1d_lowess_with_confidence_bounds(np.arange(9),np.array((0,1,2,3,4,3,2,1,0)), np.arange(2),1.)"
   ]
  },
  {
   "cell_type": "code",
   "execution_count": 63,
   "id": "90d79ae9",
   "metadata": {
    "ExecuteTime": {
     "end_time": "2022-07-19T16:53:56.544261Z",
     "start_time": "2022-07-19T16:53:56.533466Z"
    }
   },
   "outputs": [
    {
     "name": "stdout",
     "output_type": "stream",
     "text": [
      "residual_variance:1.0549164941081597\n",
      "mean:-0.021239915601279212, residual_SE:0.04628342326328111, intercept_SE:0.0462834643652296, np.sqrt(invcovmat[0,0]):1.000000888049016\n",
      "residual_variance:0.9177348035235545\n",
      "mean:0.019210863017013233, residual_SE:0.043169296943480935, intercept_SE:0.043169296943480935, np.sqrt(invcovmat[0,0]):1.0\n",
      "residual_variance:0.916443450723531\n",
      "mean:0.03946946469613642, residual_SE:0.04313891996199112, intercept_SE:0.04313895827146656, np.sqrt(invcovmat[0,0]):1.0000008880490163\n"
     ]
    }
   ],
   "source": [
    "X = np.linspace(0,1,1000)\n",
    "Y = np.random.normal(size=1000)\n",
    "targxs = np.array((0.25,0.5,0.75))\n",
    "m,s,ps = fit_1d_lowess_with_confidence_bounds(X,Y, targxs,0.5)"
   ]
  },
  {
   "cell_type": "code",
   "execution_count": 65,
   "id": "1f3c7e04",
   "metadata": {
    "ExecuteTime": {
     "end_time": "2022-07-19T16:54:07.707810Z",
     "start_time": "2022-07-19T16:54:07.704808Z"
    }
   },
   "outputs": [
    {
     "name": "stdout",
     "output_type": "stream",
     "text": [
      "[-0.02123992  0.01921086  0.03946946] [0.04628346 0.0431693  0.04313896] [1.02709128 0.95798476 0.95731053]\n"
     ]
    }
   ],
   "source": [
    "print(m,s,ps)"
   ]
  },
  {
   "cell_type": "code",
   "execution_count": 66,
   "id": "59402d16",
   "metadata": {
    "ExecuteTime": {
     "end_time": "2022-07-19T16:54:54.291576Z",
     "start_time": "2022-07-19T16:54:54.185672Z"
    }
   },
   "outputs": [
    {
     "data": {
      "text/plain": [
       "<matplotlib.collections.PathCollection at 0x7f43cc19f470>"
      ]
     },
     "execution_count": 66,
     "metadata": {},
     "output_type": "execute_result"
    },
    {
     "data": {
      "image/png": "[encoded data removed]",
      "text/plain": [
       "<Figure size 432x288 with 1 Axes>"
      ]
     },
     "metadata": {
      "needs_background": "light"
     },
     "output_type": "display_data"
    }
   ],
   "source": [
    "plt.plot(targxs,m)\n",
    "plt.plot(targxs,m+2*(s+ps))\n",
    "plt.plot(targxs,m-2*(s+ps))\n",
    "plt.scatter(X,Y)"
   ]
  },
  {
   "cell_type": "code",
   "execution_count": null,
   "id": "8328b60f",
   "metadata": {},
   "outputs": [],
   "source": []
  }
 ],
 "metadata": {
  "kernelspec": {
   "display_name": "Python 3",
   "language": "python",
   "name": "python3"
  },
  "language_info": {
   "codemirror_mode": {
    "name": "ipython",
    "version": 3
   },
   "file_extension": ".py",
   "mimetype": "text/x-python",
   "name": "python",
   "nbconvert_exporter": "python",
   "pygments_lexer": "ipython3",
   "version": "3.6.13"
  }
 },
 "nbformat": 4,
 "nbformat_minor": 5
}
