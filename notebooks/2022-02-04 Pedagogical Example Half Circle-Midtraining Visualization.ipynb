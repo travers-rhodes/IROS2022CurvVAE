{
 "cells": [
  {
   "cell_type": "code",
   "execution_count": 1,
   "metadata": {
    "ExecuteTime": {
     "end_time": "2022-02-04T20:47:03.624988Z",
     "start_time": "2022-02-04T20:47:01.884631Z"
    },
    "scrolled": true
   },
   "outputs": [
    {
     "name": "stderr",
     "output_type": "stream",
     "text": [
      "Matplotlib created a temporary config/cache directory at /tmp/matplotlib-ugghef97 because the default path (/home/tsr42/.cache/matplotlib) is not a writable directory; it is highly recommended to set the MPLCONFIGDIR environment variable to a writable directory, in particular to speed up the import of Matplotlib and to better support multiprocessing.\n"
     ]
    }
   ],
   "source": [
    "%matplotlib inline\n",
    "import matplotlib.pyplot as plt\n",
    "import numpy as np\n",
    "import datetime\n",
    "import torch\n",
    "from torch.nn import functional as F\n",
    "import scipy.stats\n",
    "import sklearn.datasets\n",
    "\n",
    "import sys\n",
    "sys.path.append(\"../\")\n",
    "import curvvae_lib.train.predictive_passthrough_trainer as ppttrainer\n",
    "import curvvae_lib.architecture.passthrough_vae as ptvae\n",
    "import curvvae_lib.architecture.save_model as sm\n",
    "import curvvae_lib.architecture.load_model as lm"
   ]
  },
  {
   "cell_type": "markdown",
   "metadata": {},
   "source": [
    "# Dataset"
   ]
  },
  {
   "cell_type": "code",
   "execution_count": 2,
   "metadata": {
    "ExecuteTime": {
     "end_time": "2022-02-04T20:47:03.629212Z",
     "start_time": "2022-02-04T20:47:03.626475Z"
    }
   },
   "outputs": [],
   "source": [
    "dataset_dim = 2\n",
    "num_rand_samples = 16\n",
    "num_unif_samples = 16\n",
    "num_samples = num_rand_samples+num_unif_samples\n",
    "noise_size = 0.2"
   ]
  },
  {
   "cell_type": "code",
   "execution_count": 3,
   "metadata": {
    "ExecuteTime": {
     "end_time": "2022-02-04T20:47:03.636649Z",
     "start_time": "2022-02-04T20:47:03.630931Z"
    }
   },
   "outputs": [],
   "source": [
    "np.random.seed(1)\n",
    "ts = np.random.normal(3*np.pi/2,np.pi/3,num_rand_samples)\n",
    "ts = np.concatenate((ts,np.linspace(5 * np.pi/6, 13 * np.pi / 6, num_unif_samples)))\n",
    "xs = np.cos(ts) * (1+ noise_size * np.exp((-(ts-(3*np.pi/2))**2)/2) * np.random.normal(size=num_samples))\n",
    "ys = np.sin(ts) * (1+ noise_size * np.exp((-(ts-(3*np.pi/2))**2)/2) * np.random.normal(size=num_samples))\n",
    "dataset = np.hstack((xs[:,np.newaxis],ys[:,np.newaxis])) * 1000"
   ]
  },
  {
   "cell_type": "code",
   "execution_count": 4,
   "metadata": {
    "ExecuteTime": {
     "end_time": "2022-02-04T20:47:03.753530Z",
     "start_time": "2022-02-04T20:47:03.638265Z"
    },
    "scrolled": false
   },
   "outputs": [
    {
     "data": {
      "text/plain": [
       "(-1056.2042446202956,\n",
       " 1101.1535983509552,\n",
       " -1234.039516750181,\n",
       " 835.4409579453084)"
      ]
     },
     "execution_count": 4,
     "metadata": {},
     "output_type": "execute_result"
    },
    {
     "data": {
      "image/png": "[encoded data removed]",
      "text/plain": [
       "<Figure size 432x288 with 1 Axes>"
      ]
     },
     "metadata": {
      "needs_background": "light"
     },
     "output_type": "display_data"
    }
   ],
   "source": [
    "plt.scatter(dataset[:,0],dataset[:,1])\n",
    "plt.axis(\"equal\")\n",
    "#plt.plot(np.cos(np.arange(0,100,0.01)),np.sin(np.arange(0,100,0.01)))"
   ]
  },
  {
   "cell_type": "markdown",
   "metadata": {},
   "source": [
    "# 1D VAE Fit to Dataset"
   ]
  },
  {
   "cell_type": "code",
   "execution_count": 5,
   "metadata": {
    "ExecuteTime": {
     "end_time": "2022-02-04T20:47:03.760329Z",
     "start_time": "2022-02-04T20:47:03.754927Z"
    }
   },
   "outputs": [],
   "source": [
    "def LoadDataBatch(all_points, batchsize, passthroughdim, predictive, device, alldata=False):\n",
    "    \"\"\"Sample Pair of Points from Trajectory\"\"\"\n",
    "    if alldata:\n",
    "        if batchsize is not None:\n",
    "            raise \"don't pass in batchsize if you're doing all data\"\n",
    "        traj_ids = range(all_points.shape[0])\n",
    "        t1_ids = [0]\n",
    "        t2_ids = t1_ids\n",
    "    else:\n",
    "        # all_points should be of dimension: num_trajectories, numtimesteps, 1+spatialdims\n",
    "        traj_ids = np.random.choice(all_points.shape[0], batchsize)\n",
    "        t1_ids = np.random.choice(all_points.shape[1], batchsize)\n",
    "        if predictive:\n",
    "            t2_ids = np.random.choice(all_points.shape[1], batchsize)\n",
    "        else:\n",
    "            t2_ids = t1_ids\n",
    "    return (torch.tensor(all_points[traj_ids, t1_ids,passthroughdim:], dtype=torch.float).to(device),\n",
    "            torch.tensor(all_points[traj_ids, t1_ids,:passthroughdim], dtype=torch.float).to(device),\n",
    "            torch.tensor(all_points[traj_ids, t2_ids,passthroughdim:], dtype=torch.float).to(device),\n",
    "            torch.tensor(all_points[traj_ids, t2_ids,:passthroughdim], dtype=torch.float).to(device))"
   ]
  },
  {
   "cell_type": "code",
   "execution_count": 6,
   "metadata": {
    "ExecuteTime": {
     "end_time": "2022-02-04T20:47:03.765464Z",
     "start_time": "2022-02-04T20:47:03.761394Z"
    }
   },
   "outputs": [],
   "source": [
    "class Loader(object):\n",
    "    def __init__(self, all_points, batchsize, passthroughdim, epochnumbatches, predictive, device):\n",
    "        self.all_points = all_points\n",
    "        self.batchsize = batchsize\n",
    "        self.passthroughdim = passthroughdim\n",
    "        self.epochnumbatches = epochnumbatches\n",
    "        self.predictive = predictive\n",
    "        self.device = device\n",
    "        \n",
    "    def __iter__(self):\n",
    "        self.n = 0\n",
    "        return self\n",
    "    \n",
    "    def __next__(self):\n",
    "        if self.n >= self.epochnumbatches:\n",
    "            # https://docs.python.org/3/library/exceptions.html#StopIteration\n",
    "            raise StopIteration\n",
    "        self.n += 1\n",
    "        return LoadDataBatch(self.all_points, self.batchsize, self.passthroughdim, self.predictive, self.device)\n",
    "    \n",
    "\n",
    "device = \"cuda\"\n",
    "train_loader = Loader(dataset[:,np.newaxis,:], 256, 0,10,predictive=False, device=device)\n",
    "    "
   ]
  },
  {
   "cell_type": "code",
   "execution_count": 7,
   "metadata": {
    "ExecuteTime": {
     "end_time": "2022-02-04T20:47:03.769027Z",
     "start_time": "2022-02-04T20:47:03.766527Z"
    }
   },
   "outputs": [],
   "source": [
    "def make_vae(latent_dim, initialization_scale):\n",
    "    input_dim = dataset_dim \n",
    "    passthrough_dim = 0\n",
    "    emb_layer_widths = [1000]\n",
    "    recon_layer_widths = [1000]\n",
    "    dtype = torch.float\n",
    "    model = ptvae.FCPassthroughVAE(input_dim, passthrough_dim, latent_dim,\n",
    "        emb_layer_widths, recon_layer_widths, dtype, initialization_scale = initialization_scale)\n",
    "    return model"
   ]
  },
  {
   "cell_type": "code",
   "execution_count": 8,
   "metadata": {
    "ExecuteTime": {
     "end_time": "2022-02-04T20:47:03.773494Z",
     "start_time": "2022-02-04T20:47:03.770591Z"
    }
   },
   "outputs": [],
   "source": [
    "testname = \"pedagogical/swiss2d\""
   ]
  },
  {
   "cell_type": "code",
   "execution_count": 25,
   "metadata": {
    "ExecuteTime": {
     "end_time": "2022-02-04T21:19:10.305634Z",
     "start_time": "2022-02-04T21:19:10.303242Z"
    }
   },
   "outputs": [],
   "source": [
    "all_models = [\"pedagogical/swiss2d_lat1_secreg0_curvreg0_beta1_20220204-161342\"]"
   ]
  },
  {
   "cell_type": "code",
   "execution_count": 10,
   "metadata": {
    "ExecuteTime": {
     "end_time": "2022-02-04T20:47:03.780250Z",
     "start_time": "2022-02-04T20:47:03.777854Z"
    }
   },
   "outputs": [],
   "source": [
    "\n",
    "colors=[\"red\",\"yellow\",\"green\",\"orange\",\"black\",\"gray\",\"blue\"]"
   ]
  },
  {
   "cell_type": "code",
   "execution_count": 11,
   "metadata": {
    "ExecuteTime": {
     "end_time": "2022-02-04T20:47:03.789793Z",
     "start_time": "2022-02-04T20:47:03.781286Z"
    }
   },
   "outputs": [
    {
     "name": "stdout",
     "output_type": "stream",
     "text": [
      "pedagogical/swiss2d_scale100_lat1_secreg0_curvreg0_beta1_20220204-153923\n",
      "pedagogical/swiss2d_scale10000_lat1_secreg0_curvreg0_beta1_20220204-154138\n",
      "pedagogical/swiss2d_scale10_lat1_secreg0_curvreg0_beta1_20220204-154352\n"
     ]
    }
   ],
   "source": [
    "for i, modelpath in enumerate(all_models):\n",
    "    print(modelpath)\n",
    "    vae = lm.load_model(modelpath)"
   ]
  },
  {
   "cell_type": "code",
   "execution_count": 23,
   "metadata": {
    "ExecuteTime": {
     "end_time": "2022-02-04T20:50:40.834677Z",
     "start_time": "2022-02-04T20:50:40.358472Z"
    },
    "scrolled": false
   },
   "outputs": [
    {
     "data": {
      "image/png": "[encoded data removed]",
      "text/plain": [
       "<Figure size 432x288 with 1 Axes>"
      ]
     },
     "metadata": {
      "needs_background": "light"
     },
     "output_type": "display_data"
    },
    {
     "data": {
      "image/png": "[encoded data removed]",
      "text/plain": [
       "<Figure size 432x288 with 1 Axes>"
      ]
     },
     "metadata": {
      "needs_background": "light"
     },
     "output_type": "display_data"
    },
    {
     "data": {
      "image/png": "[encoded data removed]",
      "text/plain": [
       "<Figure size 432x288 with 1 Axes>"
      ]
     },
     "metadata": {
      "needs_background": "light"
     },
     "output_type": "display_data"
    },
    {
     "data": {
      "image/png": "[encoded data removed]",
      "text/plain": [
       "<Figure size 432x288 with 1 Axes>"
      ]
     },
     "metadata": {
      "needs_background": "light"
     },
     "output_type": "display_data"
    }
   ],
   "source": [
    "\n",
    "for initialization_scale in [1,10,100,1000]:\n",
    "    fig = plt.figure()\n",
    "    #print(modelpath)\n",
    "    #vae = lm.load_model(modelpath)\n",
    "    vae = make_vae(latent_dim=1, initialization_scale=initialization_scale)\n",
    "    embeds = vae.encode(torch.tensor(dataset,dtype=torch.float),\n",
    "                       torch.tensor(np.zeros((len(dataset),0)),dtype=torch.float)\n",
    "                       )[0].detach().cpu().numpy()\n",
    "    pts = np.linspace(np.min(embeds[:,0]),np.max(embeds[:,0]),100).reshape((-1,1))\n",
    "    readout = vae.decode(torch.tensor(pts,dtype=torch.float),\n",
    "              torch.tensor(np.zeros((len(pts),0)),dtype=torch.float))[0].detach().cpu()\n",
    "    \n",
    "    #plt.scatter(dataset[:,0],dataset[:,1]);\n",
    "    plt.scatter(readout[:,0],readout[:,1], alpha=0.5);"
   ]
  },
  {
   "cell_type": "code",
   "execution_count": null,
   "metadata": {},
   "outputs": [],
   "source": []
  },
  {
   "cell_type": "code",
   "execution_count": 26,
   "metadata": {
    "ExecuteTime": {
     "end_time": "2022-02-04T21:19:14.804912Z",
     "start_time": "2022-02-04T21:19:14.793862Z"
    }
   },
   "outputs": [
    {
     "ename": "TypeError",
     "evalue": "__init__() missing 1 required positional argument: 'initialization_scale'",
     "output_type": "error",
     "traceback": [
      "\u001b[0;31m---------------------------------------------------------------------------\u001b[0m",
      "\u001b[0;31mTypeError\u001b[0m                                 Traceback (most recent call last)",
      "\u001b[0;32m<ipython-input-26-30c5645a90ab>\u001b[0m in \u001b[0;36m<module>\u001b[0;34m\u001b[0m\n\u001b[1;32m      1\u001b[0m \u001b[0;32mfor\u001b[0m \u001b[0mmodelpath\u001b[0m \u001b[0;32min\u001b[0m \u001b[0mall_models\u001b[0m\u001b[0;34m:\u001b[0m\u001b[0;34m\u001b[0m\u001b[0;34m\u001b[0m\u001b[0m\n\u001b[0;32m----> 2\u001b[0;31m     \u001b[0mvae\u001b[0m \u001b[0;34m=\u001b[0m \u001b[0mlm\u001b[0m\u001b[0;34m.\u001b[0m\u001b[0mload_model\u001b[0m\u001b[0;34m(\u001b[0m\u001b[0mmodelpath\u001b[0m\u001b[0;34m)\u001b[0m\u001b[0;34m\u001b[0m\u001b[0;34m\u001b[0m\u001b[0m\n\u001b[0m\u001b[1;32m      3\u001b[0m     \u001b[0mdat\u001b[0m \u001b[0;34m=\u001b[0m \u001b[0mvae\u001b[0m\u001b[0;34m.\u001b[0m\u001b[0mall_emb_layers\u001b[0m\u001b[0;34m[\u001b[0m\u001b[0;36m0\u001b[0m\u001b[0;34m]\u001b[0m\u001b[0;34m.\u001b[0m\u001b[0mweight\u001b[0m\u001b[0;34m.\u001b[0m\u001b[0mdetach\u001b[0m\u001b[0;34m(\u001b[0m\u001b[0;34m)\u001b[0m\u001b[0;34m.\u001b[0m\u001b[0mcpu\u001b[0m\u001b[0;34m(\u001b[0m\u001b[0;34m)\u001b[0m\u001b[0;34m.\u001b[0m\u001b[0mnumpy\u001b[0m\u001b[0;34m(\u001b[0m\u001b[0;34m)\u001b[0m\u001b[0;34m\u001b[0m\u001b[0;34m\u001b[0m\u001b[0m\n\u001b[1;32m      4\u001b[0m     \u001b[0mprint\u001b[0m\u001b[0;34m(\u001b[0m\u001b[0mnp\u001b[0m\u001b[0;34m.\u001b[0m\u001b[0mmean\u001b[0m\u001b[0;34m(\u001b[0m\u001b[0mdat\u001b[0m\u001b[0;34m)\u001b[0m\u001b[0;34m,\u001b[0m\u001b[0mnp\u001b[0m\u001b[0;34m.\u001b[0m\u001b[0mmax\u001b[0m\u001b[0;34m(\u001b[0m\u001b[0mdat\u001b[0m\u001b[0;34m)\u001b[0m\u001b[0;34m,\u001b[0m\u001b[0mnp\u001b[0m\u001b[0;34m.\u001b[0m\u001b[0mmin\u001b[0m\u001b[0;34m(\u001b[0m\u001b[0mdat\u001b[0m\u001b[0;34m)\u001b[0m\u001b[0;34m,\u001b[0m\u001b[0mnp\u001b[0m\u001b[0;34m.\u001b[0m\u001b[0mstd\u001b[0m\u001b[0;34m(\u001b[0m\u001b[0mdat\u001b[0m\u001b[0;34m)\u001b[0m\u001b[0;34m)\u001b[0m\u001b[0;34m\u001b[0m\u001b[0;34m\u001b[0m\u001b[0m\n\u001b[1;32m      5\u001b[0m     \u001b[0mdat\u001b[0m \u001b[0;34m=\u001b[0m \u001b[0mvae\u001b[0m\u001b[0;34m.\u001b[0m\u001b[0mall_emb_layers\u001b[0m\u001b[0;34m[\u001b[0m\u001b[0;36m0\u001b[0m\u001b[0;34m]\u001b[0m\u001b[0;34m.\u001b[0m\u001b[0mbias\u001b[0m\u001b[0;34m.\u001b[0m\u001b[0mdetach\u001b[0m\u001b[0;34m(\u001b[0m\u001b[0;34m)\u001b[0m\u001b[0;34m.\u001b[0m\u001b[0mcpu\u001b[0m\u001b[0;34m(\u001b[0m\u001b[0;34m)\u001b[0m\u001b[0;34m.\u001b[0m\u001b[0mnumpy\u001b[0m\u001b[0;34m(\u001b[0m\u001b[0;34m)\u001b[0m\u001b[0;34m\u001b[0m\u001b[0;34m\u001b[0m\u001b[0m\n",
      "\u001b[0;32m/mnt/homes/@LH-CORNELL.EDU/61/tsr42-1000002/IROS2022CurvVAE/curvvae_lib/architecture/load_model.py\u001b[0m in \u001b[0;36mload_model\u001b[0;34m(model_folder_path, device)\u001b[0m\n\u001b[1;32m     10\u001b[0m       \u001b[0mkwargs\u001b[0m \u001b[0;34m=\u001b[0m \u001b[0mpickle\u001b[0m\u001b[0;34m.\u001b[0m\u001b[0mload\u001b[0m\u001b[0;34m(\u001b[0m\u001b[0mf\u001b[0m\u001b[0;34m)\u001b[0m\u001b[0;34m\u001b[0m\u001b[0;34m\u001b[0m\u001b[0m\n\u001b[1;32m     11\u001b[0m     \u001b[0;32mif\u001b[0m \u001b[0mmodel_type\u001b[0m \u001b[0;34m==\u001b[0m \u001b[0;34m\"fcpassthroughvae\"\u001b[0m\u001b[0;34m:\u001b[0m\u001b[0;34m\u001b[0m\u001b[0;34m\u001b[0m\u001b[0m\n\u001b[0;32m---> 12\u001b[0;31m         \u001b[0mmodel\u001b[0m \u001b[0;34m=\u001b[0m \u001b[0mFCPassthroughVAE\u001b[0m\u001b[0;34m(\u001b[0m\u001b[0;34m**\u001b[0m\u001b[0mkwargs\u001b[0m\u001b[0;34m)\u001b[0m\u001b[0;34m.\u001b[0m\u001b[0mto\u001b[0m\u001b[0;34m(\u001b[0m\u001b[0mdevice\u001b[0m\u001b[0;34m)\u001b[0m\u001b[0;34m\u001b[0m\u001b[0;34m\u001b[0m\u001b[0m\n\u001b[0m\u001b[1;32m     13\u001b[0m     \u001b[0;32melse\u001b[0m\u001b[0;34m:\u001b[0m\u001b[0;34m\u001b[0m\u001b[0;34m\u001b[0m\u001b[0m\n\u001b[1;32m     14\u001b[0m         \u001b[0;32mraise\u001b[0m \u001b[0mValueError\u001b[0m\u001b[0;34m(\u001b[0m\u001b[0;34m\"The model type (%s) was not a known type\"\u001b[0m \u001b[0;34m%\u001b[0m \u001b[0mmodel_type\u001b[0m\u001b[0;34m)\u001b[0m\u001b[0;34m\u001b[0m\u001b[0;34m\u001b[0m\u001b[0m\n",
      "\u001b[0;31mTypeError\u001b[0m: __init__() missing 1 required positional argument: 'initialization_scale'"
     ]
    }
   ],
   "source": [
    "\n",
    "for modelpath in all_models:\n",
    "    vae = lm.load_model(modelpath)\n",
    "    dat = vae.all_emb_layers[0].weight.detach().cpu().numpy()\n",
    "    print(np.mean(dat),np.max(dat),np.min(dat),np.std(dat))\n",
    "    dat = vae.all_emb_layers[0].bias.detach().cpu().numpy()\n",
    "    print(np.mean(dat),np.max(dat),np.min(dat),np.std(dat))"
   ]
  },
  {
   "cell_type": "code",
   "execution_count": 14,
   "metadata": {
    "ExecuteTime": {
     "end_time": "2022-02-04T20:47:04.159224Z",
     "start_time": "2022-02-04T20:47:04.153183Z"
    }
   },
   "outputs": [
    {
     "name": "stdout",
     "output_type": "stream",
     "text": [
      "2.1172498e-05 0.00070600084 -0.0007063819 0.0004009123\n",
      "0.0022012172 0.70663315 -0.7049639 0.40864784\n",
      "-1.493484e-05 0.007055063 -0.0070615206 0.00409508\n",
      "-0.012608801 0.70297194 -0.7051845 0.40316552\n"
     ]
    }
   ],
   "source": [
    "for initialization_scale in [1000,100]:\n",
    "    vae = make_vae(latent_dim=2, initialization_scale=initialization_scale)\n",
    "    dat = vae.all_emb_layers[0].weight.detach().cpu().numpy()\n",
    "    print(np.mean(dat),np.max(dat),np.min(dat),np.std(dat))\n",
    "    dat = vae.all_emb_layers[0].bias.detach().cpu().numpy()\n",
    "    print(np.mean(dat),np.max(dat),np.min(dat),np.std(dat))"
   ]
  },
  {
   "cell_type": "code",
   "execution_count": null,
   "metadata": {},
   "outputs": [],
   "source": []
  }
 ],
 "metadata": {
  "kernelspec": {
   "display_name": "Python 3",
   "language": "python",
   "name": "python3"
  },
  "language_info": {
   "codemirror_mode": {
    "name": "ipython",
    "version": 3
   },
   "file_extension": ".py",
   "mimetype": "text/x-python",
   "name": "python",
   "nbconvert_exporter": "python",
   "pygments_lexer": "ipython3",
   "version": "3.6.12"
  }
 },
 "nbformat": 4,
 "nbformat_minor": 5
}
