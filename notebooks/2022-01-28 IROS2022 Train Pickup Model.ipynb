{
 "cells": [
  {
   "cell_type": "code",
   "execution_count": 1,
   "id": "b6e8af3f",
   "metadata": {
    "ExecuteTime": {
     "end_time": "2022-07-25T23:14:57.180047Z",
     "start_time": "2022-07-25T23:14:55.401925Z"
    }
   },
   "outputs": [
    {
     "name": "stderr",
     "output_type": "stream",
     "text": [
      "Matplotlib created a temporary config/cache directory at /tmp/matplotlib-5uxoal5i because the default path (/home/tsr42/.cache/matplotlib) is not a writable directory; it is highly recommended to set the MPLCONFIGDIR environment variable to a writable directory, in particular to speed up the import of Matplotlib and to better support multiprocessing.\n",
      "/home/tsr42/anaconda3/envs/curvvaecuda/lib/python3.6/site-packages/tqdm/auto.py:22: TqdmWarning: IProgress not found. Please update jupyter and ipywidgets. See https://ipywidgets.readthedocs.io/en/stable/user_install.html\n",
      "  from .autonotebook import tqdm as notebook_tqdm\n"
     ]
    }
   ],
   "source": [
    "%matplotlib inline\n",
    "import matplotlib.pyplot as plt\n",
    "import numpy as np\n",
    "import transforms3d as t3d\n",
    "import datetime\n",
    "import torch\n",
    "from torch.nn import functional as F\n",
    "\n",
    "import sys\n",
    "sys.path.append(\"../\")\n",
    "import curvvae_lib.train.predictive_passthrough_trainer as ppttrainer\n",
    "import curvvae_lib.architecture.passthrough_vae as ptvae\n",
    "import curvvae_lib.architecture.save_model as sm\n",
    "import curvvae_lib.architecture.load_model as lm"
   ]
  },
  {
   "cell_type": "code",
   "execution_count": 2,
   "id": "2c640105",
   "metadata": {
    "ExecuteTime": {
     "end_time": "2022-07-25T23:14:57.183294Z",
     "start_time": "2022-07-25T23:14:57.181343Z"
    }
   },
   "outputs": [],
   "source": [
    "foodname = \"banana\"\n",
    "foldername = f\"fork_trajectory_{foodname}\"\n",
    "savefilename = f\"{foodname}_clean_pickups\""
   ]
  },
  {
   "cell_type": "code",
   "execution_count": 3,
   "id": "7b7c467e",
   "metadata": {
    "ExecuteTime": {
     "end_time": "2022-07-25T23:14:57.256923Z",
     "start_time": "2022-07-25T23:14:57.184422Z"
    },
    "scrolled": true
   },
   "outputs": [
    {
     "name": "stdout",
     "output_type": "stream",
     "text": [
      "We found 155 pickup attempts\n",
      "(155, 64, 8)\n",
      "[ 0.          0.00227658 -0.00117697  0.0121782  -0.04935249  0.37343377\n",
      " -0.89429268 -0.01921521]\n",
      "[2.63014114e-05 3.40430938e-05 1.00819967e-04 7.90561700e-03\n",
      " 3.18947674e-02 7.03375426e-03 1.11414372e-02]\n",
      "std of:  0.17859106200728153\n"
     ]
    }
   ],
   "source": [
    "train = []\n",
    "training_ts = np.linspace(0,1,64)\n",
    "attempt = 1\n",
    "while True:\n",
    "    try:\n",
    "        raw_vals = np.load(f\"{savefilename}/pickup_attempt{attempt}.npy\")\n",
    "        train.append(raw_vals.T.flatten())\n",
    "    except:\n",
    "        print(f\"We found {attempt-1} pickup attempts\")\n",
    "        break\n",
    "    attempt += 1\n",
    "\n",
    "train = np.array(train).reshape(-1,7,64)\n",
    "all_points = train[:,:,:]\n",
    "\n",
    "time_shape = list(all_points.shape)\n",
    "time_shape[1] = 1\n",
    "# why be smart when you can be dumb\n",
    "t = np.ones(time_shape)\n",
    "for i in range(time_shape[2]):\n",
    "    t[:,:,i] = t[:,:,i] * i / (time_shape[2] + 0.0)\n",
    "\n",
    "all_points = np.concatenate((t, all_points), axis=1)\n",
    "all_points = all_points.transpose(0,2,1)\n",
    "print(all_points.shape)\n",
    "\n",
    "# See http://localhost:8889/notebooks/scratchwork/2021-09-17%20Rotation%20Scaling.ipynb\n",
    "# for why we want quaternion values to be multiplied by 0.16 when position values are in meters \n",
    "# (if the relevant distance scale of the fork is 0.08 meters, ie: 8cm).\n",
    "# scaling term doesn't affect time, so don't use time in calculation\n",
    "stats_reshaped = all_points.reshape(-1,8)\n",
    "mean = np.mean(stats_reshaped, axis=0)\n",
    "mean[0] = 0 # don't scale time\n",
    "variance = np.var(stats_reshaped[:,1:], axis=0) # don't scale time\n",
    "print(mean)\n",
    "print(variance)\n",
    "position_std = np.sqrt(np.max(variance))\n",
    "print(\"std of: \", position_std)\n",
    "position_scaling = 1/position_std\n",
    "rotation_scaling = 0.16 * position_scaling"
   ]
  },
  {
   "cell_type": "code",
   "execution_count": 4,
   "id": "2235efa3",
   "metadata": {
    "ExecuteTime": {
     "end_time": "2022-07-25T23:14:57.261242Z",
     "start_time": "2022-07-25T23:14:57.258077Z"
    }
   },
   "outputs": [],
   "source": [
    "def scale_dataset(input_points):\n",
    "    points = input_points - mean\n",
    "    poss = position_scaling\n",
    "    rts = rotation_scaling\n",
    "    points = (points * np.array((1,poss,poss,poss,rts,rts,rts,rts)))\n",
    "    return points\n",
    "    \n",
    "def unscale_dataset(input_points):\n",
    "    poss = position_scaling\n",
    "    rts = rotation_scaling\n",
    "    points = (input_points / np.array((1,poss,poss,poss,rts,rts,rts,rts)))\n",
    "    points = points + mean\n",
    "    return points"
   ]
  },
  {
   "cell_type": "code",
   "execution_count": 5,
   "id": "f16bd585",
   "metadata": {
    "ExecuteTime": {
     "end_time": "2022-07-25T23:14:57.267770Z",
     "start_time": "2022-07-25T23:14:57.262212Z"
    }
   },
   "outputs": [
    {
     "name": "stdout",
     "output_type": "stream",
     "text": [
      "[ 4.92187500e-01 -5.33852457e-17 -3.53827630e-17 -7.10732996e-17\n",
      " -8.46335211e-17 -1.59323160e-16 -9.38040178e-16  9.83756087e-17]\n",
      "[0.08331299 0.00082463 0.00106736 0.00316102 0.00634536 0.0256\n",
      " 0.00564557 0.00894256]\n"
     ]
    }
   ],
   "source": [
    "scaled_points = scale_dataset(all_points)\n",
    "print(np.mean(scaled_points.reshape(-1,8),axis=0))\n",
    "print(np.var(scaled_points.reshape(-1,8),axis=0))"
   ]
  },
  {
   "cell_type": "code",
   "execution_count": 6,
   "id": "6d6178c9",
   "metadata": {
    "ExecuteTime": {
     "end_time": "2022-07-25T23:14:57.272940Z",
     "start_time": "2022-07-25T23:14:57.268775Z"
    }
   },
   "outputs": [],
   "source": [
    "def LoadDataBatch(all_points, batchsize, passthroughdim, predictive):\n",
    "    \"\"\"Sample Pair of Points from Trajectory\"\"\"\n",
    "    # all_points should be of dimension: num_trajectories, numtimesteps, 1+spatialdims\n",
    "    traj_ids = np.random.choice(all_points.shape[0], batchsize)\n",
    "    t1_ids = np.random.choice(all_points.shape[1], batchsize)\n",
    "    if predictive:\n",
    "        t2_ids = np.random.choice(all_points.shape[1], batchsize)\n",
    "    else:\n",
    "        t2_ids = t1_ids\n",
    "    return (torch.tensor(all_points[traj_ids, t1_ids,passthroughdim:], dtype=torch.float),\n",
    "            torch.tensor(all_points[traj_ids, t1_ids,:passthroughdim], dtype=torch.float),\n",
    "            torch.tensor(all_points[traj_ids, t2_ids,passthroughdim:], dtype=torch.float),\n",
    "            torch.tensor(all_points[traj_ids, t2_ids,:passthroughdim], dtype=torch.float))"
   ]
  },
  {
   "cell_type": "code",
   "execution_count": 7,
   "id": "2616b271",
   "metadata": {
    "ExecuteTime": {
     "end_time": "2022-07-25T23:14:57.276789Z",
     "start_time": "2022-07-25T23:14:57.274080Z"
    }
   },
   "outputs": [
    {
     "name": "stdout",
     "output_type": "stream",
     "text": [
      "(155, 64, 8)\n"
     ]
    }
   ],
   "source": [
    "print(all_points.shape)"
   ]
  },
  {
   "cell_type": "code",
   "execution_count": 8,
   "id": "fe133e57",
   "metadata": {
    "ExecuteTime": {
     "end_time": "2022-07-25T23:14:57.282027Z",
     "start_time": "2022-07-25T23:14:57.278113Z"
    }
   },
   "outputs": [],
   "source": [
    "class Loader(object):\n",
    "    def __init__(self, all_points, batchsize, passthroughdim, epochnumbatches, predictive):\n",
    "        self.all_points = all_points\n",
    "        self.batchsize = batchsize\n",
    "        self.passthroughdim = passthroughdim\n",
    "        self.epochnumbatches = epochnumbatches\n",
    "        self.predictive = predictive\n",
    "        \n",
    "    def __iter__(self):\n",
    "        self.n = 0\n",
    "        return self\n",
    "    \n",
    "    def __next__(self):\n",
    "        if self.n >= self.epochnumbatches:\n",
    "            # https://docs.python.org/3/library/exceptions.html#StopIteration\n",
    "            raise StopIteration\n",
    "        self.n += 1\n",
    "        return LoadDataBatch(self.all_points, self.batchsize, self.passthroughdim, self.predictive)\n",
    "    "
   ]
  },
  {
   "cell_type": "code",
   "execution_count": 9,
   "id": "0b6eb19a",
   "metadata": {
    "ExecuteTime": {
     "end_time": "2022-07-25T23:14:57.452116Z",
     "start_time": "2022-07-25T23:14:57.283337Z"
    }
   },
   "outputs": [
    {
     "name": "stdout",
     "output_type": "stream",
     "text": [
      "tensor([[0.7812]]) tensor([[0.9531]])\n"
     ]
    }
   ],
   "source": [
    "\n",
    "train_loader = Loader(scaled_points, 256, 1,100,predictive=True)\n",
    "for allxs, allts, testx2, testt2 in train_loader:\n",
    "    print(allts[:1],testt2[:1])\n",
    "    break"
   ]
  },
  {
   "cell_type": "code",
   "execution_count": 10,
   "id": "e72f1ca4",
   "metadata": {
    "ExecuteTime": {
     "end_time": "2022-07-25T23:14:57.469676Z",
     "start_time": "2022-07-25T23:14:57.456763Z"
    }
   },
   "outputs": [],
   "source": [
    "def make_vae(latent_dim):\n",
    "    input_dim = 7 \n",
    "    passthrough_dim = 1\n",
    "    emb_layer_widths = [1000]\n",
    "    recon_layer_widths = [1000]\n",
    "    dtype = torch.float\n",
    "    model = ptvae.FCPassthroughVAE(input_dim, passthrough_dim, latent_dim,\n",
    "        emb_layer_widths, recon_layer_widths, dtype)\n",
    "    return model\n",
    "allxs, allts, t2s, x2s = LoadDataBatch(scaled_points, 3000, 1, predictive=False)"
   ]
  },
  {
   "cell_type": "code",
   "execution_count": 11,
   "id": "f99410e9",
   "metadata": {
    "ExecuteTime": {
     "end_time": "2022-07-25T23:14:57.480848Z",
     "start_time": "2022-07-25T23:14:57.474931Z"
    }
   },
   "outputs": [],
   "source": [
    "testname = f\"trainedmodels/{foodname}_\""
   ]
  },
  {
   "cell_type": "code",
   "execution_count": null,
   "id": "cd5973e2",
   "metadata": {
    "ExecuteTime": {
     "start_time": "2022-07-25T23:14:55.424Z"
    },
    "scrolled": false
   },
   "outputs": [
    {
     "name": "stdout",
     "output_type": "stream",
     "text": [
      "trainedmodels/banana_lat3_curvreg0_beta0.002_20220725-191457\n",
      "7.447445\n",
      "====> Epoch: 1000\n",
      "6.3986597\n",
      "====> Epoch: 2000\n",
      "5.9890547\n",
      "====> Epoch: 3000\n",
      "trainedmodels/banana_lat3_curvreg0_beta0.002_20220725-191457\n",
      "trainedmodels/banana_lat3_curvreg0_beta0.003_20220725-195544\n",
      "9.624601\n",
      "====> Epoch: 1000\n",
      "9.234353\n",
      "====> Epoch: 2000\n",
      "9.0238905\n",
      "====> Epoch: 3000\n",
      "trainedmodels/banana_lat3_curvreg0_beta0.003_20220725-195544\n",
      "trainedmodels/banana_lat3_curvreg0_beta0.004_20220725-203705\n"
     ]
    }
   ],
   "source": [
    "all_exceptions = []\n",
    "\n",
    "for lr in [0.0005,0.0001]:\n",
    "    for curvreg in [0]:#[0.001,0,0.01,0.0001,0.0005]:\n",
    "        for beta in [0.002,0.003,0.004,0.005]:#[0.001,0.00001,0.0001,0.01]:\n",
    "            for latentdim in [3]:\n",
    "                for epsilon_scale_start in [1]:\n",
    "                    try:\n",
    "                        vae = make_vae(latent_dim=latentdim)\n",
    "                        device = \"cpu\"\n",
    "                        num_epochs = 1000\n",
    "                        savedir  = f'{testname}lat{latentdim}_curvreg{curvreg}_beta{beta}_{datetime.datetime.now().strftime(\"%Y%m%d-%H%M%S\")}'\n",
    "                        print(savedir)\n",
    "                        trainer = ppttrainer.PPTVAETrainer(vae, train_loader, beta=beta, device=device,\n",
    "                            log_dir=savedir, lr=lr, annealingBatches=0, record_loss_every=300, loss_func = \"gaussian\")\n",
    "                        scheduler = torch.optim.lr_scheduler.ExponentialLR(trainer.optimizer, gamma=0.5)\n",
    "                        epoch = 0\n",
    "                        epsilon_scale = epsilon_scale_start\n",
    "                        for _ in range(num_epochs*3):\n",
    "                            epoch += 1\n",
    "                            # had an off-by-one error here before\n",
    "                            # update values BEFORE training 501st element\n",
    "                            if epoch % num_epochs == 1 and epoch > 1: \n",
    "                                scheduler.step()\n",
    "                                epsilon_scale = epsilon_scale * np.sqrt(0.5)\n",
    "                            embst = trainer.train(second_deriv_regularizer=0, curvature_regularizer=curvreg, epsilon_scale = epsilon_scale, num_new_samp_points=512)\n",
    "                            is_error = embst[0]\n",
    "                            if is_error:\n",
    "                                raise Exception\n",
    "\n",
    "\n",
    "                            if epoch % num_epochs == 0:\n",
    "                                modeled = vae.noiseless_autoencode(allxs, allts)[0].detach().cpu().numpy()\n",
    "                                print(np.sum(np.square(modeled - allxs.detach().cpu().numpy())))\n",
    "                                print('====> Epoch: {}'.format(epoch))\n",
    "                                sm.save_fcpassthrough_vae(vae, savedir+f\"_epoch{epoch}\")\n",
    "                        sm.save_fcpassthrough_vae(vae, savedir)\n",
    "                        print(savedir)\n",
    "                    except e:\n",
    "                        all_exceptions.append(embst)"
   ]
  },
  {
   "cell_type": "code",
   "execution_count": null,
   "id": "7b43262f",
   "metadata": {},
   "outputs": [],
   "source": []
  }
 ],
 "metadata": {
  "kernelspec": {
   "display_name": "Python 3",
   "language": "python",
   "name": "python3"
  },
  "language_info": {
   "codemirror_mode": {
    "name": "ipython",
    "version": 3
   },
   "file_extension": ".py",
   "mimetype": "text/x-python",
   "name": "python",
   "nbconvert_exporter": "python",
   "pygments_lexer": "ipython3",
   "version": "3.6.13"
  }
 },
 "nbformat": 4,
 "nbformat_minor": 5
}
