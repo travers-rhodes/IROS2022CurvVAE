{
 "cells": [
  {
   "cell_type": "code",
   "execution_count": 1,
   "metadata": {
    "ExecuteTime": {
     "end_time": "2022-02-16T16:38:51.694955Z",
     "start_time": "2022-02-16T16:38:50.118031Z"
    }
   },
   "outputs": [
    {
     "name": "stderr",
     "output_type": "stream",
     "text": [
      "Matplotlib created a temporary config/cache directory at /tmp/matplotlib-9zm1kddm because the default path (/home/tsr42/.cache/matplotlib) is not a writable directory; it is highly recommended to set the MPLCONFIGDIR environment variable to a writable directory, in particular to speed up the import of Matplotlib and to better support multiprocessing.\n"
     ]
    }
   ],
   "source": [
    "%matplotlib inline\n",
    "import matplotlib.pyplot as plt\n",
    "import numpy as np\n",
    "import transforms3d as t3d\n",
    "import datetime\n",
    "import torch\n",
    "from torch.nn import functional as F\n",
    "\n",
    "import sys\n",
    "sys.path.append(\"../\")\n",
    "import curvvae_lib.train.predictive_passthrough_trainer as ppttrainer\n",
    "import curvvae_lib.architecture.passthrough_vae as ptvae\n",
    "import curvvae_lib.architecture.save_model as sm\n",
    "import curvvae_lib.architecture.load_model as lm"
   ]
  },
  {
   "cell_type": "code",
   "execution_count": 2,
   "metadata": {
    "ExecuteTime": {
     "end_time": "2022-02-16T16:38:51.698230Z",
     "start_time": "2022-02-16T16:38:51.696187Z"
    }
   },
   "outputs": [],
   "source": [
    "foodname = \"carrot\"\n",
    "foldername = f\"fork_trajectory_{foodname}\"\n",
    "savefilename = f\"{foodname}_clean_pickups\""
   ]
  },
  {
   "cell_type": "code",
   "execution_count": 3,
   "metadata": {
    "ExecuteTime": {
     "end_time": "2022-02-16T16:38:51.745873Z",
     "start_time": "2022-02-16T16:38:51.699428Z"
    },
    "scrolled": true
   },
   "outputs": [
    {
     "name": "stdout",
     "output_type": "stream",
     "text": [
      "We found 92 pickup attempts\n",
      "(92, 64, 8)\n",
      "[ 0.00000000e+00  1.12765536e-03 -5.57178579e-04  7.29980508e-03\n",
      " -3.55978140e-02  3.60854745e-01 -9.01766871e-01  5.79462507e-02]\n",
      "[1.56619158e-05 2.32931770e-05 6.60599352e-05 2.63916153e-03\n",
      " 3.84557532e-02 6.82803191e-03 4.04899110e-03]\n",
      "std of:  0.19610138507056107\n"
     ]
    }
   ],
   "source": [
    "train = []\n",
    "training_ts = np.linspace(0,1,64)\n",
    "attempt = 1\n",
    "while True:\n",
    "    try:\n",
    "        raw_vals = np.load(f\"{savefilename}/pickup_attempt{attempt}.npy\")\n",
    "        train.append(raw_vals.T.flatten())\n",
    "    except:\n",
    "        print(f\"We found {attempt-1} pickup attempts\")\n",
    "        break\n",
    "    attempt += 1\n",
    "\n",
    "train = np.array(train).reshape(-1,7,64)\n",
    "all_points = train[:,:,:]\n",
    "\n",
    "time_shape = list(all_points.shape)\n",
    "time_shape[1] = 1\n",
    "# why be smart when you can be dumb\n",
    "t = np.ones(time_shape)\n",
    "for i in range(time_shape[2]):\n",
    "    t[:,:,i] = t[:,:,i] * i / (time_shape[2] + 0.0)\n",
    "\n",
    "all_points = np.concatenate((t, all_points), axis=1)\n",
    "all_points = all_points.transpose(0,2,1)\n",
    "print(all_points.shape)\n",
    "\n",
    "# See http://localhost:8889/notebooks/scratchwork/2021-09-17%20Rotation%20Scaling.ipynb\n",
    "# for why we want quaternion values to be multiplied by 0.16 when position values are in meters \n",
    "# (if the relevant distance scale of the fork is 0.08 meters, ie: 8cm).\n",
    "# scaling term doesn't affect time, so don't use time in calculation\n",
    "stats_reshaped = all_points.reshape(-1,8)\n",
    "mean = np.mean(stats_reshaped, axis=0)\n",
    "mean[0] = 0 # don't scale time\n",
    "variance = np.var(stats_reshaped[:,1:], axis=0) # don't scale time\n",
    "print(mean)\n",
    "print(variance)\n",
    "position_std = np.sqrt(np.max(variance))\n",
    "print(\"std of: \", position_std)\n",
    "position_scaling = 1/position_std\n",
    "rotation_scaling = 0.16 * position_scaling"
   ]
  },
  {
   "cell_type": "code",
   "execution_count": 4,
   "metadata": {
    "ExecuteTime": {
     "end_time": "2022-02-16T16:38:51.750005Z",
     "start_time": "2022-02-16T16:38:51.747057Z"
    }
   },
   "outputs": [],
   "source": [
    "def scale_dataset(input_points):\n",
    "    points = input_points - mean\n",
    "    poss = position_scaling\n",
    "    rts = rotation_scaling\n",
    "    points = (points * np.array((1,poss,poss,poss,rts,rts,rts,rts)))\n",
    "    return points\n",
    "    \n",
    "def unscale_dataset(input_points):\n",
    "    poss = position_scaling\n",
    "    rts = rotation_scaling\n",
    "    points = (input_points / np.array((1,poss,poss,poss,rts,rts,rts,rts)))\n",
    "    points = points + mean\n",
    "    return points"
   ]
  },
  {
   "cell_type": "code",
   "execution_count": 5,
   "metadata": {
    "ExecuteTime": {
     "end_time": "2022-02-16T16:38:51.756239Z",
     "start_time": "2022-02-16T16:38:51.751065Z"
    }
   },
   "outputs": [
    {
     "name": "stdout",
     "output_type": "stream",
     "text": [
      "[ 4.92187500e-01  2.44363849e-17 -1.47292401e-17  1.17588796e-17\n",
      "  2.45748564e-17  1.26521680e-16 -2.78932929e-15 -8.65075486e-17]\n",
      "[0.08331299 0.00040727 0.00060571 0.00171782 0.00175689 0.0256\n",
      " 0.00454542 0.00269541]\n"
     ]
    }
   ],
   "source": [
    "scaled_points = scale_dataset(all_points)\n",
    "print(np.mean(scaled_points.reshape(-1,8),axis=0))\n",
    "print(np.var(scaled_points.reshape(-1,8),axis=0))"
   ]
  },
  {
   "cell_type": "code",
   "execution_count": 6,
   "metadata": {
    "ExecuteTime": {
     "end_time": "2022-02-16T16:38:51.761347Z",
     "start_time": "2022-02-16T16:38:51.757346Z"
    }
   },
   "outputs": [],
   "source": [
    "def LoadDataBatch(all_points, batchsize, passthroughdim, predictive):\n",
    "    \"\"\"Sample Pair of Points from Trajectory\"\"\"\n",
    "    # all_points should be of dimension: num_trajectories, numtimesteps, 1+spatialdims\n",
    "    traj_ids = np.random.choice(all_points.shape[0], batchsize)\n",
    "    t1_ids = np.random.choice(all_points.shape[1], batchsize)\n",
    "    if predictive:\n",
    "        t2_ids = np.random.choice(all_points.shape[1], batchsize)\n",
    "    else:\n",
    "        t2_ids = t1_ids\n",
    "    return (torch.tensor(all_points[traj_ids, t1_ids,passthroughdim:], dtype=torch.float),\n",
    "            torch.tensor(all_points[traj_ids, t1_ids,:passthroughdim], dtype=torch.float),\n",
    "            torch.tensor(all_points[traj_ids, t2_ids,passthroughdim:], dtype=torch.float),\n",
    "            torch.tensor(all_points[traj_ids, t2_ids,:passthroughdim], dtype=torch.float))"
   ]
  },
  {
   "cell_type": "code",
   "execution_count": 7,
   "metadata": {
    "ExecuteTime": {
     "end_time": "2022-02-16T16:38:51.765437Z",
     "start_time": "2022-02-16T16:38:51.762388Z"
    }
   },
   "outputs": [
    {
     "name": "stdout",
     "output_type": "stream",
     "text": [
      "(92, 64, 8)\n"
     ]
    }
   ],
   "source": [
    "print(all_points.shape)"
   ]
  },
  {
   "cell_type": "code",
   "execution_count": 8,
   "metadata": {
    "ExecuteTime": {
     "end_time": "2022-02-16T16:38:51.770131Z",
     "start_time": "2022-02-16T16:38:51.766858Z"
    }
   },
   "outputs": [],
   "source": [
    "class Loader(object):\n",
    "    def __init__(self, all_points, batchsize, passthroughdim, epochnumbatches, predictive):\n",
    "        self.all_points = all_points\n",
    "        self.batchsize = batchsize\n",
    "        self.passthroughdim = passthroughdim\n",
    "        self.epochnumbatches = epochnumbatches\n",
    "        self.predictive = predictive\n",
    "        \n",
    "    def __iter__(self):\n",
    "        self.n = 0\n",
    "        return self\n",
    "    \n",
    "    def __next__(self):\n",
    "        if self.n >= self.epochnumbatches:\n",
    "            # https://docs.python.org/3/library/exceptions.html#StopIteration\n",
    "            raise StopIteration\n",
    "        self.n += 1\n",
    "        return LoadDataBatch(self.all_points, self.batchsize, self.passthroughdim, self.predictive)\n",
    "    "
   ]
  },
  {
   "cell_type": "code",
   "execution_count": 9,
   "metadata": {
    "ExecuteTime": {
     "end_time": "2022-02-16T16:38:51.776346Z",
     "start_time": "2022-02-16T16:38:51.771246Z"
    }
   },
   "outputs": [
    {
     "name": "stdout",
     "output_type": "stream",
     "text": [
      "tensor([[0.5781]]) tensor([[0.4219]])\n"
     ]
    }
   ],
   "source": [
    "\n",
    "train_loader = Loader(scaled_points, 256, 1,100,predictive=True)\n",
    "for allxs, allts, testx2, testt2 in train_loader:\n",
    "    print(allts[:1],testt2[:1])\n",
    "    break"
   ]
  },
  {
   "cell_type": "code",
   "execution_count": 10,
   "metadata": {
    "ExecuteTime": {
     "end_time": "2022-02-16T16:38:51.780562Z",
     "start_time": "2022-02-16T16:38:51.777413Z"
    }
   },
   "outputs": [],
   "source": [
    "def make_vae(latent_dim):\n",
    "    input_dim = 7 \n",
    "    passthrough_dim = 1\n",
    "    emb_layer_widths = [1000]\n",
    "    recon_layer_widths = [1000]\n",
    "    dtype = torch.float\n",
    "    model = ptvae.FCPassthroughVAE(input_dim, passthrough_dim, latent_dim,\n",
    "        emb_layer_widths, recon_layer_widths, dtype)\n",
    "    return model\n",
    "allxs, allts, t2s, x2s = LoadDataBatch(scaled_points, 3000, 1, predictive=False)"
   ]
  },
  {
   "cell_type": "code",
   "execution_count": 11,
   "metadata": {
    "ExecuteTime": {
     "end_time": "2022-02-16T16:38:51.783887Z",
     "start_time": "2022-02-16T16:38:51.781632Z"
    }
   },
   "outputs": [],
   "source": [
    "testname = f\"trainedmodels/{foodname}_\""
   ]
  },
  {
   "cell_type": "code",
   "execution_count": null,
   "metadata": {
    "ExecuteTime": {
     "start_time": "2022-02-16T16:38:50.141Z"
    },
    "scrolled": false
   },
   "outputs": [
    {
     "name": "stdout",
     "output_type": "stream",
     "text": [
      "trainedmodels/carrot_lat3_curvreg0.001_beta0.001_20220216-113851\n",
      "8.837956\n",
      "====> Epoch: 1000\n",
      "8.735657\n",
      "====> Epoch: 2000\n",
      "8.717423\n",
      "====> Epoch: 3000\n",
      "trainedmodels/carrot_lat3_curvreg0.001_beta0.001_20220216-113851\n",
      "trainedmodels/carrot_lat3_curvreg0.001_beta1e-05_20220216-122031\n",
      "5.704063\n",
      "====> Epoch: 1000\n",
      "5.9691076\n",
      "====> Epoch: 2000\n",
      "6.051113\n",
      "====> Epoch: 3000\n",
      "trainedmodels/carrot_lat3_curvreg0.001_beta1e-05_20220216-122031\n",
      "trainedmodels/carrot_lat3_curvreg0.001_beta0.0001_20220216-130015\n",
      "6.1101146\n",
      "====> Epoch: 1000\n",
      "6.4016504\n",
      "====> Epoch: 2000\n",
      "6.4282813\n",
      "====> Epoch: 3000\n",
      "trainedmodels/carrot_lat3_curvreg0.001_beta0.0001_20220216-130015\n",
      "trainedmodels/carrot_lat3_curvreg0.001_beta0.01_20220216-134007\n",
      "20.593657\n",
      "====> Epoch: 1000\n",
      "18.18633\n",
      "====> Epoch: 2000\n",
      "17.96236\n",
      "====> Epoch: 3000\n",
      "trainedmodels/carrot_lat3_curvreg0.001_beta0.01_20220216-134007\n",
      "trainedmodels/carrot_lat3_curvreg0_beta0.001_20220216-142132\n",
      "4.716316\n",
      "====> Epoch: 1000\n",
      "4.321873\n",
      "====> Epoch: 2000\n",
      "4.087221\n",
      "====> Epoch: 3000\n",
      "trainedmodels/carrot_lat3_curvreg0_beta0.001_20220216-142132\n",
      "trainedmodels/carrot_lat3_curvreg0_beta1e-05_20220216-150147\n",
      "1.8758063\n",
      "====> Epoch: 1000\n",
      "1.5149311\n",
      "====> Epoch: 2000\n",
      "1.1520797\n",
      "====> Epoch: 3000\n",
      "trainedmodels/carrot_lat3_curvreg0_beta1e-05_20220216-150147\n",
      "trainedmodels/carrot_lat3_curvreg0_beta0.0001_20220216-154117\n",
      "1.9197671\n",
      "====> Epoch: 1000\n",
      "1.4462708\n",
      "====> Epoch: 2000\n",
      "1.3040833\n",
      "====> Epoch: 3000\n",
      "trainedmodels/carrot_lat3_curvreg0_beta0.0001_20220216-154117\n",
      "trainedmodels/carrot_lat3_curvreg0_beta0.01_20220216-162052\n",
      "15.471557\n",
      "====> Epoch: 1000\n",
      "15.814272\n",
      "====> Epoch: 2000\n",
      "15.8334675\n",
      "====> Epoch: 3000\n",
      "trainedmodels/carrot_lat3_curvreg0_beta0.01_20220216-162052\n",
      "trainedmodels/carrot_lat3_curvreg0.01_beta0.001_20220216-170344\n"
     ]
    }
   ],
   "source": [
    "all_exceptions = []\n",
    "\n",
    "for lr in [0.0005,0.0001]:\n",
    "    for curvreg in [0.001,0,0.01,0.0001,0.0005]:\n",
    "        for beta in [0.001,0.00001,0.0001,0.01]:\n",
    "            for latentdim in [3]:\n",
    "                for epsilon_scale_start in [1]:\n",
    "                    try:\n",
    "                        vae = make_vae(latent_dim=latentdim)\n",
    "                        device = \"cpu\"\n",
    "                        num_epochs = 1000\n",
    "                        savedir  = f'{testname}lat{latentdim}_curvreg{curvreg}_beta{beta}_{datetime.datetime.now().strftime(\"%Y%m%d-%H%M%S\")}'\n",
    "                        print(savedir)\n",
    "                        trainer = ppttrainer.PPTVAETrainer(vae, train_loader, beta=beta, device=device,\n",
    "                            log_dir=savedir, lr=lr, annealingBatches=0, record_loss_every=300, loss_func = \"gaussian\")\n",
    "                        scheduler = torch.optim.lr_scheduler.ExponentialLR(trainer.optimizer, gamma=0.5)\n",
    "                        epoch = 0\n",
    "                        epsilon_scale = epsilon_scale_start\n",
    "                        for _ in range(num_epochs*3):\n",
    "                            epoch += 1\n",
    "                            # had an off-by-one error here before\n",
    "                            # update values BEFORE training 501st element\n",
    "                            if epoch % num_epochs == 1 and epoch > 1: \n",
    "                                scheduler.step()\n",
    "                                epsilon_scale = epsilon_scale * np.sqrt(0.5)\n",
    "                            embst = trainer.train(second_deriv_regularizer=0, curvature_regularizer=curvreg, epsilon_scale = epsilon_scale, num_new_samp_points=512)\n",
    "                            is_error = embst[0]\n",
    "                            if is_error:\n",
    "                                raise Exception\n",
    "\n",
    "\n",
    "                            if epoch % num_epochs == 0:\n",
    "                                modeled = vae.noiseless_autoencode(allxs, allts)[0].detach().cpu().numpy()\n",
    "                                print(np.sum(np.square(modeled - allxs.detach().cpu().numpy())))\n",
    "                                print('====> Epoch: {}'.format(epoch))\n",
    "                                sm.save_fcpassthrough_vae(vae, savedir+f\"_epoch{epoch}\")\n",
    "                        sm.save_fcpassthrough_vae(vae, savedir)\n",
    "                        print(savedir)\n",
    "                    except e:\n",
    "                        all_exceptions.append(embst)"
   ]
  },
  {
   "cell_type": "code",
   "execution_count": null,
   "metadata": {},
   "outputs": [],
   "source": []
  }
 ],
 "metadata": {
  "kernelspec": {
   "display_name": "Python 3",
   "language": "python",
   "name": "python3"
  },
  "language_info": {
   "codemirror_mode": {
    "name": "ipython",
    "version": 3
   },
   "file_extension": ".py",
   "mimetype": "text/x-python",
   "name": "python",
   "nbconvert_exporter": "python",
   "pygments_lexer": "ipython3",
   "version": "3.6.12"
  }
 },
 "nbformat": 4,
 "nbformat_minor": 5
}
