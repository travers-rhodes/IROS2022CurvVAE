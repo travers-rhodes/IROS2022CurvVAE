{
 "cells": [
  {
   "cell_type": "code",
   "execution_count": 1,
   "metadata": {
    "ExecuteTime": {
     "end_time": "2022-01-26T20:17:24.848880Z",
     "start_time": "2022-01-26T20:17:23.339754Z"
    }
   },
   "outputs": [
    {
     "name": "stderr",
     "output_type": "stream",
     "text": [
      "Matplotlib created a temporary config/cache directory at /tmp/matplotlib-am7iyckj because the default path (/home/tsr42/.cache/matplotlib) is not a writable directory; it is highly recommended to set the MPLCONFIGDIR environment variable to a writable directory, in particular to speed up the import of Matplotlib and to better support multiprocessing.\n"
     ]
    }
   ],
   "source": [
    "%matplotlib inline\n",
    "import matplotlib.pyplot as plt\n",
    "import numpy as np\n",
    "import transforms3d as t3d\n",
    "import datetime\n",
    "import torch\n",
    "from torch.nn import functional as F\n",
    "\n",
    "import sys\n",
    "sys.path.append(\"../\")\n",
    "import curvvae_lib.train.predictive_passthrough_trainer as ppttrainer\n",
    "import curvvae_lib.architecture.passthrough_vae as ptvae\n",
    "import curvvae_lib.architecture.save_model as sm\n",
    "import curvvae_lib.architecture.load_model as lm"
   ]
  },
  {
   "cell_type": "code",
   "execution_count": 2,
   "metadata": {
    "ExecuteTime": {
     "end_time": "2022-01-26T20:17:24.852404Z",
     "start_time": "2022-01-26T20:17:24.850178Z"
    }
   },
   "outputs": [],
   "source": [
    "foodname = \"strawberry\"\n",
    "foldername = f\"fork_trajectory_{foodname}\"\n",
    "savefilename = f\"{foodname}_clean_pickups\""
   ]
  },
  {
   "cell_type": "code",
   "execution_count": 3,
   "metadata": {
    "ExecuteTime": {
     "end_time": "2022-01-26T20:17:24.915321Z",
     "start_time": "2022-01-26T20:17:24.853848Z"
    }
   },
   "outputs": [
    {
     "name": "stdout",
     "output_type": "stream",
     "text": [
      "We found 129 pickup attempts\n",
      "shape before reducing dimension (129, 64, 8)\n"
     ]
    }
   ],
   "source": [
    "train = []\n",
    "training_ts = np.linspace(0,1,64)\n",
    "attempt = 1\n",
    "while True:\n",
    "    try:\n",
    "        raw_vals = np.load(f\"{savefilename}/pickup_attempt{attempt}.npy\")\n",
    "        train.append(raw_vals.T.flatten())\n",
    "    except:\n",
    "        print(f\"We found {attempt-1} pickup attempts\")\n",
    "        break\n",
    "    attempt += 1\n",
    "\n",
    "train = np.array(train).reshape(-1,7,64)\n",
    "all_points = train[:,:,:]\n",
    "\n",
    "time_shape = list(all_points.shape)\n",
    "time_shape[1] = 1\n",
    "# why be smart when you can be dumb\n",
    "t = np.ones(time_shape)\n",
    "for i in range(time_shape[2]):\n",
    "    t[:,:,i] = t[:,:,i] * i / (time_shape[2] + 0.0)\n",
    "\n",
    "all_points = np.concatenate((t, all_points), axis=1)\n",
    "all_points = all_points.transpose(0,2,1)\n",
    "\n",
    "# See http://localhost:8889/notebooks/scratchwork/2021-09-17%20Rotation%20Scaling.ipynb\n",
    "# for why we want quaternion values to be multiplied by 0.16 when position values are in meters \n",
    "# (if the relevant distance scale of the fork is 0.08 meters, ie: 8cm).\n",
    "# we additionally multiply everything by 1000 to reduce the likelihood of model collapse for reasonable beta values\n",
    "rotation_error_scaling = 0.16\n",
    "overall_scaling = 1000\n",
    "ovs = overall_scaling\n",
    "rts = rotation_error_scaling * overall_scaling\n",
    "all_points = all_points * np.array((1,ovs,ovs,ovs,rts,rts,rts,rts))\n",
    "print(\"shape before reducing dimension\", all_points.shape)"
   ]
  },
  {
   "cell_type": "code",
   "execution_count": 4,
   "metadata": {
    "ExecuteTime": {
     "end_time": "2022-01-26T20:17:24.920535Z",
     "start_time": "2022-01-26T20:17:24.916567Z"
    }
   },
   "outputs": [
    {
     "data": {
      "text/plain": [
       "41.56877331249602"
      ]
     },
     "execution_count": 4,
     "metadata": {},
     "output_type": "execute_result"
    }
   ],
   "source": [
    "np.max(all_points[:,:,1:4])"
   ]
  },
  {
   "cell_type": "code",
   "execution_count": 5,
   "metadata": {
    "ExecuteTime": {
     "end_time": "2022-01-26T20:17:24.926289Z",
     "start_time": "2022-01-26T20:17:24.921723Z"
    }
   },
   "outputs": [],
   "source": [
    "def LoadDataBatch(all_points, batchsize, passthroughdim, predictive):\n",
    "    \"\"\"Sample Pair of Points from Trajectory\"\"\"\n",
    "    # all_points should be of dimension: num_trajectories, numtimesteps, 1+spatialdims\n",
    "    traj_ids = np.random.choice(all_points.shape[0], batchsize)\n",
    "    t1_ids = np.random.choice(all_points.shape[1], batchsize)\n",
    "    if predictive:\n",
    "        t2_ids = np.random.choice(all_points.shape[1], batchsize)\n",
    "    else:\n",
    "        t2_ids = t1_ids\n",
    "    return (torch.tensor(all_points[traj_ids, t1_ids,passthroughdim:], dtype=torch.float),\n",
    "            torch.tensor(all_points[traj_ids, t1_ids,:passthroughdim], dtype=torch.float),\n",
    "            torch.tensor(all_points[traj_ids, t2_ids,passthroughdim:], dtype=torch.float),\n",
    "            torch.tensor(all_points[traj_ids, t2_ids,:passthroughdim], dtype=torch.float))"
   ]
  },
  {
   "cell_type": "code",
   "execution_count": 6,
   "metadata": {
    "ExecuteTime": {
     "end_time": "2022-01-26T20:17:24.931695Z",
     "start_time": "2022-01-26T20:17:24.927696Z"
    }
   },
   "outputs": [
    {
     "name": "stdout",
     "output_type": "stream",
     "text": [
      "(129, 64, 8)\n"
     ]
    }
   ],
   "source": [
    "print(all_points.shape)"
   ]
  },
  {
   "cell_type": "code",
   "execution_count": 7,
   "metadata": {
    "ExecuteTime": {
     "end_time": "2022-01-26T20:17:24.936902Z",
     "start_time": "2022-01-26T20:17:24.933031Z"
    }
   },
   "outputs": [],
   "source": [
    "class Loader(object):\n",
    "    def __init__(self, all_points, batchsize, passthroughdim, epochnumbatches, predictive):\n",
    "        self.all_points = all_points\n",
    "        self.batchsize = batchsize\n",
    "        self.passthroughdim = passthroughdim\n",
    "        self.epochnumbatches = epochnumbatches\n",
    "        self.predictive = predictive\n",
    "        \n",
    "    def __iter__(self):\n",
    "        self.n = 0\n",
    "        return self\n",
    "    \n",
    "    def __next__(self):\n",
    "        if self.n >= self.epochnumbatches:\n",
    "            # https://docs.python.org/3/library/exceptions.html#StopIteration\n",
    "            raise StopIteration\n",
    "        self.n += 1\n",
    "        return LoadDataBatch(self.all_points, self.batchsize, self.passthroughdim, self.predictive)\n",
    "    \n",
    "\n",
    "train_loader = Loader(all_points, 256, 1,10000,predictive=False)\n",
    "    "
   ]
  },
  {
   "cell_type": "code",
   "execution_count": 8,
   "metadata": {
    "ExecuteTime": {
     "end_time": "2022-01-26T20:17:24.942867Z",
     "start_time": "2022-01-26T20:17:24.938512Z"
    }
   },
   "outputs": [
    {
     "name": "stdout",
     "output_type": "stream",
     "text": [
      "tensor([[0.0469]]) tensor([[0.4062]])\n"
     ]
    }
   ],
   "source": [
    "\n",
    "train_loader = Loader(all_points, 256, 1,100,predictive=True)\n",
    "for allxs, allts, testx2, testt2 in train_loader:\n",
    "    print(allts[:1],testt2[:1])\n",
    "    break"
   ]
  },
  {
   "cell_type": "code",
   "execution_count": 9,
   "metadata": {
    "ExecuteTime": {
     "end_time": "2022-01-26T20:17:24.947507Z",
     "start_time": "2022-01-26T20:17:24.944044Z"
    }
   },
   "outputs": [],
   "source": [
    "def make_vae(latent_dim):\n",
    "    input_dim = 7 \n",
    "    passthrough_dim = 1\n",
    "    emb_layer_widths = [1000]\n",
    "    recon_layer_widths = [1000]\n",
    "    dtype = torch.float\n",
    "    model = ptvae.FCPassthroughVAE(input_dim, passthrough_dim, latent_dim,\n",
    "        emb_layer_widths, recon_layer_widths, dtype)\n",
    "    return model\n",
    "allxs, allts, t2s, x2s = LoadDataBatch(all_points, 3000, 1, predictive=False)"
   ]
  },
  {
   "cell_type": "code",
   "execution_count": 10,
   "metadata": {
    "ExecuteTime": {
     "end_time": "2022-01-26T20:17:24.951509Z",
     "start_time": "2022-01-26T20:17:24.948682Z"
    }
   },
   "outputs": [],
   "source": [
    "testname = f\"model/{foodname}_clean_3lat/\""
   ]
  },
  {
   "cell_type": "code",
   "execution_count": null,
   "metadata": {
    "ExecuteTime": {
     "start_time": "2022-01-26T20:17:23.365Z"
    },
    "scrolled": true
   },
   "outputs": [
    {
     "name": "stdout",
     "output_type": "stream",
     "text": [
      "model/strawberry_clean_3lat/lat3_secreg0_curvreg100000_beta1_20220126-151724\n",
      "224390.14\n",
      "====> Epoch: 1000\n"
     ]
    }
   ],
   "source": [
    "all_exceptions = []\n",
    "for curvreg in [100000,300000]:\n",
    "    for beta in [1]:\n",
    "        for latentdim in [3]:\n",
    "            for epsilon_scale_start in [0.1]:\n",
    "                try:\n",
    "                    vae = make_vae(latent_dim=latentdim)\n",
    "                    device = \"cpu\"\n",
    "                    num_epochs = 1000\n",
    "                    savedir  = f'{testname}lat{latentdim}_secreg0_curvreg{curvreg}_beta{beta}_{datetime.datetime.now().strftime(\"%Y%m%d-%H%M%S\")}'\n",
    "                    print(savedir)\n",
    "                    trainer = ppttrainer.PPTVAETrainer(vae, train_loader, beta=beta, device=device,\n",
    "                        log_dir=savedir, lr=0.0005, annealingBatches=0, record_loss_every=300, loss_func = \"gaussian\")\n",
    "                    scheduler = torch.optim.lr_scheduler.ExponentialLR(trainer.optimizer, gamma=0.22)\n",
    "                    epoch = 0\n",
    "                    epsilon_scale = epsilon_scale_start\n",
    "                    for _ in range(num_epochs*3):\n",
    "                        epoch += 1\n",
    "                        # had an off-by-one error here before\n",
    "                        # update values BEFORE training 501st element\n",
    "                        if epoch % num_epochs == 1 and epoch > 1: \n",
    "                            scheduler.step()\n",
    "                            trainer.beta = trainer.beta * 1.0 #0.1\n",
    "                            epsilon_scale = epsilon_scale * 0.8 #0.1\n",
    "                        embst = trainer.train(second_deriv_regularizer=0, curvature_regularizer=curvreg, epsilon_scale = epsilon_scale, num_new_samp_points=128)\n",
    "                        is_error = embst[0]\n",
    "                        if is_error:\n",
    "                            raise Exception\n",
    "\n",
    "\n",
    "                        if epoch % num_epochs == 0:\n",
    "                            modeled = vae.noiseless_autoencode(allxs, allts)[0].detach().cpu().numpy()\n",
    "                            print(np.sum(np.square(modeled - allxs.detach().cpu().numpy())))\n",
    "                            print('====> Epoch: {}'.format(epoch))\n",
    "                            sm.save_fcpassthrough_vae(vae, savedir+f\"_epoch{epoch}\")\n",
    "                    sm.save_fcpassthrough_vae(vae, savedir)\n",
    "                    print(savedir)\n",
    "                except e:\n",
    "                    all_exceptions.append(embst)"
   ]
  },
  {
   "cell_type": "code",
   "execution_count": null,
   "metadata": {},
   "outputs": [],
   "source": []
  }
 ],
 "metadata": {
  "kernelspec": {
   "display_name": "Python 3",
   "language": "python",
   "name": "python3"
  },
  "language_info": {
   "codemirror_mode": {
    "name": "ipython",
    "version": 3
   },
   "file_extension": ".py",
   "mimetype": "text/x-python",
   "name": "python",
   "nbconvert_exporter": "python",
   "pygments_lexer": "ipython3",
   "version": "3.6.12"
  }
 },
 "nbformat": 4,
 "nbformat_minor": 5
}
