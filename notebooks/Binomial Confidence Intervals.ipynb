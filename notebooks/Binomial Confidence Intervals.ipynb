{
 "cells": [
  {
   "cell_type": "code",
   "execution_count": 7,
   "metadata": {
    "ExecuteTime": {
     "end_time": "2022-02-23T04:30:34.127388Z",
     "start_time": "2022-02-23T04:30:33.321946Z"
    }
   },
   "outputs": [],
   "source": [
    "import statsmodels.stats.proportion"
   ]
  },
  {
   "cell_type": "code",
   "execution_count": 19,
   "metadata": {
    "ExecuteTime": {
     "end_time": "2022-02-23T04:48:29.237953Z",
     "start_time": "2022-02-23T04:48:29.232864Z"
    }
   },
   "outputs": [],
   "source": [
    "def get_confidence_bounds(succs, total):\n",
    "    interval = statsmodels.stats.proportion.proportion_confint(succs, total, alpha=0.05, method='wilson')\n",
    "    #print(interval)\n",
    "    return interval"
   ]
  },
  {
   "cell_type": "code",
   "execution_count": 20,
   "metadata": {
    "ExecuteTime": {
     "end_time": "2022-02-23T04:48:29.533692Z",
     "start_time": "2022-02-23T04:48:29.522435Z"
    }
   },
   "outputs": [
    {
     "data": {
      "text/plain": [
       "(0.8668077490609515, 1.0)"
      ]
     },
     "execution_count": 20,
     "metadata": {},
     "output_type": "execute_result"
    }
   ],
   "source": [
    "get_confidence_bounds(25,25)"
   ]
  },
  {
   "cell_type": "code",
   "execution_count": 21,
   "metadata": {
    "ExecuteTime": {
     "end_time": "2022-02-23T04:48:29.753171Z",
     "start_time": "2022-02-23T04:48:29.747479Z"
    }
   },
   "outputs": [],
   "source": [
    "%matplotlib inline\n",
    "import matplotlib.pyplot as plt\n",
    "import numpy as np"
   ]
  },
  {
   "cell_type": "code",
   "execution_count": 130,
   "metadata": {
    "ExecuteTime": {
     "end_time": "2022-02-24T04:44:37.999522Z",
     "start_time": "2022-02-24T04:44:37.988563Z"
    }
   },
   "outputs": [
    {
     "name": "stdout",
     "output_type": "stream",
     "text": [
      "[[0.         0.         0.         0.17968714 0.13319225 0.13319225\n",
      "  0.07833183 0.13716146 0.18653622 0.19481502 0.16966109 0.13319225]\n",
      " [0.13319225 0.13319225 0.13319225 0.18501483 0.         0.\n",
      "  0.17955794 0.19576605 0.09596549 0.15752119 0.0577796  0.        ]]\n"
     ]
    }
   ],
   "source": [
    "gap = 2\n",
    "basexs = np.array([0,2,4,1,3,5])\n",
    "xs = np.array(basexs.tolist() + (basexs+ 6 + gap).tolist())*2\n",
    "successes = [0,0,0,12,25,25,3,7,21,16,23,25]\n",
    "ys = np.array(successes)/25\n",
    "yerrs = np.abs(np.array([get_confidence_bounds(s,25) for s in successes]).T-ys)\n",
    "print(yerrs)\n",
    "tick_labs = np.array([\"$0^\\circ$ Skewer\", \"$30^\\circ$ Skewer\", \"$45^\\circ$ Skewer\", \"$17^\\circ$ CurvVAE\", \"$33^\\circ$ CurvVAE\", \"$48^\\circ$ CurvVAE\"] * 2)\n",
    "blue = ((np.array([0,47,108])+108)/216).tolist()\n",
    "red = (np.array([170,20,45])/170).tolist()\n",
    "\n",
    "colors = np.array(([red] * 3 + [blue] * 3) * 2)"
   ]
  },
  {
   "cell_type": "code",
   "execution_count": 131,
   "metadata": {
    "ExecuteTime": {
     "end_time": "2022-02-24T04:44:38.177298Z",
     "start_time": "2022-02-24T04:44:38.174570Z"
    }
   },
   "outputs": [],
   "source": [
    "import matplotlib\n",
    "font = {'size'   : 22}\n",
    "matplotlib.rc('font', **font)"
   ]
  },
  {
   "cell_type": "code",
   "execution_count": 132,
   "metadata": {
    "ExecuteTime": {
     "end_time": "2022-02-24T04:44:38.959263Z",
     "start_time": "2022-02-24T04:44:38.470031Z"
    }
   },
   "outputs": [
    {
     "data": {
      "image/png": "[encoded data removed]",
      "text/plain": [
       "<Figure size 504x432 with 1 Axes>"
      ]
     },
     "metadata": {
      "needs_background": "light"
     },
     "output_type": "display_data"
    }
   ],
   "source": [
    "plt.figure(figsize=(7,6))\n",
    "plt.bar(xs,ys,yerr=yerrs,tick_label=tick_labs,color=colors,capsize=5,error_kw={\"linewidth\":3},width=1.6)\n",
    "plt.xticks(rotation = 90)\n",
    "plt.ylabel(\"Success Fraction\")\n",
    "plt.ylim(0,1)\n",
    "plt.savefig(\"images/successResultBarChart.png\",bbox_inches=\"tight\")"
   ]
  },
  {
   "cell_type": "code",
   "execution_count": null,
   "metadata": {},
   "outputs": [],
   "source": []
  }
 ],
 "metadata": {
  "kernelspec": {
   "display_name": "Python 3",
   "language": "python",
   "name": "python3"
  },
  "language_info": {
   "codemirror_mode": {
    "name": "ipython",
    "version": 3
   },
   "file_extension": ".py",
   "mimetype": "text/x-python",
   "name": "python",
   "nbconvert_exporter": "python",
   "pygments_lexer": "ipython3",
   "version": "3.6.12"
  }
 },
 "nbformat": 4,
 "nbformat_minor": 4
}
