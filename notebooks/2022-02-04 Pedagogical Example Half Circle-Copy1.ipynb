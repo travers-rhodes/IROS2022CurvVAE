{
 "cells": [
  {
   "cell_type": "code",
   "execution_count": 1,
   "metadata": {
    "ExecuteTime": {
     "end_time": "2022-02-04T21:31:25.601597Z",
     "start_time": "2022-02-04T21:31:23.890563Z"
    },
    "scrolled": true
   },
   "outputs": [
    {
     "name": "stderr",
     "output_type": "stream",
     "text": [
      "Matplotlib created a temporary config/cache directory at /tmp/matplotlib-qwn1rmrc because the default path (/home/tsr42/.cache/matplotlib) is not a writable directory; it is highly recommended to set the MPLCONFIGDIR environment variable to a writable directory, in particular to speed up the import of Matplotlib and to better support multiprocessing.\n"
     ]
    }
   ],
   "source": [
    "%matplotlib inline\n",
    "import matplotlib.pyplot as plt\n",
    "import numpy as np\n",
    "import datetime\n",
    "import torch\n",
    "from torch.nn import functional as F\n",
    "import scipy.stats\n",
    "import sklearn.datasets\n",
    "\n",
    "import sys\n",
    "sys.path.append(\"../\")\n",
    "import curvvae_lib.train.predictive_passthrough_trainer as ppttrainer\n",
    "import curvvae_lib.architecture.passthrough_vae as ptvae\n",
    "import curvvae_lib.architecture.save_model as sm\n",
    "import curvvae_lib.architecture.load_model as lm"
   ]
  },
  {
   "cell_type": "markdown",
   "metadata": {},
   "source": [
    "# Dataset"
   ]
  },
  {
   "cell_type": "code",
   "execution_count": 2,
   "metadata": {
    "ExecuteTime": {
     "end_time": "2022-02-04T21:31:25.605117Z",
     "start_time": "2022-02-04T21:31:25.602998Z"
    }
   },
   "outputs": [],
   "source": [
    "dataset_dim = 2\n",
    "num_rand_samples = 16\n",
    "num_unif_samples = 16\n",
    "num_samples = num_rand_samples+num_unif_samples\n",
    "noise_size = 0.2"
   ]
  },
  {
   "cell_type": "code",
   "execution_count": 3,
   "metadata": {
    "ExecuteTime": {
     "end_time": "2022-02-04T21:31:25.611971Z",
     "start_time": "2022-02-04T21:31:25.606524Z"
    }
   },
   "outputs": [],
   "source": [
    "np.random.seed(1)\n",
    "ts = np.random.normal(3*np.pi/2,np.pi/3,num_rand_samples)\n",
    "ts = np.concatenate((ts,np.linspace(5 * np.pi/6, 13 * np.pi / 6, num_unif_samples)))\n",
    "xs = np.cos(ts) * (1+ noise_size * np.exp((-(ts-(3*np.pi/2))**2)/2) * np.random.normal(size=num_samples))\n",
    "ys = np.sin(ts) * (1+ noise_size * np.exp((-(ts-(3*np.pi/2))**2)/2) * np.random.normal(size=num_samples))\n",
    "dataset = np.hstack((xs[:,np.newaxis],ys[:,np.newaxis])) * 1000"
   ]
  },
  {
   "cell_type": "code",
   "execution_count": 4,
   "metadata": {
    "ExecuteTime": {
     "end_time": "2022-02-04T21:31:25.730963Z",
     "start_time": "2022-02-04T21:31:25.613290Z"
    },
    "scrolled": false
   },
   "outputs": [
    {
     "data": {
      "text/plain": [
       "(-1056.2042446202956,\n",
       " 1101.1535983509552,\n",
       " -1234.039516750181,\n",
       " 835.4409579453084)"
      ]
     },
     "execution_count": 4,
     "metadata": {},
     "output_type": "execute_result"
    },
    {
     "data": {
      "image/png": "[encoded data removed]",
      "text/plain": [
       "<Figure size 432x288 with 1 Axes>"
      ]
     },
     "metadata": {
      "needs_background": "light"
     },
     "output_type": "display_data"
    }
   ],
   "source": [
    "plt.scatter(dataset[:,0],dataset[:,1])\n",
    "plt.axis(\"equal\")\n",
    "#plt.plot(np.cos(np.arange(0,100,0.01)),np.sin(np.arange(0,100,0.01)))"
   ]
  },
  {
   "cell_type": "markdown",
   "metadata": {},
   "source": [
    "# 1D VAE Fit to Dataset"
   ]
  },
  {
   "cell_type": "code",
   "execution_count": 5,
   "metadata": {
    "ExecuteTime": {
     "end_time": "2022-02-04T21:31:25.737478Z",
     "start_time": "2022-02-04T21:31:25.732248Z"
    }
   },
   "outputs": [],
   "source": [
    "def LoadDataBatch(all_points, batchsize, passthroughdim, predictive, device, alldata=False):\n",
    "    \"\"\"Sample Pair of Points from Trajectory\"\"\"\n",
    "    if alldata:\n",
    "        if batchsize is not None:\n",
    "            raise \"don't pass in batchsize if you're doing all data\"\n",
    "        traj_ids = range(all_points.shape[0])\n",
    "        t1_ids = [0]\n",
    "        t2_ids = t1_ids\n",
    "    else:\n",
    "        # all_points should be of dimension: num_trajectories, numtimesteps, 1+spatialdims\n",
    "        traj_ids = np.random.choice(all_points.shape[0], batchsize)\n",
    "        t1_ids = np.random.choice(all_points.shape[1], batchsize)\n",
    "        if predictive:\n",
    "            t2_ids = np.random.choice(all_points.shape[1], batchsize)\n",
    "        else:\n",
    "            t2_ids = t1_ids\n",
    "    return (torch.tensor(all_points[traj_ids, t1_ids,passthroughdim:], dtype=torch.float).to(device),\n",
    "            torch.tensor(all_points[traj_ids, t1_ids,:passthroughdim], dtype=torch.float).to(device),\n",
    "            torch.tensor(all_points[traj_ids, t2_ids,passthroughdim:], dtype=torch.float).to(device),\n",
    "            torch.tensor(all_points[traj_ids, t2_ids,:passthroughdim], dtype=torch.float).to(device))"
   ]
  },
  {
   "cell_type": "code",
   "execution_count": 6,
   "metadata": {
    "ExecuteTime": {
     "end_time": "2022-02-04T21:31:25.743449Z",
     "start_time": "2022-02-04T21:31:25.738831Z"
    }
   },
   "outputs": [],
   "source": [
    "class Loader(object):\n",
    "    def __init__(self, all_points, batchsize, passthroughdim, epochnumbatches, predictive, device):\n",
    "        self.all_points = all_points\n",
    "        self.batchsize = batchsize\n",
    "        self.passthroughdim = passthroughdim\n",
    "        self.epochnumbatches = epochnumbatches\n",
    "        self.predictive = predictive\n",
    "        self.device = device\n",
    "        \n",
    "    def __iter__(self):\n",
    "        self.n = 0\n",
    "        return self\n",
    "    \n",
    "    def __next__(self):\n",
    "        if self.n >= self.epochnumbatches:\n",
    "            # https://docs.python.org/3/library/exceptions.html#StopIteration\n",
    "            raise StopIteration\n",
    "        self.n += 1\n",
    "        return LoadDataBatch(self.all_points, self.batchsize, self.passthroughdim, self.predictive, self.device)\n",
    "    \n",
    "\n",
    "device = \"cuda\"\n",
    "train_loader = Loader(dataset[:,np.newaxis,:], 256, 0,10,predictive=False, device=device)\n",
    "    "
   ]
  },
  {
   "cell_type": "code",
   "execution_count": 7,
   "metadata": {
    "ExecuteTime": {
     "end_time": "2022-02-04T21:31:25.747495Z",
     "start_time": "2022-02-04T21:31:25.744622Z"
    }
   },
   "outputs": [],
   "source": [
    "def make_vae(latent_dim):\n",
    "    input_dim = dataset_dim \n",
    "    passthrough_dim = 0\n",
    "    emb_layer_widths = [1000]\n",
    "    recon_layer_widths = [1000]\n",
    "    dtype = torch.float\n",
    "    model = ptvae.FCPassthroughVAE(input_dim, passthrough_dim, latent_dim,\n",
    "        emb_layer_widths, recon_layer_widths, dtype)\n",
    "    return model"
   ]
  },
  {
   "cell_type": "code",
   "execution_count": 8,
   "metadata": {
    "ExecuteTime": {
     "end_time": "2022-02-04T21:31:25.752024Z",
     "start_time": "2022-02-04T21:31:25.749202Z"
    }
   },
   "outputs": [],
   "source": [
    "testname = \"pedagogical/swiss2d\""
   ]
  },
  {
   "cell_type": "code",
   "execution_count": 9,
   "metadata": {
    "ExecuteTime": {
     "end_time": "2022-02-04T21:31:25.755897Z",
     "start_time": "2022-02-04T21:31:25.753208Z"
    }
   },
   "outputs": [],
   "source": [
    "\n",
    "colors=[\"red\",\"yellow\",\"green\",\"orange\",\"black\",\"gray\",\"blue\"]"
   ]
  },
  {
   "cell_type": "code",
   "execution_count": 10,
   "metadata": {
    "ExecuteTime": {
     "end_time": "2022-02-04T21:31:25.759455Z",
     "start_time": "2022-02-04T21:31:25.757072Z"
    }
   },
   "outputs": [],
   "source": [
    "all_models = [\"pedagogical/swiss2d_lat1_secreg0_curvreg0_beta1_20220204-162634\"]"
   ]
  },
  {
   "cell_type": "code",
   "execution_count": 11,
   "metadata": {
    "ExecuteTime": {
     "end_time": "2022-02-04T21:31:25.771229Z",
     "start_time": "2022-02-04T21:31:25.760603Z"
    }
   },
   "outputs": [
    {
     "name": "stdout",
     "output_type": "stream",
     "text": [
      "0.009797239 0.8615863 -1.1134275 0.405109\n",
      "1.1523787 8.707127 -8.263448 4.0445957\n"
     ]
    }
   ],
   "source": [
    "\n",
    "for modelpath in all_models:\n",
    "    vae = lm.load_model(modelpath)\n",
    "    dat = vae.all_emb_layers[0].weight.detach().cpu().numpy()\n",
    "    print(np.mean(dat),np.max(dat),np.min(dat),np.std(dat))\n",
    "    dat = vae.all_emb_layers[0].bias.detach().cpu().numpy()\n",
    "    print(np.mean(dat),np.max(dat),np.min(dat),np.std(dat))"
   ]
  },
  {
   "cell_type": "code",
   "execution_count": 50,
   "metadata": {
    "ExecuteTime": {
     "end_time": "2022-02-04T21:45:53.899942Z",
     "start_time": "2022-02-04T21:45:53.658008Z"
    },
    "scrolled": false
   },
   "outputs": [
    {
     "name": "stdout",
     "output_type": "stream",
     "text": [
      "pedagogical/swiss2d_lat1_secreg0_curvreg0_beta1_20220204-162634\n",
      "FCPassthroughVAE(\n",
      "  (fcmu): Linear(in_features=1000, out_features=1, bias=True)\n",
      "  (fclogvar): Linear(in_features=1000, out_features=1, bias=True)\n",
      "  (all_recon_layers): ModuleList(\n",
      "    (0): Linear(in_features=1, out_features=1000, bias=True)\n",
      "    (1): Linear(in_features=1000, out_features=2, bias=True)\n",
      "  )\n",
      "  (all_emb_layers): ModuleList(\n",
      "    (0): Linear(in_features=2, out_features=1000, bias=True)\n",
      "  )\n",
      "  (all_recon_batch_norm_layers): ModuleList(\n",
      "    (0): BatchNorm1d(1000, eps=1e-05, momentum=0.01, affine=True, track_running_stats=True)\n",
      "  )\n",
      "  (all_emb_batch_norm_layers): ModuleList(\n",
      "    (0): BatchNorm1d(1000, eps=1e-05, momentum=0.01, affine=True, track_running_stats=True)\n",
      "  )\n",
      ")\n",
      "FCPassthroughVAE(\n",
      "  (fcmu): Linear(in_features=1000, out_features=1, bias=True)\n",
      "  (fclogvar): Linear(in_features=1000, out_features=1, bias=True)\n",
      "  (all_recon_layers): ModuleList(\n",
      "    (0): Linear(in_features=1, out_features=1000, bias=True)\n",
      "    (1): Linear(in_features=1000, out_features=2, bias=True)\n",
      "  )\n",
      "  (all_emb_layers): ModuleList(\n",
      "    (0): Linear(in_features=2, out_features=1000, bias=True)\n",
      "  )\n",
      "  (all_recon_batch_norm_layers): ModuleList(\n",
      "    (0): BatchNorm1d(1000, eps=1e-05, momentum=0.1, affine=True, track_running_stats=True)\n",
      "  )\n",
      "  (all_emb_batch_norm_layers): ModuleList(\n",
      "    (0): BatchNorm1d(1000, eps=1e-05, momentum=0.1, affine=True, track_running_stats=True)\n",
      "  )\n",
      ")\n",
      "ModuleList(\n",
      "  (0): BatchNorm1d(1000, eps=1e-05, momentum=0.1, affine=True, track_running_stats=True)\n",
      ") ModuleList(\n",
      "  (0): BatchNorm1d(1000, eps=1e-05, momentum=0.1, affine=True, track_running_stats=True)\n",
      ")\n",
      "pedagogical/swiss2d_lat1_secreg0_curvreg0_beta1_20220204-162634\n",
      "FCPassthroughVAE(\n",
      "  (fcmu): Linear(in_features=1000, out_features=1, bias=True)\n",
      "  (fclogvar): Linear(in_features=1000, out_features=1, bias=True)\n",
      "  (all_recon_layers): ModuleList(\n",
      "    (0): Linear(in_features=1, out_features=1000, bias=True)\n",
      "    (1): Linear(in_features=1000, out_features=2, bias=True)\n",
      "  )\n",
      "  (all_emb_layers): ModuleList(\n",
      "    (0): Linear(in_features=2, out_features=1000, bias=True)\n",
      "  )\n",
      "  (all_recon_batch_norm_layers): ModuleList(\n",
      "    (0): BatchNorm1d(1000, eps=1e-05, momentum=0.01, affine=True, track_running_stats=True)\n",
      "  )\n",
      "  (all_emb_batch_norm_layers): ModuleList(\n",
      "    (0): BatchNorm1d(1000, eps=1e-05, momentum=0.01, affine=True, track_running_stats=True)\n",
      "  )\n",
      ")\n",
      "FCPassthroughVAE(\n",
      "  (fcmu): Linear(in_features=1000, out_features=1, bias=True)\n",
      "  (fclogvar): Linear(in_features=1000, out_features=1, bias=True)\n",
      "  (all_recon_layers): ModuleList(\n",
      "    (0): Linear(in_features=1, out_features=1000, bias=True)\n",
      "    (1): Linear(in_features=1000, out_features=2, bias=True)\n",
      "  )\n",
      "  (all_emb_layers): ModuleList(\n",
      "    (0): Linear(in_features=2, out_features=1000, bias=True)\n",
      "  )\n",
      "  (all_recon_batch_norm_layers): ModuleList(\n",
      "    (0): BatchNorm1d(1000, eps=1e-05, momentum=1e-06, affine=True, track_running_stats=True)\n",
      "  )\n",
      "  (all_emb_batch_norm_layers): ModuleList(\n",
      "    (0): BatchNorm1d(1000, eps=1e-05, momentum=1e-06, affine=True, track_running_stats=True)\n",
      "  )\n",
      ")\n",
      "ModuleList(\n",
      "  (0): BatchNorm1d(1000, eps=1e-05, momentum=1e-06, affine=True, track_running_stats=True)\n",
      ") ModuleList(\n",
      "  (0): BatchNorm1d(1000, eps=1e-05, momentum=1e-06, affine=True, track_running_stats=True)\n",
      ")\n"
     ]
    },
    {
     "data": {
      "image/png": "[encoded data removed]",
      "text/plain": [
       "<Figure size 432x288 with 1 Axes>"
      ]
     },
     "metadata": {
      "needs_background": "light"
     },
     "output_type": "display_data"
    },
    {
     "data": {
      "image/png": "[encoded data removed]",
      "text/plain": [
       "<Figure size 432x288 with 1 Axes>"
      ]
     },
     "metadata": {
      "needs_background": "light"
     },
     "output_type": "display_data"
    }
   ],
   "source": [
    "for momentum in ([0.1,0.000001]):\n",
    "    for i, modelpath in enumerate(all_models):\n",
    "        fig = plt.figure()\n",
    "        print(modelpath)\n",
    "        vae = lm.load_model(modelpath)\n",
    "        print(vae)\n",
    "        vae.all_recon_batch_norm_layers[0].momentum = momentum\n",
    "        vae.all_emb_batch_norm_layers[0].momentum = momentum\n",
    "        vae.eval()\n",
    "        print(vae)\n",
    "        print(vae.all_recon_batch_norm_layers,vae.all_emb_batch_norm_layers)\n",
    "        embeds = vae.encode(torch.tensor(dataset,dtype=torch.float),\n",
    "                           torch.tensor(np.zeros((len(dataset),0)),dtype=torch.float)\n",
    "                           )[0].detach().cpu().numpy()\n",
    "        pts = np.linspace(np.min(embeds[:,0]),np.max(embeds[:,0]),100).reshape((-1,1))\n",
    "        readout = vae.decode(torch.tensor(pts,dtype=torch.float),\n",
    "                  torch.tensor(np.zeros((len(pts),0)),dtype=torch.float))[0].detach().cpu()\n",
    "\n",
    "        plt.scatter(dataset[:,0],dataset[:,1]);\n",
    "        plt.scatter(readout[:,0],readout[:,1], alpha=0.5);"
   ]
  },
  {
   "cell_type": "code",
   "execution_count": 37,
   "metadata": {
    "ExecuteTime": {
     "end_time": "2022-02-04T21:37:43.094576Z",
     "start_time": "2022-02-04T21:37:42.861711Z"
    }
   },
   "outputs": [],
   "source": [
    "for _ in range(100):\n",
    "    embeds = vae.encode(torch.tensor(dataset,dtype=torch.float),\n",
    "                       torch.tensor(np.zeros((len(dataset),0)),dtype=torch.float)\n",
    "                       )[0].detach().cpu().numpy()"
   ]
  },
  {
   "cell_type": "code",
   "execution_count": 38,
   "metadata": {
    "ExecuteTime": {
     "end_time": "2022-02-04T21:37:43.270225Z",
     "start_time": "2022-02-04T21:37:43.257859Z"
    }
   },
   "outputs": [
    {
     "data": {
      "text/plain": [
       "tensor([-0.2016, -0.5785, -0.3463, -0.6435, -0.5721, -0.2398, -0.2011, -0.2250,\n",
       "        -0.5888, -0.2056, -0.6089, -0.5896, -0.6516, -0.6473, -0.6488, -0.3369,\n",
       "        -0.3163, -0.4782, -0.5806, -0.6240, -0.1795, -0.3266, -0.5698, -0.6254,\n",
       "        -0.4248, -0.6221, -0.2826, -0.5595, -0.2548, -0.1427, -0.5829, -0.3779,\n",
       "        -0.1464, -0.5573, -0.2168, -0.1715, -0.2015, -0.2724, -0.5994, -0.1449,\n",
       "        -0.1596, -0.5829, -0.6412, -0.3733, -0.5468, -0.6027, -0.5581, -0.3113,\n",
       "        -0.5901, -0.4929, -0.6033, -0.5198, -0.6520, -0.5877, -0.1184, -0.1808,\n",
       "        -0.5090, -0.6253, -0.1584, -0.5595, -0.1600, -0.3801, -0.1623, -0.2451,\n",
       "        -0.2729, -0.2421, -0.5758, -0.6083, -0.3170, -0.2833, -0.3994, -0.5914,\n",
       "        -0.2278, -0.4231, -0.6535, -0.5895, -0.2602, -0.6471, -0.5873, -0.2581,\n",
       "        -0.6060, -0.1482, -0.5550, -0.5250, -0.5708, -0.6110, -0.6597, -0.1966,\n",
       "        -0.2837, -0.6096, -0.5773, -0.6619, -0.5731, -0.5329, -0.2962, -0.2774,\n",
       "        -0.2560, -0.3216, -0.6361, -0.6232, -0.6274, -0.1964, -0.1420, -0.4443,\n",
       "        -0.1874, -0.6270, -0.5766, -0.2326, -0.2343, -0.1863, -0.2624, -0.6584,\n",
       "        -0.3076, -0.2270, -0.6007, -0.6021, -0.6540, -0.2273, -0.6557, -0.2682,\n",
       "        -0.6223, -0.1530, -0.5288, -0.6198, -0.2807, -0.2963, -0.6110, -0.6286,\n",
       "        -0.5704, -0.2155, -0.2347, -0.2678, -0.6372, -0.5842, -0.1810, -0.1681,\n",
       "        -0.5705, -0.5727, -0.6433, -0.6413, -0.6387, -0.2571, -0.5794, -0.6038,\n",
       "        -0.5545, -0.6521, -0.6138, -0.6383, -0.3199, -0.5594, -0.6134, -0.5483,\n",
       "        -0.1821, -0.2500, -0.5839, -0.2543, -0.2042, -0.3447, -0.1801, -0.1586,\n",
       "        -0.6374, -0.5370, -0.5324, -0.2631, -0.1675, -0.6237, -0.2888, -0.3417,\n",
       "        -0.5760, -0.3320,  0.0047,  0.7598, -0.5680, -0.6571, -0.5780, -0.6254,\n",
       "        -0.3165, -0.6334, -0.6073, -0.1653, -0.1334, -0.2120, -0.2651, -0.2116,\n",
       "        -0.5228, -0.6406, -0.6281, -0.6041, -0.3304, -0.6471, -0.5645,  0.6962,\n",
       "        -0.5757, -0.2954, -0.2233, -0.1374, -0.2523, -0.1540, -0.6612, -0.2311,\n",
       "        -0.6147, -0.1520, -0.5577, -0.2192, -0.5495, -0.5308, -0.2792, -0.6344,\n",
       "        -0.6456, -0.1450, -0.5784, -0.2824, -0.6090, -0.2990, -0.6137, -0.3224,\n",
       "        -0.2553, -0.6076, -0.6476, -0.1759, -0.2818, -0.6384, -0.6392, -0.2670,\n",
       "        -0.6191,  0.4651,  0.4395, -0.2576, -0.1956, -0.2826, -0.2817, -0.6547,\n",
       "        -0.2941, -0.6289, -0.4849, -0.3257, -0.6520, -0.2010, -0.3074, -0.6601,\n",
       "        -0.1532, -0.3550, -0.6431, -0.1864, -0.5632, -0.5065, -0.5856,  0.7339,\n",
       "        -0.2428, -0.6022, -0.1682, -0.1937, -0.6121, -0.5822, -0.6468, -0.6423,\n",
       "        -0.1773, -0.6439, -0.3378, -0.6170, -0.6258, -0.1627, -0.4802, -0.3045,\n",
       "        -0.2082, -0.6310, -0.1814, -0.2812, -0.6092,  0.7268, -0.6153, -0.3288,\n",
       "        -0.5552, -0.6418, -0.3141, -0.6183, -0.6091, -0.2391, -0.2006, -0.6308,\n",
       "        -0.5808, -0.2617, -0.6244, -0.2773, -0.1847, -0.2485, -0.6131, -0.6115,\n",
       "        -0.6068, -0.1902, -0.5348, -0.5833, -0.3131, -0.2648, -0.2437, -0.5977,\n",
       "        -0.1790, -0.5585, -0.1718, -0.2480, -0.2263, -0.2289, -0.6165, -0.6249,\n",
       "        -0.5404, -0.6019, -0.1740, -0.2987,  0.7447, -0.1827, -0.3065, -0.2362,\n",
       "        -0.6010, -0.5731, -0.5987, -0.1590, -0.2624, -0.2636, -0.1816, -0.2086,\n",
       "        -0.5904, -0.1951, -0.2637,  0.6047, -0.3314, -0.1504, -0.2541, -0.6201,\n",
       "        -0.3414, -0.2536, -0.3433, -0.3575, -0.6251, -0.5880,  0.7401, -0.2968,\n",
       "        -0.2620, -0.6463, -0.5520, -0.2850, -0.2805, -0.6163, -0.2831, -0.6129,\n",
       "        -0.6181, -0.1591, -0.5626, -0.5099, -0.6061, -0.5811, -0.3375, -0.2866,\n",
       "        -0.2582, -0.2445, -0.1805, -0.2281, -0.5017, -0.5912, -0.2460, -0.3243,\n",
       "        -0.5937, -0.2851, -0.3005, -0.3040, -0.2945, -0.2530, -0.6059, -0.2581,\n",
       "        -0.2403, -0.5736, -0.5823, -0.1916, -0.2370, -0.1926, -0.6215, -0.3023,\n",
       "         0.6412, -0.2054, -0.6234, -0.2529, -0.3097, -0.6068, -0.6137, -0.4893,\n",
       "        -0.6079, -0.6419, -0.6123, -0.3290, -0.2221, -0.1824, -0.6041, -0.6021,\n",
       "        -0.5617, -0.5357, -0.1617, -0.1736, -0.2457, -0.5519, -0.6659, -0.2404,\n",
       "        -0.6310, -0.5629, -0.2319, -0.2344, -0.5935, -0.2997, -0.2912, -0.2376,\n",
       "        -0.1544, -0.2634, -0.6055, -0.6079, -0.1758, -0.6208, -0.2867, -0.5946,\n",
       "        -0.5861, -0.6542, -0.3117, -0.6562, -0.5344, -0.2405, -0.1694, -0.5678,\n",
       "        -0.5421, -0.6549, -0.6405, -0.2262, -0.1551, -0.6677, -0.2117, -0.1735,\n",
       "        -0.2476, -0.6084, -0.6026, -0.6524, -0.2430, -0.1929, -0.2052, -0.5943,\n",
       "        -0.2367, -0.5758, -0.5388, -0.6169, -0.6192, -0.2721, -0.5415, -0.5497,\n",
       "        -0.6021, -0.5524, -0.6465, -0.2793, -0.6517, -0.3940, -0.1647, -0.5870,\n",
       "        -0.6305, -0.5871, -0.6208, -0.1570, -0.1767, -0.6405, -0.6565, -0.5934,\n",
       "        -0.2264, -0.5890, -0.2444, -0.2333, -0.6084, -0.5801, -0.4275, -0.5912,\n",
       "        -0.6247, -0.5499, -0.3265, -0.2358, -0.5954, -0.2911, -0.5981, -0.6323,\n",
       "        -0.6451, -0.1920, -0.5159, -0.1466, -0.5943, -0.2462, -0.5063, -0.5590,\n",
       "        -0.4855, -0.1540, -0.1403, -0.2423, -0.6035, -0.4725, -0.5733, -0.1821,\n",
       "        -0.1759, -0.5782, -0.6151, -0.2356, -0.6167, -0.2757, -0.2191, -0.6255,\n",
       "         0.6984, -0.2022, -0.2858, -0.6021, -0.3064, -0.1912, -0.5825, -0.1617,\n",
       "        -0.1992, -0.1605, -0.5598, -0.1649, -0.6509, -0.6255, -0.2750, -0.3033,\n",
       "        -0.5741, -0.5378,  0.7357, -0.2401, -0.1584, -0.5333, -0.2996, -0.5669,\n",
       "        -0.6038, -0.2362, -0.6475, -0.2610, -0.6175, -0.3464, -0.1557, -0.5373,\n",
       "        -0.3254, -0.1739, -0.2187, -0.5790, -0.3298, -0.2638, -0.6359, -0.6072,\n",
       "        -0.3280, -0.1815, -0.5938, -0.3047, -0.2640, -0.6156, -0.2479, -0.2683,\n",
       "        -0.3090, -0.1684, -0.2747, -0.3600, -0.5873, -0.6105, -0.6022, -0.2164,\n",
       "        -0.6453, -0.6011, -0.6198, -0.6086, -0.5825, -0.1453, -0.3280, -0.5897,\n",
       "        -0.5914, -0.3144, -0.5858, -0.6275, -0.6044, -0.4905, -0.3149, -0.4857,\n",
       "         0.7380, -0.2651, -0.1658, -0.5690, -0.3128, -0.5715, -0.1896, -0.6359,\n",
       "        -0.5848, -0.4986, -0.3369, -0.1586, -0.5393, -0.6313, -0.2106, -0.1628,\n",
       "        -0.2463, -0.6018, -0.5700, -0.6013, -0.3001, -0.6359, -0.5205, -0.2931,\n",
       "        -0.6116, -0.2503, -0.6604, -0.2520, -0.1770, -0.4246, -0.6197, -0.2263,\n",
       "        -0.5988, -0.2560, -0.1437, -0.1375, -0.6164, -0.2433, -0.5810, -0.1383,\n",
       "        -0.1928, -0.2645, -0.5749, -0.1924, -0.5959, -0.6038, -0.6156, -0.1757,\n",
       "        -0.2535, -0.6196, -0.6141, -0.2319, -0.4833, -0.1374, -0.6130, -0.2397,\n",
       "        -0.2372, -0.3463,  0.7182, -0.2164, -0.2514, -0.3343, -0.6057, -0.2433,\n",
       "        -0.6242, -0.6055, -0.5358, -0.6073,  0.7081, -0.2571, -0.3152, -0.5702,\n",
       "        -0.1816, -0.1592, -0.2683, -0.6016, -0.2345, -0.6157, -0.3013, -0.2525,\n",
       "        -0.5949, -0.2887, -0.5797, -0.2376, -0.3333, -0.3246, -0.5640, -0.2428,\n",
       "        -0.6380, -0.5989, -0.5853, -0.2544, -0.6262, -0.5744, -0.2322, -0.5534,\n",
       "        -0.5020, -0.5227, -0.5930, -0.6067, -0.6278, -0.2770, -0.6337, -0.3090,\n",
       "        -0.6044, -0.5140, -0.2943, -0.5674, -0.1973, -0.5882, -0.6334, -0.4910,\n",
       "        -0.6258, -0.2275, -0.5407, -0.5112, -0.1562, -0.1875, -0.5404, -0.4075,\n",
       "        -0.2568, -0.1629,  0.7436,  0.7249, -0.6417, -0.2261,  0.7567, -0.2044,\n",
       "        -0.2459, -0.2668, -0.5717, -0.6036, -0.6376, -0.4971, -0.2371, -0.6346,\n",
       "        -0.5278, -0.5439, -0.2034, -0.6155, -0.5406,  0.7336, -0.2573, -0.1719,\n",
       "        -0.5427, -0.2973, -0.2593, -0.3020, -0.5741, -0.5269, -0.5864, -0.5841,\n",
       "        -0.6434, -0.6291, -0.6053, -0.2944, -0.2719, -0.4224, -0.2043, -0.1838,\n",
       "        -0.1402, -0.5618, -0.3158, -0.2621, -0.5328, -0.4985, -0.5315, -0.5571,\n",
       "        -0.2969, -0.2623, -0.5460, -0.5667, -0.4042, -0.5992, -0.5832, -0.4826,\n",
       "        -0.6473, -0.2378, -0.2370, -0.5950, -0.1871, -0.5031, -0.6233, -0.6011,\n",
       "         0.5151, -0.6165, -0.1669, -0.6289, -0.1518, -0.2260, -0.5149, -0.6531,\n",
       "        -0.2417, -0.1482, -0.2895, -0.5933, -0.6195, -0.1546, -0.2585, -0.2780,\n",
       "        -0.2492, -0.2766, -0.6449, -0.2806, -0.2763, -0.2242, -0.2809, -0.5864,\n",
       "        -0.5591, -0.5829, -0.1898, -0.2439, -0.5670, -0.6526, -0.3189, -0.2689,\n",
       "        -0.2256, -0.3054, -0.3412, -0.5490, -0.6212, -0.5220, -0.5738, -0.6071,\n",
       "        -0.2551, -0.2589, -0.5274, -0.2414, -0.1694, -0.1612, -0.6283, -0.2055,\n",
       "        -0.2389, -0.2865, -0.6434, -0.6085, -0.1828, -0.5905, -0.3109, -0.5991,\n",
       "        -0.2477, -0.4367, -0.2515, -0.5742, -0.5923, -0.2718, -0.5958, -0.1786,\n",
       "        -0.6265, -0.2962, -0.3214, -0.3286, -0.6160, -0.5888, -0.5419, -0.3206,\n",
       "        -0.2535, -0.2279,  0.7292, -0.2820, -0.2324, -0.5837, -0.3382, -0.2995,\n",
       "        -0.6493, -0.2753, -0.5903, -0.5665, -0.2364,  0.4374, -0.6082, -0.2789,\n",
       "        -0.1560, -0.2557, -0.3389, -0.2773, -0.6334, -0.5995, -0.5099, -0.2506,\n",
       "        -0.5560, -0.2368, -0.1727, -0.6496, -0.5847, -0.1881, -0.2024, -0.1924,\n",
       "        -0.3224, -0.6190, -0.2850, -0.6218, -0.5575, -0.2906, -0.3875, -0.6211,\n",
       "        -0.6242, -0.6154, -0.5850, -0.5251, -0.5908, -0.2828, -0.5949, -0.1717,\n",
       "        -0.6057, -0.2445, -0.5644, -0.5867, -0.6165, -0.2494, -0.5886, -0.5751,\n",
       "        -0.6651, -0.1715, -0.3123, -0.1990, -0.5752, -0.2767, -0.6041, -0.1616,\n",
       "        -0.1217, -0.5878, -0.2826, -0.3343, -0.5802, -0.1927, -0.2368, -0.2392,\n",
       "        -0.5799, -0.5969, -0.5986, -0.6061, -0.3367, -0.2720, -0.2363, -0.3522,\n",
       "        -0.6559, -0.4105, -0.1853, -0.5576, -0.5930, -0.2662, -0.2138, -0.5268,\n",
       "        -0.5711, -0.2923, -0.2692, -0.2049, -0.1735, -0.5743, -0.2907, -0.3092,\n",
       "        -0.6149, -0.5978, -0.6219, -0.2077, -0.1711, -0.2028, -0.3237, -0.5458,\n",
       "        -0.6005, -0.6219, -0.1996, -0.2985, -0.6131, -0.2452, -0.5704, -0.2081,\n",
       "        -0.5957, -0.3135, -0.2002, -0.1675, -0.1929, -0.2151, -0.5962, -0.2771,\n",
       "        -0.6017, -0.5329, -0.1839, -0.2345, -0.6047, -0.6231, -0.3331, -0.5831,\n",
       "        -0.2793, -0.5808, -0.2378, -0.5901, -0.6258, -0.5190, -0.4997, -0.6327,\n",
       "        -0.6632, -0.6464, -0.3007, -0.6299, -0.6383, -0.5301, -0.3090, -0.5217,\n",
       "        -0.5282, -0.1769, -0.2670, -0.6229, -0.1987, -0.5757, -0.5481, -0.6243,\n",
       "        -0.5809, -0.1201, -0.2561, -0.3229, -0.6074, -0.6179, -0.1716, -0.6115,\n",
       "        -0.2780, -0.1627, -0.5270, -0.1404, -0.1814,  0.4196, -0.1655, -0.2543])"
      ]
     },
     "execution_count": 38,
     "metadata": {},
     "output_type": "execute_result"
    }
   ],
   "source": [
    "vae.all_recon_batch_norm_layers[0].bias.detach().cpu()"
   ]
  },
  {
   "cell_type": "code",
   "execution_count": null,
   "metadata": {},
   "outputs": [],
   "source": []
  },
  {
   "cell_type": "code",
   "execution_count": null,
   "metadata": {},
   "outputs": [],
   "source": []
  }
 ],
 "metadata": {
  "kernelspec": {
   "display_name": "Python 3",
   "language": "python",
   "name": "python3"
  },
  "language_info": {
   "codemirror_mode": {
    "name": "ipython",
    "version": 3
   },
   "file_extension": ".py",
   "mimetype": "text/x-python",
   "name": "python",
   "nbconvert_exporter": "python",
   "pygments_lexer": "ipython3",
   "version": "3.6.12"
  }
 },
 "nbformat": 4,
 "nbformat_minor": 5
}
