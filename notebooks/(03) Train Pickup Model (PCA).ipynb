{
 "cells": [
  {
   "cell_type": "code",
   "execution_count": 1,
   "id": "b6e8af3f",
   "metadata": {
    "ExecuteTime": {
     "end_time": "2022-07-25T23:28:16.862199Z",
     "start_time": "2022-07-25T23:28:14.262381Z"
    }
   },
   "outputs": [
    {
     "name": "stderr",
     "output_type": "stream",
     "text": [
      "Matplotlib created a temporary config/cache directory at /tmp/matplotlib-28n3uuu3 because the default path (/home/tsr42/.cache/matplotlib) is not a writable directory; it is highly recommended to set the MPLCONFIGDIR environment variable to a writable directory, in particular to speed up the import of Matplotlib and to better support multiprocessing.\n",
      "/home/tsr42/anaconda3/envs/curvvaecuda/lib/python3.6/site-packages/tqdm/auto.py:22: TqdmWarning: IProgress not found. Please update jupyter and ipywidgets. See https://ipywidgets.readthedocs.io/en/stable/user_install.html\n",
      "  from .autonotebook import tqdm as notebook_tqdm\n"
     ]
    }
   ],
   "source": [
    "%matplotlib inline\n",
    "import matplotlib.pyplot as plt\n",
    "import numpy as np\n",
    "import transforms3d as t3d\n",
    "import datetime\n",
    "import torch\n",
    "from torch.nn import functional as F\n",
    "\n",
    "import sys\n",
    "sys.path.append(\"../\")\n",
    "import curvvae_lib.train.predictive_passthrough_trainer as ppttrainer\n",
    "import curvvae_lib.architecture.passthrough_vae as ptvae\n",
    "import curvvae_lib.architecture.save_model as sm\n",
    "import curvvae_lib.architecture.load_model as lm"
   ]
  },
  {
   "cell_type": "code",
   "execution_count": 2,
   "id": "2c640105",
   "metadata": {
    "ExecuteTime": {
     "end_time": "2022-07-25T23:28:16.867429Z",
     "start_time": "2022-07-25T23:28:16.864455Z"
    }
   },
   "outputs": [],
   "source": [
    "foodname = \"banana\"\n",
    "foldername = f\"fork_trajectory_{foodname}\"\n",
    "savefilename = f\"{foodname}_clean_pickups\""
   ]
  },
  {
   "cell_type": "code",
   "execution_count": 3,
   "id": "7b7c467e",
   "metadata": {
    "ExecuteTime": {
     "end_time": "2022-07-25T23:28:16.963528Z",
     "start_time": "2022-07-25T23:28:16.869541Z"
    },
    "scrolled": true
   },
   "outputs": [
    {
     "name": "stdout",
     "output_type": "stream",
     "text": [
      "We found 155 pickup attempts\n",
      "(155, 64, 8)\n",
      "[ 0.          0.00227658 -0.00117697  0.0121782  -0.04935249  0.37343377\n",
      " -0.89429268 -0.01921521]\n",
      "[2.63014114e-05 3.40430938e-05 1.00819967e-04 7.90561700e-03\n",
      " 3.18947674e-02 7.03375426e-03 1.11414372e-02]\n",
      "std of:  0.17859106200728153\n"
     ]
    }
   ],
   "source": [
    "train = []\n",
    "training_ts = np.linspace(0,1,64)\n",
    "attempt = 1\n",
    "while True:\n",
    "    try:\n",
    "        raw_vals = np.load(f\"{savefilename}/pickup_attempt{attempt}.npy\")\n",
    "        train.append(raw_vals.T.flatten())\n",
    "    except:\n",
    "        print(f\"We found {attempt-1} pickup attempts\")\n",
    "        break\n",
    "    attempt += 1\n",
    "\n",
    "train = np.array(train).reshape(-1,7,64)\n",
    "all_points = train[:,:,:]\n",
    "\n",
    "time_shape = list(all_points.shape)\n",
    "time_shape[1] = 1\n",
    "# why be smart when you can be dumb\n",
    "t = np.ones(time_shape)\n",
    "for i in range(time_shape[2]):\n",
    "    t[:,:,i] = t[:,:,i] * i / (time_shape[2] + 0.0)\n",
    "\n",
    "all_points = np.concatenate((t, all_points), axis=1)\n",
    "all_points = all_points.transpose(0,2,1)\n",
    "print(all_points.shape)\n",
    "\n",
    "# See http://localhost:8889/notebooks/scratchwork/2021-09-17%20Rotation%20Scaling.ipynb\n",
    "# for why we want quaternion values to be multiplied by 0.16 when position values are in meters \n",
    "# (if the relevant distance scale of the fork is 0.08 meters, ie: 8cm).\n",
    "# scaling term doesn't affect time, so don't use time in calculation\n",
    "stats_reshaped = all_points.reshape(-1,8)\n",
    "mean = np.mean(stats_reshaped, axis=0)\n",
    "mean[0] = 0 # don't scale time\n",
    "variance = np.var(stats_reshaped[:,1:], axis=0) # don't scale time\n",
    "print(mean)\n",
    "print(variance)\n",
    "position_std = np.sqrt(np.max(variance))\n",
    "print(\"std of: \", position_std)\n",
    "position_scaling = 1/position_std\n",
    "rotation_scaling = 0.16 * position_scaling"
   ]
  },
  {
   "cell_type": "code",
   "execution_count": 4,
   "id": "2235efa3",
   "metadata": {
    "ExecuteTime": {
     "end_time": "2022-07-25T23:28:16.969869Z",
     "start_time": "2022-07-25T23:28:16.965346Z"
    }
   },
   "outputs": [],
   "source": [
    "def scale_dataset(input_points):\n",
    "    points = input_points - mean\n",
    "    poss = position_scaling\n",
    "    rts = rotation_scaling\n",
    "    points = (points * np.array((1,poss,poss,poss,rts,rts,rts,rts)))\n",
    "    return points\n",
    "    \n",
    "def unscale_dataset(input_points):\n",
    "    poss = position_scaling\n",
    "    rts = rotation_scaling\n",
    "    points = (input_points / np.array((1,poss,poss,poss,rts,rts,rts,rts)))\n",
    "    points = points + mean\n",
    "    return points"
   ]
  },
  {
   "cell_type": "code",
   "execution_count": 5,
   "id": "f16bd585",
   "metadata": {
    "ExecuteTime": {
     "end_time": "2022-07-25T23:28:16.979711Z",
     "start_time": "2022-07-25T23:28:16.971715Z"
    }
   },
   "outputs": [
    {
     "name": "stdout",
     "output_type": "stream",
     "text": [
      "[ 4.92187500e-01 -5.33852457e-17 -3.53827630e-17 -7.10732996e-17\n",
      " -8.46335211e-17 -1.59323160e-16 -9.38040178e-16  9.83756087e-17]\n",
      "[0.08331299 0.00082463 0.00106736 0.00316102 0.00634536 0.0256\n",
      " 0.00564557 0.00894256]\n"
     ]
    }
   ],
   "source": [
    "scaled_points = scale_dataset(all_points)\n",
    "print(np.mean(scaled_points.reshape(-1,8),axis=0))\n",
    "print(np.var(scaled_points.reshape(-1,8),axis=0))"
   ]
  },
  {
   "cell_type": "code",
   "execution_count": 36,
   "id": "f99410e9",
   "metadata": {
    "ExecuteTime": {
     "end_time": "2022-07-26T00:30:20.641358Z",
     "start_time": "2022-07-26T00:30:20.637953Z"
    }
   },
   "outputs": [],
   "source": [
    "import os\n",
    "foldname = f\"pcamodels\"\n",
    "os.makedirs(foldname,exist_ok=True)\n",
    "testname = f\"{foldname}/{foodname}_\""
   ]
  },
  {
   "cell_type": "code",
   "execution_count": 37,
   "id": "cd5973e2",
   "metadata": {
    "ExecuteTime": {
     "end_time": "2022-07-26T00:30:21.084478Z",
     "start_time": "2022-07-26T00:30:21.081242Z"
    },
    "scrolled": false
   },
   "outputs": [
    {
     "name": "stdout",
     "output_type": "stream",
     "text": [
      "pcamodels/banana_lat3_pca_20220725-203021\n"
     ]
    }
   ],
   "source": [
    "latentdim=3\n",
    "savedir  = f'{testname}lat{latentdim}_pca_{datetime.datetime.now().strftime(\"%Y%m%d-%H%M%S\")}'\n",
    "print(savedir)"
   ]
  },
  {
   "cell_type": "code",
   "execution_count": 38,
   "id": "80e9e09e",
   "metadata": {
    "ExecuteTime": {
     "end_time": "2022-07-26T00:30:21.457406Z",
     "start_time": "2022-07-26T00:30:21.452036Z"
    }
   },
   "outputs": [
    {
     "name": "stdout",
     "output_type": "stream",
     "text": [
      "(155, 64, 8)\n",
      "(155, 448)\n"
     ]
    }
   ],
   "source": [
    "print(scaled_points.shape)\n",
    "flattened_points = scaled_points[:,:,1:].reshape(scaled_points.shape[0],-1)\n",
    "print(flattened_points.shape) # datapoints x (timepoints * joints)"
   ]
  },
  {
   "cell_type": "code",
   "execution_count": 39,
   "id": "7b43262f",
   "metadata": {
    "ExecuteTime": {
     "end_time": "2022-07-26T00:30:26.189759Z",
     "start_time": "2022-07-26T00:30:26.164798Z"
    }
   },
   "outputs": [
    {
     "name": "stdout",
     "output_type": "stream",
     "text": [
      "(448, 3)\n"
     ]
    }
   ],
   "source": [
    "mean = np.mean(flattened_points,axis=0)\n",
    "shifted = flattened_points - mean\n",
    "u,s,vt = np.linalg.svd(shifted)\n",
    "pca_components = s.reshape(-1,1)[:latentdim,:] * vt[:latentdim,:]\n",
    "pca_components = pca_components.T\n",
    "print(pca_components.shape) # want to save a (timepoints * joints) X latent_dim matrix"
   ]
  },
  {
   "cell_type": "code",
   "execution_count": 40,
   "id": "76163dfa",
   "metadata": {
    "ExecuteTime": {
     "end_time": "2022-07-26T00:30:32.514180Z",
     "start_time": "2022-07-26T00:30:32.511599Z"
    }
   },
   "outputs": [
    {
     "name": "stdout",
     "output_type": "stream",
     "text": [
      "(448,)\n"
     ]
    }
   ],
   "source": [
    "print(mean.shape)"
   ]
  },
  {
   "cell_type": "code",
   "execution_count": 41,
   "id": "8d536a85",
   "metadata": {
    "ExecuteTime": {
     "end_time": "2022-07-26T00:30:44.788601Z",
     "start_time": "2022-07-26T00:30:44.783920Z"
    }
   },
   "outputs": [],
   "source": [
    "np.savez(savedir, pca_components=pca_components, mean=mean)"
   ]
  },
  {
   "cell_type": "code",
   "execution_count": 42,
   "id": "e25fd7c0",
   "metadata": {
    "ExecuteTime": {
     "end_time": "2022-07-26T00:32:58.277940Z",
     "start_time": "2022-07-26T00:32:58.274310Z"
    }
   },
   "outputs": [],
   "source": [
    "pca_components = np.load(savedir+\".npz\")"
   ]
  },
  {
   "cell_type": "code",
   "execution_count": 45,
   "id": "3a59e246",
   "metadata": {
    "ExecuteTime": {
     "end_time": "2022-07-26T00:33:11.945421Z",
     "start_time": "2022-07-26T00:33:11.940359Z"
    }
   },
   "outputs": [
    {
     "data": {
      "text/plain": [
       "array([[-7.82996324e-02,  1.52278060e-01,  8.37531082e-02],\n",
       "       [-7.66342814e-02,  1.49588043e-01, -1.26693667e-01],\n",
       "       [-2.28803008e-02,  3.62535873e-02, -9.27493532e-02],\n",
       "       ...,\n",
       "       [-1.58172882e+00,  2.17297025e-01, -3.71657808e-03],\n",
       "       [-6.04536978e-01,  1.51692883e-03,  1.64236569e-01],\n",
       "       [ 2.91450099e-01,  2.42176374e-01, -7.82171167e-01]])"
      ]
     },
     "execution_count": 45,
     "metadata": {},
     "output_type": "execute_result"
    }
   ],
   "source": [
    "pca_components[\"mean\"]\n",
    "pca_components[\"pca_components\"]"
   ]
  },
  {
   "cell_type": "code",
   "execution_count": null,
   "id": "26146976",
   "metadata": {},
   "outputs": [],
   "source": []
  }
 ],
 "metadata": {
  "kernelspec": {
   "display_name": "Python 3",
   "language": "python",
   "name": "python3"
  },
  "language_info": {
   "codemirror_mode": {
    "name": "ipython",
    "version": 3
   },
   "file_extension": ".py",
   "mimetype": "text/x-python",
   "name": "python",
   "nbconvert_exporter": "python",
   "pygments_lexer": "ipython3",
   "version": "3.6.12"
  }
 },
 "nbformat": 4,
 "nbformat_minor": 5
}
