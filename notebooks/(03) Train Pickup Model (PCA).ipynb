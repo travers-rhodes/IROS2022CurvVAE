{
 "cells": [
  {
   "cell_type": "code",
   "execution_count": 1,
   "id": "b6e8af3f",
   "metadata": {
    "ExecuteTime": {
     "end_time": "2022-10-31T15:07:10.134880Z",
     "start_time": "2022-10-31T15:07:08.215014Z"
    }
   },
   "outputs": [],
   "source": [
    "%matplotlib inline\n",
    "import matplotlib.pyplot as plt\n",
    "import numpy as np\n",
    "import transforms3d as t3d\n",
    "import datetime\n",
    "import torch\n",
    "from torch.nn import functional as F\n",
    "\n",
    "import sys\n",
    "sys.path.append(\"../\")\n",
    "import curvvae_lib.train.predictive_passthrough_trainer as ppttrainer\n",
    "import curvvae_lib.architecture.passthrough_vae as ptvae\n",
    "import curvvae_lib.architecture.save_model as sm\n",
    "import curvvae_lib.architecture.load_model as lm"
   ]
  },
  {
   "cell_type": "code",
   "execution_count": 2,
   "id": "2c640105",
   "metadata": {
    "ExecuteTime": {
     "end_time": "2022-10-31T15:07:10.145849Z",
     "start_time": "2022-10-31T15:07:10.140234Z"
    }
   },
   "outputs": [],
   "source": [
    "foodname = \"banana\"\n",
    "foldername = f\"fork_trajectory_{foodname}\"\n",
    "savefilename = f\"{foodname}_clean_pickups\""
   ]
  },
  {
   "cell_type": "code",
   "execution_count": 3,
   "id": "7b7c467e",
   "metadata": {
    "ExecuteTime": {
     "end_time": "2022-10-31T15:07:10.315682Z",
     "start_time": "2022-10-31T15:07:10.149688Z"
    },
    "scrolled": true
   },
   "outputs": [
    {
     "name": "stdout",
     "output_type": "stream",
     "text": [
      "We found 179 pickup attempts\n",
      "(179, 64, 8)\n",
      "[ 0.          0.0021176  -0.00108136  0.01226278 -0.05341325  0.3809648\n",
      " -0.86529588 -0.02303113]\n",
      "[2.74856348e-05 3.50234479e-05 1.02086472e-04 1.03992603e-02\n",
      " 5.06524753e-02 2.98499090e-02 1.16367323e-02]\n",
      "std of:  0.2250610480383746\n"
     ]
    }
   ],
   "source": [
    "train = []\n",
    "training_ts = np.linspace(0,1,64)\n",
    "attempt = 1\n",
    "while True:\n",
    "    try:\n",
    "        raw_vals = np.load(f\"{savefilename}/pickup_attempt{attempt}.npy\")\n",
    "        train.append(raw_vals.T.flatten())\n",
    "    except:\n",
    "        print(f\"We found {attempt-1} pickup attempts\")\n",
    "        break\n",
    "    attempt += 1\n",
    "\n",
    "train = np.array(train).reshape(-1,7,64)\n",
    "all_points = train[:,:,:]\n",
    "\n",
    "time_shape = list(all_points.shape)\n",
    "time_shape[1] = 1\n",
    "# why be smart when you can be dumb\n",
    "t = np.ones(time_shape)\n",
    "for i in range(time_shape[2]):\n",
    "    t[:,:,i] = t[:,:,i] * i / (time_shape[2] + 0.0)\n",
    "\n",
    "all_points = np.concatenate((t, all_points), axis=1)\n",
    "all_points = all_points.transpose(0,2,1)\n",
    "print(all_points.shape)\n",
    "\n",
    "# See http://localhost:8889/notebooks/scratchwork/2021-09-17%20Rotation%20Scaling.ipynb\n",
    "# for why we want quaternion values to be multiplied by 0.16 when position values are in meters \n",
    "# (if the relevant distance scale of the fork is 0.08 meters, ie: 8cm).\n",
    "# scaling term doesn't affect time, so don't use time in calculation\n",
    "stats_reshaped = all_points.reshape(-1,8)\n",
    "mean = np.mean(stats_reshaped, axis=0)\n",
    "mean[0] = 0 # don't scale time\n",
    "variance = np.var(stats_reshaped[:,1:], axis=0) # don't scale time\n",
    "print(mean)\n",
    "print(variance)\n",
    "position_std = np.sqrt(np.max(variance))\n",
    "print(\"std of: \", position_std)\n",
    "position_scaling = 1/position_std\n",
    "rotation_scaling = 0.16 * position_scaling"
   ]
  },
  {
   "cell_type": "code",
   "execution_count": 4,
   "id": "2235efa3",
   "metadata": {
    "ExecuteTime": {
     "end_time": "2022-10-31T15:07:10.328363Z",
     "start_time": "2022-10-31T15:07:10.318834Z"
    }
   },
   "outputs": [],
   "source": [
    "def scale_dataset(input_points):\n",
    "    points = input_points - mean\n",
    "    poss = position_scaling\n",
    "    rts = rotation_scaling\n",
    "    points = (points * np.array((1,poss,poss,poss,rts,rts,rts,rts)))\n",
    "    return points\n",
    "    \n",
    "def unscale_dataset(input_points):\n",
    "    poss = position_scaling\n",
    "    rts = rotation_scaling\n",
    "    points = (input_points / np.array((1,poss,poss,poss,rts,rts,rts,rts)))\n",
    "    points = points + mean\n",
    "    return points"
   ]
  },
  {
   "cell_type": "code",
   "execution_count": 5,
   "id": "f16bd585",
   "metadata": {
    "ExecuteTime": {
     "end_time": "2022-10-31T15:07:10.348499Z",
     "start_time": "2022-10-31T15:07:10.331793Z"
    }
   },
   "outputs": [
    {
     "name": "stdout",
     "output_type": "stream",
     "text": [
      "[ 4.92187500e-01 -2.81528009e-17 -2.17591502e-17  2.48869826e-16\n",
      " -5.98249433e-18 -2.07415750e-16 -3.70239233e-15 -2.10880351e-17]\n",
      "[0.08331299 0.00054263 0.00069145 0.00201543 0.00525584 0.0256\n",
      " 0.01508628 0.00588126]\n"
     ]
    }
   ],
   "source": [
    "scaled_points = scale_dataset(all_points)\n",
    "print(np.mean(scaled_points.reshape(-1,8),axis=0))\n",
    "print(np.var(scaled_points.reshape(-1,8),axis=0))"
   ]
  },
  {
   "cell_type": "code",
   "execution_count": 6,
   "id": "f99410e9",
   "metadata": {
    "ExecuteTime": {
     "end_time": "2022-10-31T15:07:10.361247Z",
     "start_time": "2022-10-31T15:07:10.353175Z"
    }
   },
   "outputs": [],
   "source": [
    "import os\n",
    "foldname = f\"pcamodels\"\n",
    "os.makedirs(foldname,exist_ok=True)\n",
    "testname = f\"{foldname}/{foodname}_\""
   ]
  },
  {
   "cell_type": "code",
   "execution_count": 7,
   "id": "cd5973e2",
   "metadata": {
    "ExecuteTime": {
     "end_time": "2022-10-31T15:07:10.374640Z",
     "start_time": "2022-10-31T15:07:10.366848Z"
    },
    "scrolled": false
   },
   "outputs": [
    {
     "name": "stdout",
     "output_type": "stream",
     "text": [
      "pcamodels/banana_lat3_pca_20221031-110710\n"
     ]
    }
   ],
   "source": [
    "latentdim=3\n",
    "savedir  = f'{testname}lat{latentdim}_pca_{datetime.datetime.now().strftime(\"%Y%m%d-%H%M%S\")}'\n",
    "print(savedir)"
   ]
  },
  {
   "cell_type": "code",
   "execution_count": 8,
   "id": "80e9e09e",
   "metadata": {
    "ExecuteTime": {
     "end_time": "2022-10-31T15:07:10.391676Z",
     "start_time": "2022-10-31T15:07:10.383703Z"
    }
   },
   "outputs": [
    {
     "name": "stdout",
     "output_type": "stream",
     "text": [
      "(179, 64, 8)\n",
      "(179, 448)\n"
     ]
    }
   ],
   "source": [
    "print(scaled_points.shape)\n",
    "flattened_points = scaled_points[:,:,1:].reshape(scaled_points.shape[0],-1)\n",
    "print(flattened_points.shape) # datapoints x (timepoints * joints)"
   ]
  },
  {
   "cell_type": "code",
   "execution_count": 9,
   "id": "7b43262f",
   "metadata": {
    "ExecuteTime": {
     "end_time": "2022-10-31T15:07:10.745135Z",
     "start_time": "2022-10-31T15:07:10.396091Z"
    }
   },
   "outputs": [
    {
     "name": "stdout",
     "output_type": "stream",
     "text": [
      "(448, 3)\n"
     ]
    }
   ],
   "source": [
    "mean = np.mean(flattened_points,axis=0)\n",
    "shifted = flattened_points - mean\n",
    "u,s,vt = np.linalg.svd(shifted)\n",
    "pca_components = s.reshape(-1,1)[:latentdim,:] * vt[:latentdim,:]\n",
    "pca_components = pca_components.T\n",
    "print(pca_components.shape) # want to save a (timepoints * joints) X latent_dim matrix"
   ]
  },
  {
   "cell_type": "code",
   "execution_count": 10,
   "id": "76163dfa",
   "metadata": {
    "ExecuteTime": {
     "end_time": "2022-10-31T15:07:10.762989Z",
     "start_time": "2022-10-31T15:07:10.749536Z"
    }
   },
   "outputs": [
    {
     "name": "stdout",
     "output_type": "stream",
     "text": [
      "(448,)\n"
     ]
    }
   ],
   "source": [
    "print(mean.shape)"
   ]
  },
  {
   "cell_type": "code",
   "execution_count": 11,
   "id": "8d536a85",
   "metadata": {
    "ExecuteTime": {
     "end_time": "2022-10-31T15:07:10.787902Z",
     "start_time": "2022-10-31T15:07:10.767324Z"
    }
   },
   "outputs": [],
   "source": [
    "np.savez(savedir, pca_components=pca_components, mean=mean)"
   ]
  },
  {
   "cell_type": "code",
   "execution_count": 12,
   "id": "e25fd7c0",
   "metadata": {
    "ExecuteTime": {
     "end_time": "2022-10-31T15:07:10.806503Z",
     "start_time": "2022-10-31T15:07:10.794695Z"
    }
   },
   "outputs": [],
   "source": [
    "pca_components = np.load(savedir+\".npz\")"
   ]
  },
  {
   "cell_type": "code",
   "execution_count": 13,
   "id": "3a59e246",
   "metadata": {
    "ExecuteTime": {
     "end_time": "2022-10-31T15:07:10.831769Z",
     "start_time": "2022-10-31T15:07:10.811087Z"
    }
   },
   "outputs": [
    {
     "data": {
      "text/plain": [
       "array([[-0.01790024,  0.16757963,  0.09063121],\n",
       "       [-0.11341525,  0.0888046 , -0.09900836],\n",
       "       [-0.08943301, -0.00847028, -0.05994208],\n",
       "       ...,\n",
       "       [-1.76284471,  0.33714694,  0.01451369],\n",
       "       [-0.99938237, -0.29799988,  0.21099649],\n",
       "       [ 0.1159829 ,  0.07750834, -0.67683254]])"
      ]
     },
     "execution_count": 13,
     "metadata": {},
     "output_type": "execute_result"
    }
   ],
   "source": [
    "pca_components[\"mean\"]\n",
    "pca_components[\"pca_components\"]"
   ]
  },
  {
   "cell_type": "code",
   "execution_count": null,
   "id": "26146976",
   "metadata": {},
   "outputs": [],
   "source": []
  }
 ],
 "metadata": {
  "kernelspec": {
   "display_name": "Python 3",
   "language": "python",
   "name": "python3"
  },
  "language_info": {
   "codemirror_mode": {
    "name": "ipython",
    "version": 3
   },
   "file_extension": ".py",
   "mimetype": "text/x-python",
   "name": "python",
   "nbconvert_exporter": "python",
   "pygments_lexer": "ipython3",
   "version": "3.6.12"
  }
 },
 "nbformat": 4,
 "nbformat_minor": 5
}
