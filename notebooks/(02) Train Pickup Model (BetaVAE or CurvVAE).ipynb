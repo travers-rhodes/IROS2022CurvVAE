{
 "cells": [
  {
   "cell_type": "code",
   "execution_count": 1,
   "id": "b6e8af3f",
   "metadata": {
    "ExecuteTime": {
     "end_time": "2022-10-31T15:04:13.260498Z",
     "start_time": "2022-10-31T15:04:12.395067Z"
    }
   },
   "outputs": [],
   "source": [
    "%matplotlib inline\n",
    "import matplotlib.pyplot as plt\n",
    "import numpy as np\n",
    "import transforms3d as t3d\n",
    "import datetime\n",
    "import torch\n",
    "from torch.nn import functional as F\n",
    "\n",
    "import sys\n",
    "sys.path.append(\"../\")\n",
    "import curvvae_lib.train.predictive_passthrough_trainer as ppttrainer\n",
    "import curvvae_lib.architecture.passthrough_vae as ptvae\n",
    "import curvvae_lib.architecture.save_model as sm\n",
    "import curvvae_lib.architecture.load_model as lm"
   ]
  },
  {
   "cell_type": "code",
   "execution_count": 2,
   "id": "2c640105",
   "metadata": {
    "ExecuteTime": {
     "end_time": "2022-10-31T15:04:13.264187Z",
     "start_time": "2022-10-31T15:04:13.261950Z"
    }
   },
   "outputs": [],
   "source": [
    "foodname = \"banana\"\n",
    "foldername = f\"fork_trajectory_{foodname}\"\n",
    "savefilename = f\"{foodname}_clean_pickups\""
   ]
  },
  {
   "cell_type": "code",
   "execution_count": 3,
   "id": "7b7c467e",
   "metadata": {
    "ExecuteTime": {
     "end_time": "2022-10-31T15:04:13.319076Z",
     "start_time": "2022-10-31T15:04:13.266140Z"
    },
    "scrolled": true
   },
   "outputs": [
    {
     "name": "stdout",
     "output_type": "stream",
     "text": [
      "We found 179 pickup attempts\n",
      "(179, 64, 8)\n",
      "[ 0.          0.0021176  -0.00108136  0.01226278 -0.05341325  0.3809648\n",
      " -0.86529588 -0.02303113]\n",
      "[2.74856348e-05 3.50234479e-05 1.02086472e-04 1.03992603e-02\n",
      " 5.06524753e-02 2.98499090e-02 1.16367323e-02]\n",
      "std of:  0.2250610480383746\n"
     ]
    }
   ],
   "source": [
    "train = []\n",
    "training_ts = np.linspace(0,1,64)\n",
    "attempt = 1\n",
    "while True:\n",
    "    try:\n",
    "        raw_vals = np.load(f\"{savefilename}/pickup_attempt{attempt}.npy\")\n",
    "        train.append(raw_vals.T.flatten())\n",
    "    except:\n",
    "        print(f\"We found {attempt-1} pickup attempts\")\n",
    "        break\n",
    "    attempt += 1\n",
    "\n",
    "train = np.array(train).reshape(-1,7,64)\n",
    "all_points = train[:,:,:]\n",
    "\n",
    "time_shape = list(all_points.shape)\n",
    "time_shape[1] = 1\n",
    "# why be smart when you can be dumb\n",
    "t = np.ones(time_shape)\n",
    "for i in range(time_shape[2]):\n",
    "    t[:,:,i] = t[:,:,i] * i / (time_shape[2] + 0.0)\n",
    "\n",
    "all_points = np.concatenate((t, all_points), axis=1)\n",
    "all_points = all_points.transpose(0,2,1)\n",
    "print(all_points.shape)\n",
    "\n",
    "# See http://localhost:8889/notebooks/scratchwork/2021-09-17%20Rotation%20Scaling.ipynb\n",
    "# for why we want quaternion values to be multiplied by 0.16 when position values are in meters \n",
    "# (if the relevant distance scale of the fork is 0.08 meters, ie: 8cm).\n",
    "# scaling term doesn't affect time, so don't use time in calculation\n",
    "stats_reshaped = all_points.reshape(-1,8)\n",
    "mean = np.mean(stats_reshaped, axis=0)\n",
    "mean[0] = 0 # don't scale time\n",
    "variance = np.var(stats_reshaped[:,1:], axis=0) # don't scale time\n",
    "print(mean)\n",
    "print(variance)\n",
    "position_std = np.sqrt(np.max(variance))\n",
    "print(\"std of: \", position_std)\n",
    "position_scaling = 1/position_std\n",
    "rotation_scaling = 0.16 * position_scaling"
   ]
  },
  {
   "cell_type": "code",
   "execution_count": 4,
   "id": "2235efa3",
   "metadata": {
    "ExecuteTime": {
     "end_time": "2022-10-31T15:04:13.328238Z",
     "start_time": "2022-10-31T15:04:13.320894Z"
    }
   },
   "outputs": [],
   "source": [
    "def scale_dataset(input_points):\n",
    "    points = input_points - mean\n",
    "    poss = position_scaling\n",
    "    rts = rotation_scaling\n",
    "    points = (points * np.array((1,poss,poss,poss,rts,rts,rts,rts)))\n",
    "    return points\n",
    "    \n",
    "def unscale_dataset(input_points):\n",
    "    poss = position_scaling\n",
    "    rts = rotation_scaling\n",
    "    points = (input_points / np.array((1,poss,poss,poss,rts,rts,rts,rts)))\n",
    "    points = points + mean\n",
    "    return points"
   ]
  },
  {
   "cell_type": "code",
   "execution_count": 5,
   "id": "f16bd585",
   "metadata": {
    "ExecuteTime": {
     "end_time": "2022-10-31T15:04:13.337290Z",
     "start_time": "2022-10-31T15:04:13.329969Z"
    }
   },
   "outputs": [
    {
     "name": "stdout",
     "output_type": "stream",
     "text": [
      "[ 4.92187500e-01 -2.81528009e-17 -2.17591502e-17  2.48869826e-16\n",
      " -5.98249433e-18 -2.07415750e-16 -3.70239233e-15 -2.10880351e-17]\n",
      "[0.08331299 0.00054263 0.00069145 0.00201543 0.00525584 0.0256\n",
      " 0.01508628 0.00588126]\n"
     ]
    }
   ],
   "source": [
    "scaled_points = scale_dataset(all_points)\n",
    "print(np.mean(scaled_points.reshape(-1,8),axis=0))\n",
    "print(np.var(scaled_points.reshape(-1,8),axis=0))"
   ]
  },
  {
   "cell_type": "code",
   "execution_count": 6,
   "id": "6d6178c9",
   "metadata": {
    "ExecuteTime": {
     "end_time": "2022-10-31T15:04:13.344833Z",
     "start_time": "2022-10-31T15:04:13.339371Z"
    }
   },
   "outputs": [],
   "source": [
    "def LoadDataBatch(all_points, batchsize, passthroughdim, predictive):\n",
    "    \"\"\"Sample Pair of Points from Trajectory\"\"\"\n",
    "    # all_points should be of dimension: num_trajectories, numtimesteps, 1+spatialdims\n",
    "    traj_ids = np.random.choice(all_points.shape[0], batchsize)\n",
    "    t1_ids = np.random.choice(all_points.shape[1], batchsize)\n",
    "    if predictive:\n",
    "        t2_ids = np.random.choice(all_points.shape[1], batchsize)\n",
    "    else:\n",
    "        t2_ids = t1_ids\n",
    "    return (torch.tensor(all_points[traj_ids, t1_ids,passthroughdim:], dtype=torch.float),\n",
    "            torch.tensor(all_points[traj_ids, t1_ids,:passthroughdim], dtype=torch.float),\n",
    "            torch.tensor(all_points[traj_ids, t2_ids,passthroughdim:], dtype=torch.float),\n",
    "            torch.tensor(all_points[traj_ids, t2_ids,:passthroughdim], dtype=torch.float))"
   ]
  },
  {
   "cell_type": "code",
   "execution_count": 7,
   "id": "2616b271",
   "metadata": {
    "ExecuteTime": {
     "end_time": "2022-10-31T15:04:13.350525Z",
     "start_time": "2022-10-31T15:04:13.346408Z"
    }
   },
   "outputs": [
    {
     "name": "stdout",
     "output_type": "stream",
     "text": [
      "(179, 64, 8)\n"
     ]
    }
   ],
   "source": [
    "print(all_points.shape)"
   ]
  },
  {
   "cell_type": "code",
   "execution_count": 8,
   "id": "fe133e57",
   "metadata": {
    "ExecuteTime": {
     "end_time": "2022-10-31T15:04:13.357439Z",
     "start_time": "2022-10-31T15:04:13.352700Z"
    }
   },
   "outputs": [],
   "source": [
    "class Loader(object):\n",
    "    def __init__(self, all_points, batchsize, passthroughdim, epochnumbatches, predictive):\n",
    "        self.all_points = all_points\n",
    "        self.batchsize = batchsize\n",
    "        self.passthroughdim = passthroughdim\n",
    "        self.epochnumbatches = epochnumbatches\n",
    "        self.predictive = predictive\n",
    "        \n",
    "    def __iter__(self):\n",
    "        self.n = 0\n",
    "        return self\n",
    "    \n",
    "    def __next__(self):\n",
    "        if self.n >= self.epochnumbatches:\n",
    "            # https://docs.python.org/3/library/exceptions.html#StopIteration\n",
    "            raise StopIteration\n",
    "        self.n += 1\n",
    "        return LoadDataBatch(self.all_points, self.batchsize, self.passthroughdim, self.predictive)\n",
    "    "
   ]
  },
  {
   "cell_type": "code",
   "execution_count": 9,
   "id": "0b6eb19a",
   "metadata": {
    "ExecuteTime": {
     "end_time": "2022-10-31T15:04:13.434650Z",
     "start_time": "2022-10-31T15:04:13.359598Z"
    }
   },
   "outputs": [
    {
     "name": "stdout",
     "output_type": "stream",
     "text": [
      "tensor([[0.9219]]) tensor([[0.6719]])\n"
     ]
    }
   ],
   "source": [
    "\n",
    "train_loader = Loader(scaled_points, 256, 1,100,predictive=True)\n",
    "for allxs, allts, testx2, testt2 in train_loader:\n",
    "    print(allts[:1],testt2[:1])\n",
    "    break"
   ]
  },
  {
   "cell_type": "code",
   "execution_count": 10,
   "id": "e72f1ca4",
   "metadata": {
    "ExecuteTime": {
     "end_time": "2022-10-31T15:04:13.443648Z",
     "start_time": "2022-10-31T15:04:13.436976Z"
    }
   },
   "outputs": [],
   "source": [
    "def make_vae(latent_dim):\n",
    "    input_dim = 7 \n",
    "    passthrough_dim = 1\n",
    "    emb_layer_widths = [1000]\n",
    "    recon_layer_widths = [1000]\n",
    "    dtype = torch.float\n",
    "    model = ptvae.FCPassthroughVAE(input_dim, passthrough_dim, latent_dim,\n",
    "        emb_layer_widths, recon_layer_widths, dtype)\n",
    "    return model\n",
    "allxs, allts, t2s, x2s = LoadDataBatch(scaled_points, 3000, 1, predictive=False)"
   ]
  },
  {
   "cell_type": "code",
   "execution_count": 11,
   "id": "f99410e9",
   "metadata": {
    "ExecuteTime": {
     "end_time": "2022-10-31T15:04:13.450219Z",
     "start_time": "2022-10-31T15:04:13.446550Z"
    }
   },
   "outputs": [],
   "source": [
    "testname = f\"trainedmodels/{foodname}_\""
   ]
  },
  {
   "cell_type": "code",
   "execution_count": 14,
   "id": "cd5973e2",
   "metadata": {
    "ExecuteTime": {
     "end_time": "2022-10-31T15:17:58.911090Z",
     "start_time": "2022-10-31T15:17:39.883658Z"
    },
    "scrolled": false
   },
   "outputs": [
    {
     "name": "stdout",
     "output_type": "stream",
     "text": [
      "trainedmodels/banana_lat3_curvreg0_beta0.002_20221031-111739\n"
     ]
    },
    {
     "ename": "KeyboardInterrupt",
     "evalue": "",
     "output_type": "error",
     "traceback": [
      "\u001b[0;31m---------------------------------------------------------------------------\u001b[0m",
      "\u001b[0;31mKeyboardInterrupt\u001b[0m                         Traceback (most recent call last)",
      "\u001b[0;32m<ipython-input-14-bd912c0034a7>\u001b[0m in \u001b[0;36m<module>\u001b[0;34m\u001b[0m\n\u001b[1;32m     24\u001b[0m                                 \u001b[0mscheduler\u001b[0m\u001b[0;34m.\u001b[0m\u001b[0mstep\u001b[0m\u001b[0;34m(\u001b[0m\u001b[0;34m)\u001b[0m\u001b[0;34m\u001b[0m\u001b[0;34m\u001b[0m\u001b[0m\n\u001b[1;32m     25\u001b[0m                                 \u001b[0mepsilon_scale\u001b[0m \u001b[0;34m=\u001b[0m \u001b[0mepsilon_scale\u001b[0m \u001b[0;34m*\u001b[0m \u001b[0mnp\u001b[0m\u001b[0;34m.\u001b[0m\u001b[0msqrt\u001b[0m\u001b[0;34m(\u001b[0m\u001b[0;36m0.5\u001b[0m\u001b[0;34m)\u001b[0m\u001b[0;34m\u001b[0m\u001b[0;34m\u001b[0m\u001b[0m\n\u001b[0;32m---> 26\u001b[0;31m                             \u001b[0membst\u001b[0m \u001b[0;34m=\u001b[0m \u001b[0mtrainer\u001b[0m\u001b[0;34m.\u001b[0m\u001b[0mtrain\u001b[0m\u001b[0;34m(\u001b[0m\u001b[0msecond_deriv_regularizer\u001b[0m\u001b[0;34m=\u001b[0m\u001b[0;36m0\u001b[0m\u001b[0;34m,\u001b[0m \u001b[0mcurvature_regularizer\u001b[0m\u001b[0;34m=\u001b[0m\u001b[0mcurvreg\u001b[0m\u001b[0;34m,\u001b[0m \u001b[0mepsilon_scale\u001b[0m \u001b[0;34m=\u001b[0m \u001b[0mepsilon_scale\u001b[0m\u001b[0;34m,\u001b[0m \u001b[0mnum_new_samp_points\u001b[0m\u001b[0;34m=\u001b[0m\u001b[0;36m512\u001b[0m\u001b[0;34m)\u001b[0m\u001b[0;34m\u001b[0m\u001b[0;34m\u001b[0m\u001b[0m\n\u001b[0m\u001b[1;32m     27\u001b[0m                             \u001b[0mis_error\u001b[0m \u001b[0;34m=\u001b[0m \u001b[0membst\u001b[0m\u001b[0;34m[\u001b[0m\u001b[0;36m0\u001b[0m\u001b[0;34m]\u001b[0m\u001b[0;34m\u001b[0m\u001b[0;34m\u001b[0m\u001b[0m\n\u001b[1;32m     28\u001b[0m                             \u001b[0;32mif\u001b[0m \u001b[0mis_error\u001b[0m\u001b[0;34m:\u001b[0m\u001b[0;34m\u001b[0m\u001b[0;34m\u001b[0m\u001b[0m\n",
      "\u001b[0;32m~/IROS2022CurvVAE/curvvae_lib/train/predictive_passthrough_trainer.py\u001b[0m in \u001b[0;36mtrain\u001b[0;34m(self, second_deriv_regularizer, curvature_regularizer, num_new_samp_points, epsilon_scale)\u001b[0m\n\u001b[1;32m    112\u001b[0m         \u001b[0mreconx2\u001b[0m\u001b[0;34m,\u001b[0m \u001b[0mt2\u001b[0m \u001b[0;34m=\u001b[0m \u001b[0mself\u001b[0m\u001b[0;34m.\u001b[0m\u001b[0mmodel\u001b[0m\u001b[0;34m.\u001b[0m\u001b[0mdecode\u001b[0m\u001b[0;34m(\u001b[0m\u001b[0mnoisy_mu\u001b[0m\u001b[0;34m,\u001b[0m\u001b[0mt2\u001b[0m\u001b[0;34m)\u001b[0m\u001b[0;34m\u001b[0m\u001b[0;34m\u001b[0m\u001b[0m\n\u001b[1;32m    113\u001b[0m         loss, NegLogLikelihood, KLD, mu_error, logvar_error, position_loss, quat_loss = vae_loss_function(reconx2, \n\u001b[0;32m--> 114\u001b[0;31m                                       x2, mu, logvar, tmp_beta, self.loss_func)\n\u001b[0m\u001b[1;32m    115\u001b[0m \u001b[0;34m\u001b[0m\u001b[0m\n\u001b[1;32m    116\u001b[0m         \u001b[0;32mif\u001b[0m \u001b[0mnum_new_samp_points\u001b[0m \u001b[0;32mis\u001b[0m \u001b[0;32mnot\u001b[0m \u001b[0;32mNone\u001b[0m\u001b[0;34m:\u001b[0m\u001b[0;34m\u001b[0m\u001b[0;34m\u001b[0m\u001b[0m\n",
      "\u001b[0;32m~/IROS2022CurvVAE/curvvae_lib/train/loss_function.py\u001b[0m in \u001b[0;36mvae_loss_function\u001b[0;34m(recon_x, x, mu, logvar, beta, loss_func)\u001b[0m\n\u001b[1;32m     48\u001b[0m     \u001b[0;31m# note that the 1 is getting broadcast batchsize x latent_dim times\u001b[0m\u001b[0;34m\u001b[0m\u001b[0;34m\u001b[0m\u001b[0;34m\u001b[0m\u001b[0m\n\u001b[1;32m     49\u001b[0m     \u001b[0;31m# (so this calc correctly implements Appendix B of Auto-Encoding Variational Bayes)\u001b[0m\u001b[0;34m\u001b[0m\u001b[0;34m\u001b[0m\u001b[0;34m\u001b[0m\u001b[0m\n\u001b[0;32m---> 50\u001b[0;31m     \u001b[0mlogvar_error\u001b[0m \u001b[0;34m=\u001b[0m \u001b[0;34m-\u001b[0m\u001b[0;36m0.5\u001b[0m \u001b[0;34m*\u001b[0m \u001b[0mtorch\u001b[0m\u001b[0;34m.\u001b[0m\u001b[0msum\u001b[0m\u001b[0;34m(\u001b[0m\u001b[0;36m1\u001b[0m \u001b[0;34m+\u001b[0m \u001b[0mlogvar\u001b[0m \u001b[0;34m-\u001b[0m \u001b[0mlogvar\u001b[0m\u001b[0;34m.\u001b[0m\u001b[0mexp\u001b[0m\u001b[0;34m(\u001b[0m\u001b[0;34m)\u001b[0m\u001b[0;34m)\u001b[0m\u001b[0;34m/\u001b[0m\u001b[0mbatch_size\u001b[0m\u001b[0;34m\u001b[0m\u001b[0;34m\u001b[0m\u001b[0m\n\u001b[0m\u001b[1;32m     51\u001b[0m     \u001b[0;32mif\u001b[0m \u001b[0mTESTING\u001b[0m\u001b[0;34m:\u001b[0m\u001b[0;34m\u001b[0m\u001b[0;34m\u001b[0m\u001b[0m\n\u001b[1;32m     52\u001b[0m         \u001b[0;32massert\u001b[0m \u001b[0mlen\u001b[0m\u001b[0;34m(\u001b[0m\u001b[0mlogvar_error\u001b[0m\u001b[0;34m.\u001b[0m\u001b[0mshape\u001b[0m\u001b[0;34m)\u001b[0m\u001b[0;34m==\u001b[0m\u001b[0;36m0\u001b[0m\u001b[0;34m,\u001b[0m\u001b[0;34m\"logvar_error should be scalar\"\u001b[0m\u001b[0;34m\u001b[0m\u001b[0;34m\u001b[0m\u001b[0m\n",
      "\u001b[0;31mKeyboardInterrupt\u001b[0m: "
     ]
    }
   ],
   "source": [
    "all_exceptions = []\n",
    "\n",
    "for lr in [0.0005,0.0001]:\n",
    "    for curvreg in [0]:#[0.001,0,0.01,0.0001,0.0005]:\n",
    "        for beta in [0.002,0.003,0.004,0.005]:#[0.001,0.00001,0.0001,0.01]:\n",
    "            for latentdim in [3]:\n",
    "                for epsilon_scale_start in [1]:\n",
    "                    try:\n",
    "                        vae = make_vae(latent_dim=latentdim)\n",
    "                        device = \"cpu\"\n",
    "                        num_epochs = 1000\n",
    "                        savedir  = f'{testname}lat{latentdim}_curvreg{curvreg}_beta{beta}_{datetime.datetime.now().strftime(\"%Y%m%d-%H%M%S\")}'\n",
    "                        print(savedir)\n",
    "                        trainer = ppttrainer.PPTVAETrainer(vae, train_loader, beta=beta, device=device,\n",
    "                            log_dir=savedir, lr=lr, annealingBatches=0, record_loss_every=300, loss_func = \"gaussian\")\n",
    "                        scheduler = torch.optim.lr_scheduler.ExponentialLR(trainer.optimizer, gamma=0.5)\n",
    "                        epoch = 0\n",
    "                        epsilon_scale = epsilon_scale_start\n",
    "                        for _ in range(num_epochs*3):\n",
    "                            epoch += 1\n",
    "                            # had an off-by-one error here before\n",
    "                            # update values BEFORE training 501st element\n",
    "                            if epoch % num_epochs == 1 and epoch > 1: \n",
    "                                scheduler.step()\n",
    "                                epsilon_scale = epsilon_scale * np.sqrt(0.5)\n",
    "                            embst = trainer.train(second_deriv_regularizer=0, curvature_regularizer=curvreg, epsilon_scale = epsilon_scale, num_new_samp_points=512)\n",
    "                            is_error = embst[0]\n",
    "                            if is_error:\n",
    "                                raise Exception\n",
    "\n",
    "\n",
    "                            if epoch % num_epochs == 0:\n",
    "                                modeled = vae.noiseless_autoencode(allxs, allts)[0].detach().cpu().numpy()\n",
    "                                print(np.sum(np.square(modeled - allxs.detach().cpu().numpy())))\n",
    "                                print('====> Epoch: {}'.format(epoch))\n",
    "                                sm.save_fcpassthrough_vae(vae, savedir+f\"_epoch{epoch}\")\n",
    "                        sm.save_fcpassthrough_vae(vae, savedir)\n",
    "                        print(savedir)\n",
    "                    except Exception as e:\n",
    "                        all_exceptions.append(e)"
   ]
  },
  {
   "cell_type": "code",
   "execution_count": null,
   "id": "7b43262f",
   "metadata": {},
   "outputs": [],
   "source": []
  }
 ],
 "metadata": {
  "kernelspec": {
   "display_name": "Python 3",
   "language": "python",
   "name": "python3"
  },
  "language_info": {
   "codemirror_mode": {
    "name": "ipython",
    "version": 3
   },
   "file_extension": ".py",
   "mimetype": "text/x-python",
   "name": "python",
   "nbconvert_exporter": "python",
   "pygments_lexer": "ipython3",
   "version": "3.6.12"
  }
 },
 "nbformat": 4,
 "nbformat_minor": 5
}
