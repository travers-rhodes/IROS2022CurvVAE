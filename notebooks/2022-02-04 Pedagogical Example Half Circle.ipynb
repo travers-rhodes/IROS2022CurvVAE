{
 "cells": [
  {
   "cell_type": "code",
   "execution_count": 1,
   "metadata": {
    "ExecuteTime": {
     "end_time": "2022-02-04T21:26:32.413501Z",
     "start_time": "2022-02-04T21:26:30.659501Z"
    },
    "scrolled": true
   },
   "outputs": [
    {
     "name": "stderr",
     "output_type": "stream",
     "text": [
      "Matplotlib created a temporary config/cache directory at /tmp/matplotlib-7o0uuq_6 because the default path (/home/tsr42/.cache/matplotlib) is not a writable directory; it is highly recommended to set the MPLCONFIGDIR environment variable to a writable directory, in particular to speed up the import of Matplotlib and to better support multiprocessing.\n"
     ]
    }
   ],
   "source": [
    "%matplotlib inline\n",
    "import matplotlib.pyplot as plt\n",
    "import numpy as np\n",
    "import datetime\n",
    "import torch\n",
    "from torch.nn import functional as F\n",
    "import scipy.stats\n",
    "import sklearn.datasets\n",
    "\n",
    "import sys\n",
    "sys.path.append(\"../\")\n",
    "import curvvae_lib.train.predictive_passthrough_trainer as ppttrainer\n",
    "import curvvae_lib.architecture.passthrough_vae as ptvae\n",
    "import curvvae_lib.architecture.save_model as sm\n",
    "import curvvae_lib.architecture.load_model as lm"
   ]
  },
  {
   "cell_type": "markdown",
   "metadata": {},
   "source": [
    "# Dataset"
   ]
  },
  {
   "cell_type": "code",
   "execution_count": 2,
   "metadata": {
    "ExecuteTime": {
     "end_time": "2022-02-04T21:26:32.418535Z",
     "start_time": "2022-02-04T21:26:32.416464Z"
    }
   },
   "outputs": [],
   "source": [
    "dataset_dim = 2\n",
    "num_rand_samples = 16\n",
    "num_unif_samples = 16\n",
    "num_samples = num_rand_samples+num_unif_samples\n",
    "noise_size = 0.2"
   ]
  },
  {
   "cell_type": "code",
   "execution_count": 3,
   "metadata": {
    "ExecuteTime": {
     "end_time": "2022-02-04T21:26:32.425015Z",
     "start_time": "2022-02-04T21:26:32.419666Z"
    }
   },
   "outputs": [],
   "source": [
    "np.random.seed(1)\n",
    "ts = np.random.normal(3*np.pi/2,np.pi/3,num_rand_samples)\n",
    "ts = np.concatenate((ts,np.linspace(5 * np.pi/6, 13 * np.pi / 6, num_unif_samples)))\n",
    "xs = np.cos(ts) * (1+ noise_size * np.exp((-(ts-(3*np.pi/2))**2)/2) * np.random.normal(size=num_samples))\n",
    "ys = np.sin(ts) * (1+ noise_size * np.exp((-(ts-(3*np.pi/2))**2)/2) * np.random.normal(size=num_samples))\n",
    "dataset = np.hstack((xs[:,np.newaxis],ys[:,np.newaxis])) * 1000"
   ]
  },
  {
   "cell_type": "code",
   "execution_count": 4,
   "metadata": {
    "ExecuteTime": {
     "end_time": "2022-02-04T21:26:32.542243Z",
     "start_time": "2022-02-04T21:26:32.426346Z"
    },
    "scrolled": false
   },
   "outputs": [
    {
     "data": {
      "text/plain": [
       "(-1056.2042446202956,\n",
       " 1101.1535983509552,\n",
       " -1234.039516750181,\n",
       " 835.4409579453084)"
      ]
     },
     "execution_count": 4,
     "metadata": {},
     "output_type": "execute_result"
    },
    {
     "data": {
      "image/png": "[encoded data removed]",
      "text/plain": [
       "<Figure size 432x288 with 1 Axes>"
      ]
     },
     "metadata": {
      "needs_background": "light"
     },
     "output_type": "display_data"
    }
   ],
   "source": [
    "plt.scatter(dataset[:,0],dataset[:,1])\n",
    "plt.axis(\"equal\")\n",
    "#plt.plot(np.cos(np.arange(0,100,0.01)),np.sin(np.arange(0,100,0.01)))"
   ]
  },
  {
   "cell_type": "markdown",
   "metadata": {},
   "source": [
    "# 1D VAE Fit to Dataset"
   ]
  },
  {
   "cell_type": "code",
   "execution_count": 5,
   "metadata": {
    "ExecuteTime": {
     "end_time": "2022-02-04T21:26:32.549301Z",
     "start_time": "2022-02-04T21:26:32.543854Z"
    }
   },
   "outputs": [],
   "source": [
    "def LoadDataBatch(all_points, batchsize, passthroughdim, predictive, device, alldata=False):\n",
    "    \"\"\"Sample Pair of Points from Trajectory\"\"\"\n",
    "    if alldata:\n",
    "        if batchsize is not None:\n",
    "            raise \"don't pass in batchsize if you're doing all data\"\n",
    "        traj_ids = range(all_points.shape[0])\n",
    "        t1_ids = [0]\n",
    "        t2_ids = t1_ids\n",
    "    else:\n",
    "        # all_points should be of dimension: num_trajectories, numtimesteps, 1+spatialdims\n",
    "        traj_ids = np.random.choice(all_points.shape[0], batchsize)\n",
    "        t1_ids = np.random.choice(all_points.shape[1], batchsize)\n",
    "        if predictive:\n",
    "            t2_ids = np.random.choice(all_points.shape[1], batchsize)\n",
    "        else:\n",
    "            t2_ids = t1_ids\n",
    "    return (torch.tensor(all_points[traj_ids, t1_ids,passthroughdim:], dtype=torch.float).to(device),\n",
    "            torch.tensor(all_points[traj_ids, t1_ids,:passthroughdim], dtype=torch.float).to(device),\n",
    "            torch.tensor(all_points[traj_ids, t2_ids,passthroughdim:], dtype=torch.float).to(device),\n",
    "            torch.tensor(all_points[traj_ids, t2_ids,:passthroughdim], dtype=torch.float).to(device))"
   ]
  },
  {
   "cell_type": "code",
   "execution_count": 6,
   "metadata": {
    "ExecuteTime": {
     "end_time": "2022-02-04T21:26:32.570847Z",
     "start_time": "2022-02-04T21:26:32.550881Z"
    }
   },
   "outputs": [],
   "source": [
    "class Loader(object):\n",
    "    def __init__(self, all_points, batchsize, passthroughdim, epochnumbatches, predictive, device):\n",
    "        self.all_points = all_points\n",
    "        self.batchsize = batchsize\n",
    "        self.passthroughdim = passthroughdim\n",
    "        self.epochnumbatches = epochnumbatches\n",
    "        self.predictive = predictive\n",
    "        self.device = device\n",
    "        \n",
    "    def __iter__(self):\n",
    "        self.n = 0\n",
    "        return self\n",
    "    \n",
    "    def __next__(self):\n",
    "        if self.n >= self.epochnumbatches:\n",
    "            # https://docs.python.org/3/library/exceptions.html#StopIteration\n",
    "            raise StopIteration\n",
    "        self.n += 1\n",
    "        return LoadDataBatch(self.all_points, self.batchsize, self.passthroughdim, self.predictive, self.device)\n",
    "    \n",
    "\n",
    "device = \"cuda\"\n",
    "train_loader = Loader(dataset[:,np.newaxis,:], 256, 0,10,predictive=False, device=device)\n",
    "    "
   ]
  },
  {
   "cell_type": "code",
   "execution_count": 7,
   "metadata": {
    "ExecuteTime": {
     "end_time": "2022-02-04T21:26:32.575698Z",
     "start_time": "2022-02-04T21:26:32.572889Z"
    }
   },
   "outputs": [],
   "source": [
    "def make_vae(latent_dim):\n",
    "    input_dim = dataset_dim \n",
    "    passthrough_dim = 0\n",
    "    emb_layer_widths = [1000]\n",
    "    recon_layer_widths = [1000]\n",
    "    dtype = torch.float\n",
    "    model = ptvae.FCPassthroughVAE(input_dim, passthrough_dim, latent_dim,\n",
    "        emb_layer_widths, recon_layer_widths, dtype)\n",
    "    return model"
   ]
  },
  {
   "cell_type": "code",
   "execution_count": 8,
   "metadata": {
    "ExecuteTime": {
     "end_time": "2022-02-04T21:26:32.580128Z",
     "start_time": "2022-02-04T21:26:32.577352Z"
    }
   },
   "outputs": [],
   "source": [
    "testname = \"pedagogical/swiss2d\""
   ]
  },
  {
   "cell_type": "code",
   "execution_count": 9,
   "metadata": {
    "ExecuteTime": {
     "end_time": "2022-02-04T21:42:17.033317Z",
     "start_time": "2022-02-04T21:26:32.581349Z"
    },
    "scrolled": false
   },
   "outputs": [
    {
     "name": "stdout",
     "output_type": "stream",
     "text": [
      "pedagogical/swiss2d_lat1_secreg0_curvreg0_beta1_20220204-162634\n",
      "pedagogical/swiss2d_lat1_secreg0_curvreg0_beta1_20220204-162634\n",
      "pedagogical/swiss2d_lat1_secreg0_curvreg0_beta10_20220204-162944\n",
      "pedagogical/swiss2d_lat1_secreg0_curvreg0_beta10_20220204-162944\n",
      "pedagogical/swiss2d_lat1_secreg0_curvreg0_beta0.1_20220204-163251\n",
      "pedagogical/swiss2d_lat1_secreg0_curvreg0_beta0.1_20220204-163251\n",
      "pedagogical/swiss2d_lat1_secreg0_curvreg0_beta0.01_20220204-163600\n",
      "pedagogical/swiss2d_lat1_secreg0_curvreg0_beta0.01_20220204-163600\n",
      "pedagogical/swiss2d_lat1_secreg0_curvreg0_beta0.001_20220204-163908\n",
      "pedagogical/swiss2d_lat1_secreg0_curvreg0_beta0.001_20220204-163908\n"
     ]
    }
   ],
   "source": [
    "all_models=[]\n",
    "all_exceptions = []\n",
    "for beta in [1,10,0.1,0.01,0.001]:\n",
    "    for curvreg in [0]:#,1,10,100,1000]:\n",
    "        secreg = 0\n",
    "        if curvreg != 0 and secreg != 0:\n",
    "            continue\n",
    "        for latentdim in [1]:\n",
    "            for epsilon_scale_start in [2]:\n",
    "                try:\n",
    "                    vae = make_vae(latent_dim=latentdim).to(device)\n",
    "                    num_epochs = 1000\n",
    "                    savedir  = f'{testname}_lat{latentdim}_secreg{secreg}_curvreg{curvreg}_beta{beta}_{datetime.datetime.now().strftime(\"%Y%m%d-%H%M%S\")}'\n",
    "                    print(savedir)\n",
    "                    trainer = ppttrainer.PPTVAETrainer(vae, train_loader, beta=beta, device=device,\n",
    "                        log_dir=savedir, lr=0.001, annealingBatches=0, record_loss_every=50, loss_func = \"gaussian\")\n",
    "                    scheduler = torch.optim.lr_scheduler.ExponentialLR(trainer.optimizer, gamma=0.5)\n",
    "                    epoch = 0\n",
    "                    epsilon_scale = epsilon_scale_start\n",
    "                    for _ in range(num_epochs*3):\n",
    "                        epoch+=1\n",
    "                        # had an off-by-one error here before\n",
    "                        # update values BEFORE training 501st element\n",
    "                        if epoch % num_epochs == 1 and epoch > 1: \n",
    "                            scheduler.step()\n",
    "                        embst = trainer.train(second_deriv_regularizer=secreg, curvature_regularizer=curvreg, epsilon_scale = epsilon_scale, num_new_samp_points=128)\n",
    "                        is_error = embst[0]\n",
    "                        if is_error:\n",
    "                            raise Exception\n",
    "                    sm.save_fcpassthrough_vae(vae, savedir)\n",
    "                    print(savedir)\n",
    "                    all_models.append(savedir)\n",
    "                except:\n",
    "                    raise"
   ]
  },
  {
   "cell_type": "code",
   "execution_count": 10,
   "metadata": {
    "ExecuteTime": {
     "end_time": "2022-02-04T21:42:17.036263Z",
     "start_time": "2022-02-04T21:42:17.034360Z"
    }
   },
   "outputs": [],
   "source": [
    "\n",
    "colors=[\"red\",\"yellow\",\"green\",\"orange\",\"black\",\"gray\",\"blue\"]"
   ]
  },
  {
   "cell_type": "code",
   "execution_count": 11,
   "metadata": {
    "ExecuteTime": {
     "end_time": "2022-02-04T21:42:17.057052Z",
     "start_time": "2022-02-04T21:42:17.037305Z"
    }
   },
   "outputs": [
    {
     "name": "stdout",
     "output_type": "stream",
     "text": [
      "pedagogical/swiss2d_lat1_secreg0_curvreg0_beta1_20220204-162634\n",
      "pedagogical/swiss2d_lat1_secreg0_curvreg0_beta10_20220204-162944\n",
      "pedagogical/swiss2d_lat1_secreg0_curvreg0_beta0.1_20220204-163251\n",
      "pedagogical/swiss2d_lat1_secreg0_curvreg0_beta0.01_20220204-163600\n",
      "pedagogical/swiss2d_lat1_secreg0_curvreg0_beta0.001_20220204-163908\n"
     ]
    }
   ],
   "source": [
    "\n",
    "import importlib\n",
    "importlib.reload(lm)\n",
    "\n",
    "for i, modelpath in enumerate(all_models):\n",
    "    print(modelpath)\n",
    "    vae = lm.load_model(modelpath)"
   ]
  },
  {
   "cell_type": "code",
   "execution_count": 12,
   "metadata": {
    "ExecuteTime": {
     "end_time": "2022-02-04T21:42:17.611416Z",
     "start_time": "2022-02-04T21:42:17.058049Z"
    },
    "scrolled": false
   },
   "outputs": [
    {
     "name": "stdout",
     "output_type": "stream",
     "text": [
      "pedagogical/swiss2d_lat1_secreg0_curvreg0_beta1_20220204-162634\n",
      "pedagogical/swiss2d_lat1_secreg0_curvreg0_beta10_20220204-162944\n",
      "pedagogical/swiss2d_lat1_secreg0_curvreg0_beta0.1_20220204-163251\n",
      "pedagogical/swiss2d_lat1_secreg0_curvreg0_beta0.01_20220204-163600\n",
      "pedagogical/swiss2d_lat1_secreg0_curvreg0_beta0.001_20220204-163908\n"
     ]
    },
    {
     "data": {
      "image/png": "[encoded data removed]",
      "text/plain": [
       "<Figure size 432x288 with 1 Axes>"
      ]
     },
     "metadata": {
      "needs_background": "light"
     },
     "output_type": "display_data"
    },
    {
     "data": {
      "image/png": "[encoded data removed]",
      "text/plain": [
       "<Figure size 432x288 with 1 Axes>"
      ]
     },
     "metadata": {
      "needs_background": "light"
     },
     "output_type": "display_data"
    },
    {
     "data": {
      "image/png": "[encoded data removed]",
      "text/plain": [
       "<Figure size 432x288 with 1 Axes>"
      ]
     },
     "metadata": {
      "needs_background": "light"
     },
     "output_type": "display_data"
    },
    {
     "data": {
      "image/png": "[encoded data removed]",
      "text/plain": [
       "<Figure size 432x288 with 1 Axes>"
      ]
     },
     "metadata": {
      "needs_background": "light"
     },
     "output_type": "display_data"
    },
    {
     "data": {
      "image/png": "[encoded data removed]",
      "text/plain": [
       "<Figure size 432x288 with 1 Axes>"
      ]
     },
     "metadata": {
      "needs_background": "light"
     },
     "output_type": "display_data"
    }
   ],
   "source": [
    "\n",
    "for i, modelpath in enumerate(all_models):\n",
    "    fig = plt.figure()\n",
    "    print(modelpath)\n",
    "    vae = lm.load_model(modelpath)\n",
    "    embeds = vae.encode(torch.tensor(dataset,dtype=torch.float),\n",
    "                       torch.tensor(np.zeros((len(dataset),0)),dtype=torch.float)\n",
    "                       )[0].detach().cpu().numpy()\n",
    "    pts = np.linspace(np.min(embeds[:,0]),np.max(embeds[:,0]),100).reshape((-1,1))\n",
    "    readout = vae.decode(torch.tensor(pts,dtype=torch.float),\n",
    "              torch.tensor(np.zeros((len(pts),0)),dtype=torch.float))[0].detach().cpu()\n",
    "    \n",
    "    plt.scatter(dataset[:,0],dataset[:,1]);\n",
    "    plt.scatter(readout[:,0],readout[:,1], alpha=0.5);"
   ]
  },
  {
   "cell_type": "code",
   "execution_count": null,
   "metadata": {},
   "outputs": [],
   "source": []
  },
  {
   "cell_type": "code",
   "execution_count": null,
   "metadata": {},
   "outputs": [],
   "source": []
  },
  {
   "cell_type": "code",
   "execution_count": null,
   "metadata": {},
   "outputs": [],
   "source": []
  }
 ],
 "metadata": {
  "kernelspec": {
   "display_name": "Python 3",
   "language": "python",
   "name": "python3"
  },
  "language_info": {
   "codemirror_mode": {
    "name": "ipython",
    "version": 3
   },
   "file_extension": ".py",
   "mimetype": "text/x-python",
   "name": "python",
   "nbconvert_exporter": "python",
   "pygments_lexer": "ipython3",
   "version": "3.6.12"
  }
 },
 "nbformat": 4,
 "nbformat_minor": 5
}
